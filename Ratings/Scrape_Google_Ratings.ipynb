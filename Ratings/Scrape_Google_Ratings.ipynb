{
 "cells": [
  {
   "cell_type": "code",
   "execution_count": 202,
   "metadata": {
    "collapsed": false
   },
   "outputs": [],
   "source": [
    "import numpy as np\n",
    "import pandas as pd\n",
    "import matplotlib.pyplot as plt\n",
    "import sys\n",
    "import json\n",
    "import urllib.request as ulr\n",
    "from googleplaces import GooglePlaces, types, lang\n",
    "YOUR_API_KEY = #<Put your Google API key here as a string>"
   ]
  },
  {
   "cell_type": "code",
   "execution_count": 7,
   "metadata": {
    "collapsed": true
   },
   "outputs": [],
   "source": [
    "pd.set_option('max_rows', 10)"
   ]
  },
  {
   "cell_type": "markdown",
   "metadata": {},
   "source": [
    "## Load health inspection and weather data"
   ]
  },
  {
   "cell_type": "code",
   "execution_count": 9,
   "metadata": {
    "collapsed": false
   },
   "outputs": [],
   "source": [
    "violations_df = pd.read_csv('../Geocoding/health_inspect_cleaned_loc_added.csv', index_col=0) # file is in GitHub\n",
    "dba_df = pd.read_csv('camis_dba.csv', index_col = 0)\n",
    "weather_df = pd.read_csv('../Weather/weather_data.csv') # file is in GitHub"
   ]
  },
  {
   "cell_type": "markdown",
   "metadata": {},
   "source": [
    "### Add temperature and humidity columns to health inspection data"
   ]
  },
  {
   "cell_type": "code",
   "execution_count": 10,
   "metadata": {
    "collapsed": false
   },
   "outputs": [
    {
     "data": {
      "text/html": [
       "<div>\n",
       "<table border=\"1\" class=\"dataframe\">\n",
       "  <thead>\n",
       "    <tr style=\"text-align: right;\">\n",
       "      <th></th>\n",
       "      <th>crit_violations</th>\n",
       "      <th>non_crit_violations</th>\n",
       "      <th>earliest_inspection</th>\n",
       "      <th>latest_inspection</th>\n",
       "      <th>second_latest_inspection</th>\n",
       "      <th>zipcode</th>\n",
       "      <th>boro</th>\n",
       "      <th>cuisine</th>\n",
       "      <th>address</th>\n",
       "      <th>num_inspections</th>\n",
       "      <th>...</th>\n",
       "      <th>time_since_last_inspection</th>\n",
       "      <th>time_since_first_inspection</th>\n",
       "      <th>crit_v_2plus</th>\n",
       "      <th>address2</th>\n",
       "      <th>latitude</th>\n",
       "      <th>longitude</th>\n",
       "      <th>3-day temp</th>\n",
       "      <th>3-day humidity</th>\n",
       "      <th>names</th>\n",
       "      <th>search_info</th>\n",
       "    </tr>\n",
       "  </thead>\n",
       "  <tbody>\n",
       "    <tr>\n",
       "      <th>30075445</th>\n",
       "      <td>8.0</td>\n",
       "      <td>4.0</td>\n",
       "      <td>2013-08-14</td>\n",
       "      <td>2016-02-18</td>\n",
       "      <td>2015-02-09</td>\n",
       "      <td>10462</td>\n",
       "      <td>BRONX</td>\n",
       "      <td>Bakery</td>\n",
       "      <td>1007 MORRIS PARK AVE</td>\n",
       "      <td>5</td>\n",
       "      <td>...</td>\n",
       "      <td>374</td>\n",
       "      <td>918</td>\n",
       "      <td>0</td>\n",
       "      <td>1007 MORRIS PARK AVE, NY</td>\n",
       "      <td>40.848537</td>\n",
       "      <td>-73.856123</td>\n",
       "      <td>33.666667</td>\n",
       "      <td>50.000000</td>\n",
       "      <td>morris park bake shop</td>\n",
       "      <td>morris park bake shop 1007 MORRIS PARK AVE, NY</td>\n",
       "    </tr>\n",
       "    <tr>\n",
       "      <th>30112340</th>\n",
       "      <td>14.0</td>\n",
       "      <td>10.0</td>\n",
       "      <td>2014-06-05</td>\n",
       "      <td>2016-10-27</td>\n",
       "      <td>2016-10-03</td>\n",
       "      <td>11225</td>\n",
       "      <td>BROOKLYN</td>\n",
       "      <td>Hamburgers</td>\n",
       "      <td>469 FLATBUSH AVENUE</td>\n",
       "      <td>9</td>\n",
       "      <td>...</td>\n",
       "      <td>24</td>\n",
       "      <td>875</td>\n",
       "      <td>0</td>\n",
       "      <td>469 FLATBUSH AVENUE, NY</td>\n",
       "      <td>40.662930</td>\n",
       "      <td>-73.961726</td>\n",
       "      <td>74.000000</td>\n",
       "      <td>72.000000</td>\n",
       "      <td>wendy's</td>\n",
       "      <td>wendy's 469 FLATBUSH AVENUE, NY</td>\n",
       "    </tr>\n",
       "    <tr>\n",
       "      <th>30191841</th>\n",
       "      <td>4.0</td>\n",
       "      <td>7.0</td>\n",
       "      <td>2013-07-22</td>\n",
       "      <td>2016-05-31</td>\n",
       "      <td>2015-09-21</td>\n",
       "      <td>10019</td>\n",
       "      <td>MANHATTAN</td>\n",
       "      <td>Irish</td>\n",
       "      <td>351 WEST   57 STREET</td>\n",
       "      <td>5</td>\n",
       "      <td>...</td>\n",
       "      <td>253</td>\n",
       "      <td>1044</td>\n",
       "      <td>0</td>\n",
       "      <td>351 WEST   57 STREET, NY</td>\n",
       "      <td>40.767821</td>\n",
       "      <td>-73.984981</td>\n",
       "      <td>35.000000</td>\n",
       "      <td>69.333333</td>\n",
       "      <td>dj reynolds pub and restaurant</td>\n",
       "      <td>dj reynolds pub and restaurant 351 WEST   57 S...</td>\n",
       "    </tr>\n",
       "    <tr>\n",
       "      <th>40356018</th>\n",
       "      <td>1.0</td>\n",
       "      <td>7.0</td>\n",
       "      <td>2013-06-05</td>\n",
       "      <td>2016-05-16</td>\n",
       "      <td>2015-06-05</td>\n",
       "      <td>11224</td>\n",
       "      <td>BROOKLYN</td>\n",
       "      <td>American</td>\n",
       "      <td>2780 STILLWELL AVENUE</td>\n",
       "      <td>4</td>\n",
       "      <td>...</td>\n",
       "      <td>346</td>\n",
       "      <td>1076</td>\n",
       "      <td>0</td>\n",
       "      <td>2780 STILLWELL AVENUE, NY</td>\n",
       "      <td>40.579526</td>\n",
       "      <td>-73.982426</td>\n",
       "      <td>55.000000</td>\n",
       "      <td>63.333333</td>\n",
       "      <td>riviera caterer</td>\n",
       "      <td>riviera caterer 2780 STILLWELL AVENUE, NY</td>\n",
       "    </tr>\n",
       "    <tr>\n",
       "      <th>40356151</th>\n",
       "      <td>13.0</td>\n",
       "      <td>5.0</td>\n",
       "      <td>2014-04-11</td>\n",
       "      <td>2016-05-14</td>\n",
       "      <td>2015-05-29</td>\n",
       "      <td>11369</td>\n",
       "      <td>QUEENS</td>\n",
       "      <td>American</td>\n",
       "      <td>8825 ASTORIA BOULEVARD</td>\n",
       "      <td>7</td>\n",
       "      <td>...</td>\n",
       "      <td>351</td>\n",
       "      <td>764</td>\n",
       "      <td>0</td>\n",
       "      <td>8825 ASTORIA BOULEVARD, NY</td>\n",
       "      <td>40.772354</td>\n",
       "      <td>-73.931502</td>\n",
       "      <td>43.000000</td>\n",
       "      <td>61.666667</td>\n",
       "      <td>brunos on the boulevard</td>\n",
       "      <td>brunos on the boulevard 8825 ASTORIA BOULEVARD...</td>\n",
       "    </tr>\n",
       "    <tr>\n",
       "      <th>...</th>\n",
       "      <td>...</td>\n",
       "      <td>...</td>\n",
       "      <td>...</td>\n",
       "      <td>...</td>\n",
       "      <td>...</td>\n",
       "      <td>...</td>\n",
       "      <td>...</td>\n",
       "      <td>...</td>\n",
       "      <td>...</td>\n",
       "      <td>...</td>\n",
       "      <td>...</td>\n",
       "      <td>...</td>\n",
       "      <td>...</td>\n",
       "      <td>...</td>\n",
       "      <td>...</td>\n",
       "      <td>...</td>\n",
       "      <td>...</td>\n",
       "      <td>...</td>\n",
       "      <td>...</td>\n",
       "      <td>...</td>\n",
       "      <td>...</td>\n",
       "    </tr>\n",
       "    <tr>\n",
       "      <th>50060427</th>\n",
       "      <td>10.0</td>\n",
       "      <td>4.0</td>\n",
       "      <td>2017-03-07</td>\n",
       "      <td>2017-04-06</td>\n",
       "      <td>2017-03-20</td>\n",
       "      <td>11217</td>\n",
       "      <td>BROOKLYN</td>\n",
       "      <td>Bagels/Pretzels</td>\n",
       "      <td>73 LAFAYETTE AVE</td>\n",
       "      <td>3</td>\n",
       "      <td>...</td>\n",
       "      <td>17</td>\n",
       "      <td>30</td>\n",
       "      <td>1</td>\n",
       "      <td>73 LAFAYETTE AVE, NY</td>\n",
       "      <td>40.687281</td>\n",
       "      <td>-73.975386</td>\n",
       "      <td>57.000000</td>\n",
       "      <td>69.000000</td>\n",
       "      <td>la bagel delight</td>\n",
       "      <td>la bagel delight 73 LAFAYETTE AVE, NY</td>\n",
       "    </tr>\n",
       "    <tr>\n",
       "      <th>50060496</th>\n",
       "      <td>7.0</td>\n",
       "      <td>4.0</td>\n",
       "      <td>2017-02-27</td>\n",
       "      <td>2017-03-31</td>\n",
       "      <td>2017-02-27</td>\n",
       "      <td>11232</td>\n",
       "      <td>BROOKLYN</td>\n",
       "      <td>Delicatessen</td>\n",
       "      <td>4102 3RD AVE</td>\n",
       "      <td>2</td>\n",
       "      <td>...</td>\n",
       "      <td>32</td>\n",
       "      <td>32</td>\n",
       "      <td>1</td>\n",
       "      <td>4102 3RD AVE, NY</td>\n",
       "      <td>40.652797</td>\n",
       "      <td>-74.009697</td>\n",
       "      <td>50.000000</td>\n",
       "      <td>42.666667</td>\n",
       "      <td>cousins deli restaurant</td>\n",
       "      <td>cousins deli restaurant 4102 3RD AVE, NY</td>\n",
       "    </tr>\n",
       "    <tr>\n",
       "      <th>50060695</th>\n",
       "      <td>7.0</td>\n",
       "      <td>4.0</td>\n",
       "      <td>2017-04-04</td>\n",
       "      <td>2017-04-10</td>\n",
       "      <td>2017-04-04</td>\n",
       "      <td>11432</td>\n",
       "      <td>QUEENS</td>\n",
       "      <td>Pizza</td>\n",
       "      <td>16417 JAMAICA AVE</td>\n",
       "      <td>2</td>\n",
       "      <td>...</td>\n",
       "      <td>6</td>\n",
       "      <td>6</td>\n",
       "      <td>0</td>\n",
       "      <td>16417 JAMAICA AVE, NY</td>\n",
       "      <td>40.723242</td>\n",
       "      <td>-73.728041</td>\n",
       "      <td>53.666667</td>\n",
       "      <td>62.000000</td>\n",
       "      <td>2 bros pizza</td>\n",
       "      <td>2 bros pizza 16417 JAMAICA AVE, NY</td>\n",
       "    </tr>\n",
       "    <tr>\n",
       "      <th>50060807</th>\n",
       "      <td>2.0</td>\n",
       "      <td>2.0</td>\n",
       "      <td>2017-03-09</td>\n",
       "      <td>2017-03-20</td>\n",
       "      <td>2017-03-09</td>\n",
       "      <td>10467</td>\n",
       "      <td>BRONX</td>\n",
       "      <td>Chinese</td>\n",
       "      <td>2861 WHITE PLAINS RD</td>\n",
       "      <td>2</td>\n",
       "      <td>...</td>\n",
       "      <td>11</td>\n",
       "      <td>11</td>\n",
       "      <td>0</td>\n",
       "      <td>2861 WHITE PLAINS RD, NY</td>\n",
       "      <td>40.867355</td>\n",
       "      <td>-73.867400</td>\n",
       "      <td>78.000000</td>\n",
       "      <td>68.000000</td>\n",
       "      <td>century chinese food</td>\n",
       "      <td>century chinese food 2861 WHITE PLAINS RD, NY</td>\n",
       "    </tr>\n",
       "    <tr>\n",
       "      <th>50060808</th>\n",
       "      <td>8.0</td>\n",
       "      <td>4.0</td>\n",
       "      <td>2017-03-09</td>\n",
       "      <td>2017-03-27</td>\n",
       "      <td>2017-03-23</td>\n",
       "      <td>11428</td>\n",
       "      <td>QUEENS</td>\n",
       "      <td>Bakery</td>\n",
       "      <td>21023 JAMAICA AVE</td>\n",
       "      <td>3</td>\n",
       "      <td>...</td>\n",
       "      <td>4</td>\n",
       "      <td>18</td>\n",
       "      <td>0</td>\n",
       "      <td>21023 JAMAICA AVE, NY</td>\n",
       "      <td>40.723242</td>\n",
       "      <td>-73.728041</td>\n",
       "      <td>33.000000</td>\n",
       "      <td>54.333333</td>\n",
       "      <td>abou bakery</td>\n",
       "      <td>abou bakery 21023 JAMAICA AVE, NY</td>\n",
       "    </tr>\n",
       "  </tbody>\n",
       "</table>\n",
       "<p>22330 rows × 27 columns</p>\n",
       "</div>"
      ],
      "text/plain": [
       "          crit_violations  non_crit_violations earliest_inspection  \\\n",
       "30075445              8.0                  4.0          2013-08-14   \n",
       "30112340             14.0                 10.0          2014-06-05   \n",
       "30191841              4.0                  7.0          2013-07-22   \n",
       "40356018              1.0                  7.0          2013-06-05   \n",
       "40356151             13.0                  5.0          2014-04-11   \n",
       "...                   ...                  ...                 ...   \n",
       "50060427             10.0                  4.0          2017-03-07   \n",
       "50060496              7.0                  4.0          2017-02-27   \n",
       "50060695              7.0                  4.0          2017-04-04   \n",
       "50060807              2.0                  2.0          2017-03-09   \n",
       "50060808              8.0                  4.0          2017-03-09   \n",
       "\n",
       "         latest_inspection second_latest_inspection  zipcode       boro  \\\n",
       "30075445        2016-02-18               2015-02-09    10462      BRONX   \n",
       "30112340        2016-10-27               2016-10-03    11225   BROOKLYN   \n",
       "30191841        2016-05-31               2015-09-21    10019  MANHATTAN   \n",
       "40356018        2016-05-16               2015-06-05    11224   BROOKLYN   \n",
       "40356151        2016-05-14               2015-05-29    11369     QUEENS   \n",
       "...                    ...                      ...      ...        ...   \n",
       "50060427        2017-04-06               2017-03-20    11217   BROOKLYN   \n",
       "50060496        2017-03-31               2017-02-27    11232   BROOKLYN   \n",
       "50060695        2017-04-10               2017-04-04    11432     QUEENS   \n",
       "50060807        2017-03-20               2017-03-09    10467      BRONX   \n",
       "50060808        2017-03-27               2017-03-23    11428     QUEENS   \n",
       "\n",
       "                  cuisine                 address  num_inspections  \\\n",
       "30075445           Bakery    1007 MORRIS PARK AVE                5   \n",
       "30112340       Hamburgers     469 FLATBUSH AVENUE                9   \n",
       "30191841            Irish    351 WEST   57 STREET                5   \n",
       "40356018         American   2780 STILLWELL AVENUE                4   \n",
       "40356151         American  8825 ASTORIA BOULEVARD                7   \n",
       "...                   ...                     ...              ...   \n",
       "50060427  Bagels/Pretzels        73 LAFAYETTE AVE                3   \n",
       "50060496     Delicatessen            4102 3RD AVE                2   \n",
       "50060695            Pizza       16417 JAMAICA AVE                2   \n",
       "50060807          Chinese    2861 WHITE PLAINS RD                2   \n",
       "50060808           Bakery       21023 JAMAICA AVE                3   \n",
       "\n",
       "                                ...                          \\\n",
       "30075445                        ...                           \n",
       "30112340                        ...                           \n",
       "30191841                        ...                           \n",
       "40356018                        ...                           \n",
       "40356151                        ...                           \n",
       "...                             ...                           \n",
       "50060427                        ...                           \n",
       "50060496                        ...                           \n",
       "50060695                        ...                           \n",
       "50060807                        ...                           \n",
       "50060808                        ...                           \n",
       "\n",
       "          time_since_last_inspection  time_since_first_inspection  \\\n",
       "30075445                         374                          918   \n",
       "30112340                          24                          875   \n",
       "30191841                         253                         1044   \n",
       "40356018                         346                         1076   \n",
       "40356151                         351                          764   \n",
       "...                              ...                          ...   \n",
       "50060427                          17                           30   \n",
       "50060496                          32                           32   \n",
       "50060695                           6                            6   \n",
       "50060807                          11                           11   \n",
       "50060808                           4                           18   \n",
       "\n",
       "          crit_v_2plus                    address2   latitude  longitude  \\\n",
       "30075445             0    1007 MORRIS PARK AVE, NY  40.848537 -73.856123   \n",
       "30112340             0     469 FLATBUSH AVENUE, NY  40.662930 -73.961726   \n",
       "30191841             0    351 WEST   57 STREET, NY  40.767821 -73.984981   \n",
       "40356018             0   2780 STILLWELL AVENUE, NY  40.579526 -73.982426   \n",
       "40356151             0  8825 ASTORIA BOULEVARD, NY  40.772354 -73.931502   \n",
       "...                ...                         ...        ...        ...   \n",
       "50060427             1        73 LAFAYETTE AVE, NY  40.687281 -73.975386   \n",
       "50060496             1            4102 3RD AVE, NY  40.652797 -74.009697   \n",
       "50060695             0       16417 JAMAICA AVE, NY  40.723242 -73.728041   \n",
       "50060807             0    2861 WHITE PLAINS RD, NY  40.867355 -73.867400   \n",
       "50060808             0       21023 JAMAICA AVE, NY  40.723242 -73.728041   \n",
       "\n",
       "          3-day temp  3-day humidity                           names  \\\n",
       "30075445   33.666667       50.000000           morris park bake shop   \n",
       "30112340   74.000000       72.000000                         wendy's   \n",
       "30191841   35.000000       69.333333  dj reynolds pub and restaurant   \n",
       "40356018   55.000000       63.333333                 riviera caterer   \n",
       "40356151   43.000000       61.666667         brunos on the boulevard   \n",
       "...              ...             ...                             ...   \n",
       "50060427   57.000000       69.000000                la bagel delight   \n",
       "50060496   50.000000       42.666667         cousins deli restaurant   \n",
       "50060695   53.666667       62.000000                    2 bros pizza   \n",
       "50060807   78.000000       68.000000            century chinese food   \n",
       "50060808   33.000000       54.333333                     abou bakery   \n",
       "\n",
       "                                                search_info  \n",
       "30075445     morris park bake shop 1007 MORRIS PARK AVE, NY  \n",
       "30112340                    wendy's 469 FLATBUSH AVENUE, NY  \n",
       "30191841  dj reynolds pub and restaurant 351 WEST   57 S...  \n",
       "40356018          riviera caterer 2780 STILLWELL AVENUE, NY  \n",
       "40356151  brunos on the boulevard 8825 ASTORIA BOULEVARD...  \n",
       "...                                                     ...  \n",
       "50060427              la bagel delight 73 LAFAYETTE AVE, NY  \n",
       "50060496           cousins deli restaurant 4102 3RD AVE, NY  \n",
       "50060695                 2 bros pizza 16417 JAMAICA AVE, NY  \n",
       "50060807      century chinese food 2861 WHITE PLAINS RD, NY  \n",
       "50060808                  abou bakery 21023 JAMAICA AVE, NY  \n",
       "\n",
       "[22330 rows x 27 columns]"
      ]
     },
     "execution_count": 10,
     "metadata": {},
     "output_type": "execute_result"
    }
   ],
   "source": [
    "violations_df['3-day temp'] = list(weather_df['3-day temp'])\n",
    "violations_df['3-day humidity'] = list(weather_df['3-day humidity'])\n",
    "violations_df = violations_df.merge(dba_df, left_index=True, right_index=True)\n",
    "violations_df['search_info'] = violations_df.names.str.cat(violations_df.address2, sep=' ')\n",
    "violations_df"
   ]
  },
  {
   "cell_type": "code",
   "execution_count": 2,
   "metadata": {
    "collapsed": false
   },
   "outputs": [],
   "source": [
    "\n",
    "\n",
    "#Grabbing and parsing the JSON data\n",
    "def GoogPlac(lat,lng,radius,key):\n",
    "    #making the url\n",
    "    AUTH_KEY = key\n",
    "    LOCATION = str(lat) + \",\" + str(lng)\n",
    "    RADIUS = radius\n",
    "    MyUrl = ('https://maps.googleapis.com/maps/api/place/nearbysearch/json'\n",
    "             '?location=%s'\n",
    "             '&radius=%s'\n",
    "             #'&types=%s'\n",
    "             '&sensor=false&key=%s') % (LOCATION, RADIUS,AUTH_KEY)\n",
    "    #grabbing the JSON result\n",
    "    response = ulr.urlopen(MyUrl)\n",
    "    data = response.read().decode(\"utf-8\")\n",
    "    data = json.loads(data)\n",
    "    return data\n",
    "def GoogPlacText(loc,radius,key):\n",
    "    #making the url\n",
    "    AUTH_KEY = key\n",
    "    LOCATION = loc.replace(' ', '+')\n",
    "    RADIUS = radius\n",
    "    MyUrl = ('https://maps.googleapis.com/maps/api/place/textsearch/json'\n",
    "             '?query=%s'\n",
    "             '&radius=%s'\n",
    "             '&sensor=false&key=%s') % (LOCATION, RADIUS,AUTH_KEY)\n",
    "    #grabbing the JSON result\n",
    "    response = ulr.urlopen(MyUrl)\n",
    "    data = response.read().decode(\"utf-8\")\n",
    "    data = json.loads(data)\n",
    "    return data\n",
    "\n",
    "def GoogPlacID(ID,key):\n",
    "    AUTH_KEY = key\n",
    "    PLACE_ID = ID\n",
    "    MyUrl = ('https://maps.googleapis.com/maps/api/place/details/json'\n",
    "             '?placeid=%s'\n",
    "             '&key=%s') % (PLACE_ID,AUTH_KEY)\n",
    "    #grabbing the JSON result\n",
    "    response = ulr.urlopen(MyUrl)\n",
    "    data = response.read().decode(\"utf-8\")\n",
    "    data = json.loads(data)\n",
    "    return data\n"
   ]
  },
  {
   "cell_type": "code",
   "execution_count": 29,
   "metadata": {
    "collapsed": false
   },
   "outputs": [],
   "source": [
    "pl_names_official = []\n",
    "pl_names_google = []\n",
    "pl_ratings = []\n",
    "search_failures = []\n",
    "failure_index = []\n",
    "ct = 0"
   ]
  },
  {
   "cell_type": "code",
   "execution_count": 60,
   "metadata": {
    "collapsed": false
   },
   "outputs": [
    {
     "name": "stderr",
     "output_type": "stream",
     "text": [
      "  2%|▏         | 140/8330 [02:17<1:54:38,  1.19it/s]"
     ]
    },
    {
     "name": "stdout",
     "output_type": "stream",
     "text": [
      "Failure 1050: blanca/severed heads 261 MOORE, NY\n"
     ]
    },
    {
     "name": "stderr",
     "output_type": "stream",
     "text": [
      "  5%|▌         | 419/8330 [06:49<2:04:13,  1.06it/s]"
     ]
    },
    {
     "name": "stdout",
     "output_type": "stream",
     "text": [
      "Failure 1075: the p insula new york/ clement/ the gotham lounge/ salon de ning 700 FIFTH AVE, NY\n"
     ]
    },
    {
     "name": "stderr",
     "output_type": "stream",
     "text": [
      "  8%|▊         | 652/8330 [10:32<1:37:13,  1.32it/s]"
     ]
    },
    {
     "name": "stdout",
     "output_type": "stream",
     "text": [
      "Failure 1100: cibo market NKA JFK  INTERNATIONAL AIRPORT, NY\n"
     ]
    },
    {
     "name": "stderr",
     "output_type": "stream",
     "text": [
      " 12%|█▏        | 1001/8330 [16:09<1:59:08,  1.03it/s]"
     ]
    },
    {
     "name": "stdout",
     "output_type": "stream",
     "text": [
      "Failure 1125: t 45 135 W 45TH ST, NY\n"
     ]
    },
    {
     "name": "stderr",
     "output_type": "stream",
     "text": [
      " 16%|█▌        | 1343/8330 [21:39<1:53:39,  1.02it/s]"
     ]
    },
    {
     "name": "stdout",
     "output_type": "stream",
     "text": [
      "Failure 1150: friend restaurant 11015 101ST AVE, NY\n"
     ]
    },
    {
     "name": "stderr",
     "output_type": "stream",
     "text": [
      " 19%|█▉        | 1617/8330 [26:24<1:50:30,  1.01it/s]"
     ]
    },
    {
     "name": "stdout",
     "output_type": "stream",
     "text": [
      "Failure 1175: patal asia deli grocery 135 E 28TH ST, NY\n"
     ]
    },
    {
     "name": "stderr",
     "output_type": "stream",
     "text": [
      " 23%|██▎       | 1899/8330 [30:49<1:32:45,  1.16it/s]"
     ]
    },
    {
     "name": "stdout",
     "output_type": "stream",
     "text": [
      "Failure 1200: el rancho vegano 2270 2ND AVE, NY\n"
     ]
    },
    {
     "name": "stderr",
     "output_type": "stream",
     "text": [
      " 26%|██▋       | 2200/8330 [35:29<1:33:49,  1.09it/s]"
     ]
    },
    {
     "name": "stdout",
     "output_type": "stream",
     "text": [
      "Failure 1225: mexican grill 341 HUNTS POINT TERMINAL MARKET, NY\n"
     ]
    },
    {
     "name": "stderr",
     "output_type": "stream",
     "text": [
      " 30%|██▉       | 2494/8330 [40:11<1:21:51,  1.19it/s]"
     ]
    },
    {
     "name": "stdout",
     "output_type": "stream",
     "text": [
      "Failure 1250: broadway bakery 8622 BROADWAY, NY\n"
     ]
    },
    {
     "name": "stderr",
     "output_type": "stream",
     "text": [
      " 33%|███▎      | 2778/8330 [44:41<1:28:11,  1.05it/s]"
     ]
    },
    {
     "name": "stdout",
     "output_type": "stream",
     "text": [
      "Failure 1275: deli & grill 5425 5TH AVE, NY\n"
     ]
    },
    {
     "name": "stderr",
     "output_type": "stream",
     "text": [
      " 36%|███▌      | 3008/8330 [48:25<1:16:25,  1.16it/s]"
     ]
    },
    {
     "name": "stdout",
     "output_type": "stream",
     "text": [
      "Failure 1300: le bernardin privã©/wine bar 151 W 51ST ST, NY\n"
     ]
    },
    {
     "name": "stderr",
     "output_type": "stream",
     "text": [
      " 39%|███▉      | 3260/8330 [52:28<1:30:26,  1.07s/it]"
     ]
    },
    {
     "name": "stdout",
     "output_type": "stream",
     "text": [
      "Failure 1325: hunt & fish club nyc 125 W 44TH ST, NY\n"
     ]
    },
    {
     "name": "stderr",
     "output_type": "stream",
     "text": [
      " 42%|████▏     | 3523/8330 [56:35<1:20:02,  1.00it/s]"
     ]
    },
    {
     "name": "stdout",
     "output_type": "stream",
     "text": [
      "Failure 1350: el nuevo roble billiards 216 E 170TH ST, NY\n"
     ]
    },
    {
     "name": "stderr",
     "output_type": "stream",
     "text": [
      " 46%|████▌     | 3846/8330 [1:01:37<1:15:40,  1.01s/it]"
     ]
    },
    {
     "name": "stdout",
     "output_type": "stream",
     "text": [
      "Failure 1375: combite creole 1728 NOSTRAND AVE, NY\n"
     ]
    },
    {
     "name": "stderr",
     "output_type": "stream",
     "text": [
      " 49%|████▉     | 4121/8330 [1:05:53<1:02:06,  1.13it/s]"
     ]
    },
    {
     "name": "stdout",
     "output_type": "stream",
     "text": [
      "Failure 1400: c & b 178 E 7TH ST, NY\n"
     ]
    },
    {
     "name": "stderr",
     "output_type": "stream",
     "text": [
      " 53%|█████▎    | 4425/8330 [1:10:49<56:03,  1.16it/s]"
     ]
    },
    {
     "name": "stdout",
     "output_type": "stream",
     "text": [
      "Failure 1425: maya cuisine 2442 STEINWAY ST, NY\n"
     ]
    },
    {
     "name": "stderr",
     "output_type": "stream",
     "text": [
      " 56%|█████▋    | 4706/8330 [1:15:30<51:03,  1.18it/s]"
     ]
    },
    {
     "name": "stdout",
     "output_type": "stream",
     "text": [
      "Failure 1450: europan cafe (gate 12) NKA JFK INTERNATIONAL AIRPORT, NY\n"
     ]
    },
    {
     "name": "stderr",
     "output_type": "stream",
     "text": [
      " 60%|██████    | 4999/8330 [1:20:11<46:22,  1.20it/s]"
     ]
    },
    {
     "name": "stdout",
     "output_type": "stream",
     "text": [
      "Failure 1475: mamma lorna's restaurant 3007 EASTCHESTER RD, NY\n"
     ]
    },
    {
     "name": "stderr",
     "output_type": "stream",
     "text": [
      " 64%|██████▍   | 5352/8330 [1:25:45<46:23,  1.07it/s]"
     ]
    },
    {
     "name": "stdout",
     "output_type": "stream",
     "text": [
      "Failure 1500: great wall shi's restaurant 527-9 LENOX AVE, NY\n"
     ]
    },
    {
     "name": "stderr",
     "output_type": "stream",
     "text": [
      " 67%|██████▋   | 5557/8330 [1:29:03<32:46,  1.41it/s]"
     ]
    },
    {
     "name": "stdout",
     "output_type": "stream",
     "text": [
      "Failure 1525: la fonda botanera restaurant 687 5TH AVE, NY\n"
     ]
    },
    {
     "name": "stderr",
     "output_type": "stream",
     "text": [
      " 70%|███████   | 5841/8330 [1:33:49<36:45,  1.13it/s]"
     ]
    },
    {
     "name": "stdout",
     "output_type": "stream",
     "text": [
      "Failure 1550: hello brooklyn 234 UNION AVE, NY\n"
     ]
    },
    {
     "name": "stderr",
     "output_type": "stream",
     "text": [
      " 74%|███████▍  | 6153/8330 [1:38:46<29:35,  1.23it/s]"
     ]
    },
    {
     "name": "stdout",
     "output_type": "stream",
     "text": [
      "Failure 1575: master smoothie 1219A CASTLE HILL AVE, NY\n"
     ]
    },
    {
     "name": "stderr",
     "output_type": "stream",
     "text": [
      " 76%|███████▌  | 6328/8330 [1:41:27<28:32,  1.17it/s]"
     ]
    },
    {
     "name": "stdout",
     "output_type": "stream",
     "text": [
      "Failure 1600: chang xing kitchen 243 BEACH 20TH ST, NY\n"
     ]
    },
    {
     "name": "stderr",
     "output_type": "stream",
     "text": [
      " 78%|███████▊  | 6523/8330 [1:44:25<26:15,  1.15it/s]"
     ]
    },
    {
     "name": "stdout",
     "output_type": "stream",
     "text": [
      "Failure 1625: sasa fengwai mifin 13620 ROOSEVELT AVE, NY\n"
     ]
    },
    {
     "name": "stderr",
     "output_type": "stream",
     "text": [
      " 82%|████████▏ | 6804/8330 [1:48:48<23:17,  1.09it/s]"
     ]
    },
    {
     "name": "stdout",
     "output_type": "stream",
     "text": [
      "Failure 1650: lin's lucky restaurant 4320 18TH AVE, NY\n"
     ]
    },
    {
     "name": "stderr",
     "output_type": "stream",
     "text": [
      " 84%|████████▍ | 6986/8330 [1:51:29<17:50,  1.26it/s]"
     ]
    },
    {
     "name": "stdout",
     "output_type": "stream",
     "text": [
      "Failure 1675: grab & go 2096 5TH AVE, NY\n"
     ]
    },
    {
     "name": "stderr",
     "output_type": "stream",
     "text": [
      " 87%|████████▋ | 7279/8330 [1:56:02<17:16,  1.01it/s]"
     ]
    },
    {
     "name": "stdout",
     "output_type": "stream",
     "text": [
      "Failure 1700: eat fresh ii 42 4TH AVE, NY\n"
     ]
    },
    {
     "name": "stderr",
     "output_type": "stream",
     "text": [
      " 90%|████████▉ | 7472/8330 [1:59:02<13:34,  1.05it/s]"
     ]
    },
    {
     "name": "stdout",
     "output_type": "stream",
     "text": [
      "Failure 1725: atoba 13335 ROOSEVELT AVE, NY\n"
     ]
    },
    {
     "name": "stderr",
     "output_type": "stream",
     "text": [
      " 92%|█████████▏| 7631/8330 [2:01:30<11:28,  1.02it/s]"
     ]
    },
    {
     "name": "stdout",
     "output_type": "stream",
     "text": [
      "Failure 1750: happy house seafood restaurant 5014 8TH AVE, NY\n"
     ]
    },
    {
     "name": "stderr",
     "output_type": "stream",
     "text": [
      " 94%|█████████▎| 7803/8330 [2:04:08<07:36,  1.15it/s]"
     ]
    },
    {
     "name": "stdout",
     "output_type": "stream",
     "text": [
      "Failure 1775: six2 restaurant & bakery 1101 CLARKSON AVE, NY\n"
     ]
    },
    {
     "name": "stderr",
     "output_type": "stream",
     "text": [
      " 96%|█████████▌| 7963/8330 [2:06:33<05:24,  1.13it/s]"
     ]
    },
    {
     "name": "stdout",
     "output_type": "stream",
     "text": [
      "Failure 1800: ace of hearts diner 2724 21ST ST, NY\n"
     ]
    },
    {
     "name": "stderr",
     "output_type": "stream",
     "text": [
      " 97%|█████████▋| 8112/8330 [2:08:50<03:04,  1.18it/s]"
     ]
    },
    {
     "name": "stdout",
     "output_type": "stream",
     "text": [
      "Failure 1825: clear lake 4429 9TH ST, NY\n"
     ]
    },
    {
     "name": "stderr",
     "output_type": "stream",
     "text": [
      " 99%|█████████▉| 8253/8330 [2:11:04<00:59,  1.30it/s]"
     ]
    },
    {
     "name": "stdout",
     "output_type": "stream",
     "text": [
      "Failure 1850: tbaar 13620 ROOSEVELT AVE, NY\n"
     ]
    },
    {
     "name": "stderr",
     "output_type": "stream",
     "text": [
      "100%|██████████| 8330/8330 [2:12:17<00:00,  1.09it/s]\n"
     ]
    }
   ],
   "source": [
    "from tqdm import tqdm \n",
    "import time\n",
    "\n",
    "#Adjust the range as needed for missing values\n",
    "for i in tqdm(np.arange(14000,violations_df.shape[0])):\n",
    "    try:\n",
    "        rest_name = violations_df['names'].iloc[i]\n",
    "        loc = violations_df['search_info'].iloc[i]\n",
    "        query = GoogPlacText(loc, 50, YOUR_API_KEY)\n",
    "        google_name = query['results'][0]['name'].lower()\n",
    "        google_rating = query['results'][0]['rating']\n",
    "        pl_names_official.append(rest_name)\n",
    "        pl_names_google.append(google_name)\n",
    "        pl_ratings.append(google_rating)\n",
    "\n",
    "\n",
    "    except:\n",
    "        ct = ct + 1\n",
    "        pl_names_official.append(violations_df['names'].iloc[i])\n",
    "        pl_names_google.append('SEARCH FAILURE')\n",
    "        pl_ratings.append(np.nan)\n",
    "        search_failures.append(violations_df['search_info'].iloc[i])\n",
    "        failure_index.append(i)\n",
    "        if np.mod(ct,25) == 0:\n",
    "            print('Failure ' + str(ct) + ': ' + str(violations_df['search_info'].iloc[i]))\n",
    "\n",
    "   "
   ]
  },
  {
   "cell_type": "code",
   "execution_count": 63,
   "metadata": {
    "collapsed": false
   },
   "outputs": [
    {
     "name": "stdout",
     "output_type": "stream",
     "text": [
      "22645\n",
      "22330\n",
      "22330\n",
      "1866\n",
      "1866\n"
     ]
    }
   ],
   "source": [
    "print(len(pl_names_official))\n",
    "print(len(pl_names_google))\n",
    "print(len(pl_ratings))\n",
    "print(len(search_failures))\n",
    "print(len(failure_index))"
   ]
  },
  {
   "cell_type": "code",
   "execution_count": 62,
   "metadata": {
    "collapsed": false
   },
   "outputs": [],
   "source": [
    "df_ratings = pd.DataFrame([violations_df['search_info'].values, pl_names_google, pl_ratings]).T\n",
    "df_ratings = df_ratings.rename(index=str, columns={0: 'search_info', 1: 'google_name', 2: 'rating'})\n",
    "df_ratings.index = violations_df.index\n",
    "df_ratings.to_csv('ratings0_23329.csv')"
   ]
  },
  {
   "cell_type": "markdown",
   "metadata": {},
   "source": [
    "### Rerun search on the previous failures after removing special characters"
   ]
  },
  {
   "cell_type": "code",
   "execution_count": 131,
   "metadata": {
    "collapsed": true
   },
   "outputs": [],
   "source": [
    "names_official_fail = []\n",
    "names_google_fail = []\n",
    "ratings_fail = []\n",
    "double_failure = []\n",
    "double_failure_index = []\n",
    "ct_fail = 0"
   ]
  },
  {
   "cell_type": "code",
   "execution_count": 132,
   "metadata": {
    "collapsed": false
   },
   "outputs": [
    {
     "name": "stderr",
     "output_type": "stream",
     "text": [
      "  3%|▎         | 48/1866 [00:35<16:24,  1.85it/s]"
     ]
    },
    {
     "name": "stdout",
     "output_type": "stream",
     "text": [
      "Failure 25: rosa #2 pizzeria 7559 METROPOLITAN AVENUE, NY\n"
     ]
    },
    {
     "name": "stderr",
     "output_type": "stream",
     "text": [
      "  4%|▍         | 77/1866 [00:58<25:31,  1.17it/s]"
     ]
    },
    {
     "name": "stdout",
     "output_type": "stream",
     "text": [
      "Failure 50: ing forman selz 230 PARK AVENUE, NY\n"
     ]
    },
    {
     "name": "stderr",
     "output_type": "stream",
     "text": [
      "  6%|▌         | 111/1866 [01:27<31:43,  1.08s/it]"
     ]
    },
    {
     "name": "stdout",
     "output_type": "stream",
     "text": [
      "Failure 75: afghan kebab house #1 764 9 AVENUE, NY\n"
     ]
    },
    {
     "name": "stderr",
     "output_type": "stream",
     "text": [
      "  8%|▊         | 152/1866 [01:59<24:49,  1.15it/s]"
     ]
    },
    {
     "name": "stdout",
     "output_type": "stream",
     "text": [
      "Failure 100: milan sports bar 7311 METROPOLITAN AVENUE, NY\n"
     ]
    },
    {
     "name": "stderr",
     "output_type": "stream",
     "text": [
      " 10%|█         | 191/1866 [02:24<24:06,  1.16it/s]"
     ]
    },
    {
     "name": "stdout",
     "output_type": "stream",
     "text": [
      "Failure 125: taj donut shop 8915 165 STREET, NY\n"
     ]
    },
    {
     "name": "stderr",
     "output_type": "stream",
     "text": [
      " 12%|█▏        | 228/1866 [02:56<21:12,  1.29it/s]"
     ]
    },
    {
     "name": "stdout",
     "output_type": "stream",
     "text": [
      "Failure 150: mani mani restaurant 16324 NORTHERN BOULEVARD, NY\n"
     ]
    },
    {
     "name": "stderr",
     "output_type": "stream",
     "text": [
      " 14%|█▍        | 264/1866 [03:24<18:55,  1.41it/s]"
     ]
    },
    {
     "name": "stdout",
     "output_type": "stream",
     "text": [
      "Failure 175: cool ice 1872 VICTORY BOULEVARD, NY\n"
     ]
    },
    {
     "name": "stderr",
     "output_type": "stream",
     "text": [
      " 16%|█▌        | 296/1866 [04:01<20:34,  1.27it/s]"
     ]
    },
    {
     "name": "stdout",
     "output_type": "stream",
     "text": [
      "Failure 200: stillwell soccer sports 1786 STILLWELL AVENUE, NY\n"
     ]
    },
    {
     "name": "stderr",
     "output_type": "stream",
     "text": [
      " 18%|█▊        | 327/1866 [04:25<19:12,  1.34it/s]"
     ]
    },
    {
     "name": "stdout",
     "output_type": "stream",
     "text": [
      "Failure 225: cafã gusto 111 JOHN STREET, NY\n"
     ]
    },
    {
     "name": "stderr",
     "output_type": "stream",
     "text": [
      " 20%|█▉        | 365/1866 [04:55<20:53,  1.20it/s]"
     ]
    },
    {
     "name": "stdout",
     "output_type": "stream",
     "text": [
      "Failure 250: b flat 277 CHURCH STREET, NY\n"
     ]
    },
    {
     "name": "stderr",
     "output_type": "stream",
     "text": [
      " 22%|██▏       | 404/1866 [06:03<39:37,  1.63s/it]"
     ]
    },
    {
     "name": "stdout",
     "output_type": "stream",
     "text": [
      "Failure 275: subway/red mango 1 UNIVERSITY PLAZA, NY\n"
     ]
    },
    {
     "name": "stderr",
     "output_type": "stream",
     "text": [
      " 23%|██▎       | 437/1866 [06:29<16:11,  1.47it/s]"
     ]
    },
    {
     "name": "stdout",
     "output_type": "stream",
     "text": [
      "Failure 300: employee cafeteria/cloister trie cafe NKA Fort Tryon Park, NY\n"
     ]
    },
    {
     "name": "stderr",
     "output_type": "stream",
     "text": [
      " 25%|██▌       | 469/1866 [06:54<20:57,  1.11it/s]"
     ]
    },
    {
     "name": "stdout",
     "output_type": "stream",
     "text": [
      "Failure 325: cafe con leche 10203 ROOSEVELT AVENUE, NY\n"
     ]
    },
    {
     "name": "stderr",
     "output_type": "stream",
     "text": [
      " 27%|██▋       | 501/1866 [07:19<12:47,  1.78it/s]"
     ]
    },
    {
     "name": "stdout",
     "output_type": "stream",
     "text": [
      "Failure 350: stand 123 126 ROOSEVELT AVENUE, NY\n"
     ]
    },
    {
     "name": "stderr",
     "output_type": "stream",
     "text": [
      " 28%|██▊       | 526/1866 [07:34<14:05,  1.58it/s]"
     ]
    },
    {
     "name": "stdout",
     "output_type": "stream",
     "text": [
      "Failure 375: dugout lounge inseat pantry 3b 1 EAST  161 STREET, NY\n"
     ]
    },
    {
     "name": "stderr",
     "output_type": "stream",
     "text": [
      " 30%|██▉       | 553/1866 [07:55<16:22,  1.34it/s]"
     ]
    },
    {
     "name": "stdout",
     "output_type": "stream",
     "text": [
      "Failure 400: late bar 16121 CROCHERON AVENUE, NY\n"
     ]
    },
    {
     "name": "stderr",
     "output_type": "stream",
     "text": [
      " 31%|███▏      | 585/1866 [08:19<15:48,  1.35it/s]"
     ]
    },
    {
     "name": "stdout",
     "output_type": "stream",
     "text": [
      "Failure 425: elevage 302 EAST 45 STREET, NY\n"
     ]
    },
    {
     "name": "stderr",
     "output_type": "stream",
     "text": [
      " 33%|███▎      | 616/1866 [08:43<16:22,  1.27it/s]"
     ]
    },
    {
     "name": "stdout",
     "output_type": "stream",
     "text": [
      "Failure 450: a.i.g.chartis 175 WATER STREET, NY\n"
     ]
    },
    {
     "name": "stderr",
     "output_type": "stream",
     "text": [
      " 35%|███▍      | 647/1866 [09:07<14:08,  1.44it/s]"
     ]
    },
    {
     "name": "stdout",
     "output_type": "stream",
     "text": [
      "Failure 475: guayacan bar & lounge 18417 JAMAICA AVENUE, NY\n"
     ]
    },
    {
     "name": "stderr",
     "output_type": "stream",
     "text": [
      " 36%|███▌      | 674/1866 [09:29<18:22,  1.08it/s]"
     ]
    },
    {
     "name": "stdout",
     "output_type": "stream",
     "text": [
      "Failure 500: prime tavern/delta terminal nan, NY\n"
     ]
    },
    {
     "name": "stderr",
     "output_type": "stream",
     "text": [
      " 38%|███▊      | 711/1866 [10:02<13:00,  1.48it/s]"
     ]
    },
    {
     "name": "stdout",
     "output_type": "stream",
     "text": [
      "Failure 525: milchig bp 4305 12 AVENUE, NY\n"
     ]
    },
    {
     "name": "stderr",
     "output_type": "stream",
     "text": [
      " 40%|███▉      | 741/1866 [10:22<13:08,  1.43it/s]"
     ]
    },
    {
     "name": "stdout",
     "output_type": "stream",
     "text": [
      "Failure 550: angela restaurant of ny 4012 13 AVENUE, NY\n"
     ]
    },
    {
     "name": "stderr",
     "output_type": "stream",
     "text": [
      " 42%|████▏     | 777/1866 [10:51<13:40,  1.33it/s]"
     ]
    },
    {
     "name": "stdout",
     "output_type": "stream",
     "text": [
      "Failure 575: olive young 16122 NORTHERN BOULEVARD, NY\n"
     ]
    },
    {
     "name": "stderr",
     "output_type": "stream",
     "text": [
      " 43%|████▎     | 804/1866 [11:11<12:51,  1.38it/s]"
     ]
    },
    {
     "name": "stdout",
     "output_type": "stream",
     "text": [
      "Failure 600: makumba restaurant and catering hall. 1880 CARTER AVENUE, NY\n"
     ]
    },
    {
     "name": "stderr",
     "output_type": "stream",
     "text": [
      " 45%|████▍     | 833/1866 [11:33<14:05,  1.22it/s]"
     ]
    },
    {
     "name": "stdout",
     "output_type": "stream",
     "text": [
      "Failure 625: signature cafe and bar 480 WEST   42 STREET, NY\n"
     ]
    },
    {
     "name": "stderr",
     "output_type": "stream",
     "text": [
      " 46%|████▋     | 864/1866 [11:54<11:37,  1.44it/s]"
     ]
    },
    {
     "name": "stdout",
     "output_type": "stream",
     "text": [
      "Failure 650: cafetal social club/ chachis 285 MOTT STREET, NY\n"
     ]
    },
    {
     "name": "stderr",
     "output_type": "stream",
     "text": [
      " 48%|████▊     | 897/1866 [12:35<12:53,  1.25it/s]"
     ]
    },
    {
     "name": "stdout",
     "output_type": "stream",
     "text": [
      "Failure 675: oh hot bagels & cafe 3944 21ST ST, NY\n"
     ]
    },
    {
     "name": "stderr",
     "output_type": "stream",
     "text": [
      " 50%|████▉     | 924/1866 [12:57<09:49,  1.60it/s]"
     ]
    },
    {
     "name": "stdout",
     "output_type": "stream",
     "text": [
      "Failure 700: triple t pizza & burgers 3740 BOSTON ROAD, NY\n"
     ]
    },
    {
     "name": "stderr",
     "output_type": "stream",
     "text": [
      " 51%|█████     | 954/1866 [13:22<13:52,  1.10it/s]"
     ]
    },
    {
     "name": "stdout",
     "output_type": "stream",
     "text": [
      "Failure 725: studio 9c 30 ROCKEFLLER PLAZA, NY\n"
     ]
    },
    {
     "name": "stderr",
     "output_type": "stream",
     "text": [
      " 53%|█████▎    | 982/1866 [14:08<1:45:39,  7.17s/it]"
     ]
    },
    {
     "name": "stdout",
     "output_type": "stream",
     "text": [
      "Failure 750: burgerfi 240 EAST   82 STREET, NY\n"
     ]
    },
    {
     "name": "stderr",
     "output_type": "stream",
     "text": [
      " 54%|█████▍    | 1008/1866 [14:26<08:20,  1.71it/s]"
     ]
    },
    {
     "name": "stdout",
     "output_type": "stream",
     "text": [
      "Failure 775: 729 bar & grill 20103 MURDOCK AVENUE, NY\n"
     ]
    },
    {
     "name": "stderr",
     "output_type": "stream",
     "text": [
      " 56%|█████▌    | 1043/1866 [15:03<43:11,  3.15s/it]"
     ]
    },
    {
     "name": "stdout",
     "output_type": "stream",
     "text": [
      "Failure 800: front page restaurant 4002 BRONXWOOD AVE, NY\n"
     ]
    },
    {
     "name": "stderr",
     "output_type": "stream",
     "text": [
      " 57%|█████▋    | 1070/1866 [15:29<11:47,  1.13it/s]"
     ]
    },
    {
     "name": "stdout",
     "output_type": "stream",
     "text": [
      "Failure 825: crown fried chicken 3351 BROADWAY, NY\n"
     ]
    },
    {
     "name": "stderr",
     "output_type": "stream",
     "text": [
      " 59%|█████▉    | 1100/1866 [15:50<05:41,  2.24it/s]"
     ]
    },
    {
     "name": "stdout",
     "output_type": "stream",
     "text": [
      "Failure 850: cibo market NKA JFK INTERNATIONAL AIRPORT, NY\n"
     ]
    },
    {
     "name": "stderr",
     "output_type": "stream",
     "text": [
      " 60%|██████    | 1127/1866 [16:10<09:37,  1.28it/s]"
     ]
    },
    {
     "name": "stdout",
     "output_type": "stream",
     "text": [
      "Failure 875: g&b terminal deli 22 BROOKLYN TERMINAL MARKET, NY\n"
     ]
    },
    {
     "name": "stderr",
     "output_type": "stream",
     "text": [
      " 62%|██████▏   | 1158/1866 [16:32<06:17,  1.87it/s]"
     ]
    },
    {
     "name": "stdout",
     "output_type": "stream",
     "text": [
      "Failure 900: npr food solutions 1588 WILLIAMSBRIDGE RD, NY\n"
     ]
    },
    {
     "name": "stderr",
     "output_type": "stream",
     "text": [
      " 64%|██████▍   | 1194/1866 [17:01<08:45,  1.28it/s]"
     ]
    },
    {
     "name": "stdout",
     "output_type": "stream",
     "text": [
      "Failure 925: salud y esperanza 2135 2ND AVE, NY\n"
     ]
    },
    {
     "name": "stderr",
     "output_type": "stream",
     "text": [
      " 65%|██████▌   | 1220/1866 [17:19<08:35,  1.25it/s]"
     ]
    },
    {
     "name": "stdout",
     "output_type": "stream",
     "text": [
      "Failure 950: doha 3834 31ST ST, NY\n"
     ]
    },
    {
     "name": "stderr",
     "output_type": "stream",
     "text": [
      " 67%|██████▋   | 1249/1866 [17:41<08:39,  1.19it/s]"
     ]
    },
    {
     "name": "stdout",
     "output_type": "stream",
     "text": [
      "Failure 975: skinnypizza 225 LIBERTY ST, NY\n"
     ]
    },
    {
     "name": "stderr",
     "output_type": "stream",
     "text": [
      " 69%|██████▊   | 1279/1866 [18:03<07:03,  1.38it/s]"
     ]
    },
    {
     "name": "stdout",
     "output_type": "stream",
     "text": [
      "Failure 1000: ivory dos 201 W 145TH ST, NY\n"
     ]
    },
    {
     "name": "stderr",
     "output_type": "stream",
     "text": [
      " 70%|███████   | 1310/1866 [18:26<06:14,  1.48it/s]"
     ]
    },
    {
     "name": "stdout",
     "output_type": "stream",
     "text": [
      "Failure 1025: flavors corner 1018 41ST AVE, NY\n"
     ]
    },
    {
     "name": "stderr",
     "output_type": "stream",
     "text": [
      " 72%|███████▏  | 1342/1866 [18:51<07:33,  1.15it/s]"
     ]
    },
    {
     "name": "stdout",
     "output_type": "stream",
     "text": [
      "Failure 1050: yang yang noodle 13335 ROOSEVELT AVE, NY\n"
     ]
    },
    {
     "name": "stderr",
     "output_type": "stream",
     "text": [
      " 74%|███████▎  | 1373/1866 [19:15<06:02,  1.36it/s]"
     ]
    },
    {
     "name": "stdout",
     "output_type": "stream",
     "text": [
      "Failure 1075: active health (herbalife) 137 CHARLES AVE, NY\n"
     ]
    },
    {
     "name": "stderr",
     "output_type": "stream",
     "text": [
      " 75%|███████▌  | 1406/1866 [19:40<05:52,  1.31it/s]"
     ]
    },
    {
     "name": "stdout",
     "output_type": "stream",
     "text": [
      "Failure 1100: m and m okun juice bar 4930 20TH AVE, NY\n"
     ]
    },
    {
     "name": "stderr",
     "output_type": "stream",
     "text": [
      " 77%|███████▋  | 1435/1866 [20:02<05:34,  1.29it/s]"
     ]
    },
    {
     "name": "stdout",
     "output_type": "stream",
     "text": [
      "Failure 1125: sweet bar-b-q 763 61ST ST, NY\n"
     ]
    },
    {
     "name": "stderr",
     "output_type": "stream",
     "text": [
      " 78%|███████▊  | 1462/1866 [20:33<04:16,  1.57it/s]"
     ]
    },
    {
     "name": "stdout",
     "output_type": "stream",
     "text": [
      "Failure 1150: pelican reef caterers 1260 FLATBUSH AVE, NY\n"
     ]
    },
    {
     "name": "stderr",
     "output_type": "stream",
     "text": [
      " 80%|███████▉  | 1489/1866 [20:53<04:38,  1.35it/s]"
     ]
    },
    {
     "name": "stdout",
     "output_type": "stream",
     "text": [
      "Failure 1175: hunter bar  888 4414 8TH AVE, NY\n"
     ]
    },
    {
     "name": "stderr",
     "output_type": "stream",
     "text": [
      " 81%|████████▏ | 1517/1866 [21:14<04:35,  1.27it/s]"
     ]
    },
    {
     "name": "stdout",
     "output_type": "stream",
     "text": [
      "Failure 1200: new east king 9021 63RD DR, NY\n"
     ]
    },
    {
     "name": "stderr",
     "output_type": "stream",
     "text": [
      " 83%|████████▎ | 1545/1866 [21:33<03:47,  1.41it/s]"
     ]
    },
    {
     "name": "stdout",
     "output_type": "stream",
     "text": [
      "Failure 1225: eat and go 15814 CROSSBAY BLVD, NY\n"
     ]
    },
    {
     "name": "stderr",
     "output_type": "stream",
     "text": [
      " 85%|████████▍ | 1578/1866 [22:00<03:28,  1.38it/s]"
     ]
    },
    {
     "name": "stdout",
     "output_type": "stream",
     "text": [
      "Failure 1250: primos variedades 4217 111TH ST, NY\n"
     ]
    },
    {
     "name": "stderr",
     "output_type": "stream",
     "text": [
      " 86%|████████▌ | 1608/1866 [22:21<02:03,  2.08it/s]"
     ]
    },
    {
     "name": "stdout",
     "output_type": "stream",
     "text": [
      "Failure 1275: red ryder brooklyn 685 BROADWAY, NY\n"
     ]
    },
    {
     "name": "stderr",
     "output_type": "stream",
     "text": [
      " 88%|████████▊ | 1635/1866 [22:41<02:49,  1.36it/s]"
     ]
    },
    {
     "name": "stdout",
     "output_type": "stream",
     "text": [
      "Failure 1300: iron mountain restaurant 4624 KISSENA BLVD, NY\n"
     ]
    },
    {
     "name": "stderr",
     "output_type": "stream",
     "text": [
      " 89%|████████▉ | 1662/1866 [23:01<01:35,  2.14it/s]"
     ]
    },
    {
     "name": "stdout",
     "output_type": "stream",
     "text": [
      "Failure 1325: tie ban you yu(korean & chinese food) 13620 ROOSEVELT AVE, NY\n"
     ]
    },
    {
     "name": "stderr",
     "output_type": "stream",
     "text": [
      " 90%|█████████ | 1688/1866 [23:21<02:24,  1.23it/s]"
     ]
    },
    {
     "name": "stdout",
     "output_type": "stream",
     "text": [
      "Failure 1350: so go cafe 37B ALLEN STREET, NY\n"
     ]
    },
    {
     "name": "stderr",
     "output_type": "stream",
     "text": [
      " 92%|█████████▏| 1715/1866 [23:40<01:56,  1.30it/s]"
     ]
    },
    {
     "name": "stdout",
     "output_type": "stream",
     "text": [
      "Failure 1375: lessings- bulova corporate center 7520 ASTORIA BLVD, NY\n"
     ]
    },
    {
     "name": "stderr",
     "output_type": "stream",
     "text": [
      " 93%|█████████▎| 1744/1866 [24:01<01:33,  1.31it/s]"
     ]
    },
    {
     "name": "stdout",
     "output_type": "stream",
     "text": [
      "Failure 1400: dino's tavern 4119 23RD AVE, NY\n"
     ]
    },
    {
     "name": "stderr",
     "output_type": "stream",
     "text": [
      " 95%|█████████▍| 1772/1866 [24:24<01:20,  1.17it/s]"
     ]
    },
    {
     "name": "stdout",
     "output_type": "stream",
     "text": [
      "Failure 1425: city island chinese restaurant 8486 CITY ISLAND AVE, NY\n"
     ]
    },
    {
     "name": "stderr",
     "output_type": "stream",
     "text": [
      " 97%|█████████▋| 1802/1866 [24:47<00:47,  1.35it/s]"
     ]
    },
    {
     "name": "stdout",
     "output_type": "stream",
     "text": [
      "Failure 1450: juice press 420 LEXINGTON AVE, NY\n"
     ]
    },
    {
     "name": "stderr",
     "output_type": "stream",
     "text": [
      " 98%|█████████▊| 1829/1866 [25:06<00:24,  1.48it/s]"
     ]
    },
    {
     "name": "stdout",
     "output_type": "stream",
     "text": [
      "Failure 1475: zero lounge 1472 OGDEN AVE, NY\n"
     ]
    },
    {
     "name": "stderr",
     "output_type": "stream",
     "text": [
      "100%|█████████▉| 1858/1866 [25:27<00:07,  1.10it/s]"
     ]
    },
    {
     "name": "stdout",
     "output_type": "stream",
     "text": [
      "Failure 1500: + 81 gallery new york 167 ELIZABETH ST, NY\n"
     ]
    },
    {
     "name": "stderr",
     "output_type": "stream",
     "text": [
      "100%|██████████| 1866/1866 [25:35<00:00,  1.07it/s]\n"
     ]
    }
   ],
   "source": [
    "for i in tqdm(np.arange(0,len(failure_index))):\n",
    "    try:\n",
    "        rest_name = violations_df['names'].iloc[failure_index[i]]\n",
    "        loc = violations_df['search_info'].iloc[failure_index[i]]\n",
    "        loc = loc.replace('# ', '')\n",
    "        loc = loc.replace('.', '')\n",
    "        loc = loc.replace(\"'\", '')\n",
    "        loc = loc.replace('&', '')\n",
    "        loc = loc.replace('  ', ' ')\n",
    "        loc = loc.replace('/', ' ')\n",
    "        query = GoogPlacText(loc, 3000, YOUR_API_KEY)\n",
    "        google_name = query['results'][0]['name'].lower()\n",
    "        google_rating = query['results'][0]['rating']\n",
    "        names_official_fail.append(rest_name)\n",
    "        names_google_fail.append(google_name)\n",
    "        ratings_fail.append(google_rating)\n",
    "\n",
    "\n",
    "    except:\n",
    "        ct_fail = ct_fail + 1\n",
    "        names_official_fail.append(violations_df['names'].iloc[failure_index[i]])\n",
    "        names_google_fail.append('SEARCH FAILURE')\n",
    "        ratings_fail.append(np.nan)\n",
    "        double_failure.append(violations_df['search_info'].iloc[failure_index[i]])\n",
    "        double_failure_index.append(failure_index[i])\n",
    "        if np.mod(ct_fail,25) == 0:\n",
    "            print('Failure ' + str(ct_fail) + ': ' + str(violations_df['search_info'].iloc[failure_index[i]]))\n"
   ]
  },
  {
   "cell_type": "code",
   "execution_count": 139,
   "metadata": {
    "collapsed": false
   },
   "outputs": [],
   "source": [
    "for i in range(len(failure_index)):\n",
    "    pl_names_google[failure_index[i]] = names_google_fail[i]\n",
    "    pl_ratings[failure_index[i]] = ratings_fail[i]"
   ]
  },
  {
   "cell_type": "code",
   "execution_count": 147,
   "metadata": {
    "collapsed": false
   },
   "outputs": [],
   "source": [
    "df_ratings = pd.DataFrame([violations_df['search_info'].values, pl_names_google, pl_ratings]).T\n",
    "df_ratings = df_ratings.rename(index=str, columns={0: 'search_info', 1: 'google_name', 2: 'rating'})\n",
    "df_ratings.index = violations_df.index\n",
    "df_ratings.to_csv('ratings0_23329.csv')"
   ]
  },
  {
   "cell_type": "markdown",
   "metadata": {},
   "source": [
    "### For restaurants that are missing ratings, we first try to impute based on the mean at the zipcode level\n",
    "#### If this fails, we use the overall mean, creating indicator variables at both stages"
   ]
  },
  {
   "cell_type": "code",
   "execution_count": 199,
   "metadata": {
    "collapsed": false
   },
   "outputs": [
    {
     "name": "stderr",
     "output_type": "stream",
     "text": [
      "100%|██████████| 1508/1508 [00:03<00:00, 435.40it/s]\n",
      "100%|██████████| 3/3 [00:00<00:00, 317.16it/s]\n"
     ]
    },
    {
     "data": {
      "text/html": [
       "<div>\n",
       "<table border=\"1\" class=\"dataframe\">\n",
       "  <thead>\n",
       "    <tr style=\"text-align: right;\">\n",
       "      <th></th>\n",
       "      <th>crit_violations</th>\n",
       "      <th>non_crit_violations</th>\n",
       "      <th>earliest_inspection</th>\n",
       "      <th>latest_inspection</th>\n",
       "      <th>second_latest_inspection</th>\n",
       "      <th>zipcode</th>\n",
       "      <th>boro</th>\n",
       "      <th>cuisine</th>\n",
       "      <th>address</th>\n",
       "      <th>num_inspections</th>\n",
       "      <th>...</th>\n",
       "      <th>address2</th>\n",
       "      <th>latitude</th>\n",
       "      <th>longitude</th>\n",
       "      <th>3-day temp</th>\n",
       "      <th>3-day humidity</th>\n",
       "      <th>names</th>\n",
       "      <th>search_info</th>\n",
       "      <th>rating</th>\n",
       "      <th>rating_null</th>\n",
       "      <th>rating_null_zip</th>\n",
       "    </tr>\n",
       "  </thead>\n",
       "  <tbody>\n",
       "    <tr>\n",
       "      <th>30075445</th>\n",
       "      <td>8.0</td>\n",
       "      <td>4.0</td>\n",
       "      <td>2013-08-14</td>\n",
       "      <td>2016-02-18</td>\n",
       "      <td>2015-02-09</td>\n",
       "      <td>10462</td>\n",
       "      <td>BRONX</td>\n",
       "      <td>Bakery</td>\n",
       "      <td>1007 MORRIS PARK AVE</td>\n",
       "      <td>5</td>\n",
       "      <td>...</td>\n",
       "      <td>1007 MORRIS PARK AVE, NY</td>\n",
       "      <td>40.848537</td>\n",
       "      <td>-73.856123</td>\n",
       "      <td>33.666667</td>\n",
       "      <td>50.000000</td>\n",
       "      <td>morris park bake shop</td>\n",
       "      <td>morris park bake shop 1007 MORRIS PARK AVE, NY</td>\n",
       "      <td>4.800000</td>\n",
       "      <td>0</td>\n",
       "      <td>0</td>\n",
       "    </tr>\n",
       "    <tr>\n",
       "      <th>30112340</th>\n",
       "      <td>14.0</td>\n",
       "      <td>10.0</td>\n",
       "      <td>2014-06-05</td>\n",
       "      <td>2016-10-27</td>\n",
       "      <td>2016-10-03</td>\n",
       "      <td>11225</td>\n",
       "      <td>BROOKLYN</td>\n",
       "      <td>Hamburgers</td>\n",
       "      <td>469 FLATBUSH AVENUE</td>\n",
       "      <td>9</td>\n",
       "      <td>...</td>\n",
       "      <td>469 FLATBUSH AVENUE, NY</td>\n",
       "      <td>40.662930</td>\n",
       "      <td>-73.961726</td>\n",
       "      <td>74.000000</td>\n",
       "      <td>72.000000</td>\n",
       "      <td>wendy's</td>\n",
       "      <td>wendy's 469 FLATBUSH AVENUE, NY</td>\n",
       "      <td>3.400000</td>\n",
       "      <td>0</td>\n",
       "      <td>0</td>\n",
       "    </tr>\n",
       "    <tr>\n",
       "      <th>30191841</th>\n",
       "      <td>4.0</td>\n",
       "      <td>7.0</td>\n",
       "      <td>2013-07-22</td>\n",
       "      <td>2016-05-31</td>\n",
       "      <td>2015-09-21</td>\n",
       "      <td>10019</td>\n",
       "      <td>MANHATTAN</td>\n",
       "      <td>Irish</td>\n",
       "      <td>351 WEST   57 STREET</td>\n",
       "      <td>5</td>\n",
       "      <td>...</td>\n",
       "      <td>351 WEST   57 STREET, NY</td>\n",
       "      <td>40.767821</td>\n",
       "      <td>-73.984981</td>\n",
       "      <td>35.000000</td>\n",
       "      <td>69.333333</td>\n",
       "      <td>dj reynolds pub and restaurant</td>\n",
       "      <td>dj reynolds pub and restaurant 351 WEST   57 S...</td>\n",
       "      <td>3.500000</td>\n",
       "      <td>0</td>\n",
       "      <td>0</td>\n",
       "    </tr>\n",
       "    <tr>\n",
       "      <th>40356018</th>\n",
       "      <td>1.0</td>\n",
       "      <td>7.0</td>\n",
       "      <td>2013-06-05</td>\n",
       "      <td>2016-05-16</td>\n",
       "      <td>2015-06-05</td>\n",
       "      <td>11224</td>\n",
       "      <td>BROOKLYN</td>\n",
       "      <td>American</td>\n",
       "      <td>2780 STILLWELL AVENUE</td>\n",
       "      <td>4</td>\n",
       "      <td>...</td>\n",
       "      <td>2780 STILLWELL AVENUE, NY</td>\n",
       "      <td>40.579526</td>\n",
       "      <td>-73.982426</td>\n",
       "      <td>55.000000</td>\n",
       "      <td>63.333333</td>\n",
       "      <td>riviera caterer</td>\n",
       "      <td>riviera caterer 2780 STILLWELL AVENUE, NY</td>\n",
       "      <td>4.800000</td>\n",
       "      <td>0</td>\n",
       "      <td>0</td>\n",
       "    </tr>\n",
       "    <tr>\n",
       "      <th>40356151</th>\n",
       "      <td>13.0</td>\n",
       "      <td>5.0</td>\n",
       "      <td>2014-04-11</td>\n",
       "      <td>2016-05-14</td>\n",
       "      <td>2015-05-29</td>\n",
       "      <td>11369</td>\n",
       "      <td>QUEENS</td>\n",
       "      <td>American</td>\n",
       "      <td>8825 ASTORIA BOULEVARD</td>\n",
       "      <td>7</td>\n",
       "      <td>...</td>\n",
       "      <td>8825 ASTORIA BOULEVARD, NY</td>\n",
       "      <td>40.772354</td>\n",
       "      <td>-73.931502</td>\n",
       "      <td>43.000000</td>\n",
       "      <td>61.666667</td>\n",
       "      <td>brunos on the boulevard</td>\n",
       "      <td>brunos on the boulevard 8825 ASTORIA BOULEVARD...</td>\n",
       "      <td>3.800000</td>\n",
       "      <td>0</td>\n",
       "      <td>0</td>\n",
       "    </tr>\n",
       "    <tr>\n",
       "      <th>...</th>\n",
       "      <td>...</td>\n",
       "      <td>...</td>\n",
       "      <td>...</td>\n",
       "      <td>...</td>\n",
       "      <td>...</td>\n",
       "      <td>...</td>\n",
       "      <td>...</td>\n",
       "      <td>...</td>\n",
       "      <td>...</td>\n",
       "      <td>...</td>\n",
       "      <td>...</td>\n",
       "      <td>...</td>\n",
       "      <td>...</td>\n",
       "      <td>...</td>\n",
       "      <td>...</td>\n",
       "      <td>...</td>\n",
       "      <td>...</td>\n",
       "      <td>...</td>\n",
       "      <td>...</td>\n",
       "      <td>...</td>\n",
       "      <td>...</td>\n",
       "    </tr>\n",
       "    <tr>\n",
       "      <th>50060427</th>\n",
       "      <td>10.0</td>\n",
       "      <td>4.0</td>\n",
       "      <td>2017-03-07</td>\n",
       "      <td>2017-04-06</td>\n",
       "      <td>2017-03-20</td>\n",
       "      <td>11217</td>\n",
       "      <td>BROOKLYN</td>\n",
       "      <td>Bagels/Pretzels</td>\n",
       "      <td>73 LAFAYETTE AVE</td>\n",
       "      <td>3</td>\n",
       "      <td>...</td>\n",
       "      <td>73 LAFAYETTE AVE, NY</td>\n",
       "      <td>40.687281</td>\n",
       "      <td>-73.975386</td>\n",
       "      <td>57.000000</td>\n",
       "      <td>69.000000</td>\n",
       "      <td>la bagel delight</td>\n",
       "      <td>la bagel delight 73 LAFAYETTE AVE, NY</td>\n",
       "      <td>4.100000</td>\n",
       "      <td>0</td>\n",
       "      <td>0</td>\n",
       "    </tr>\n",
       "    <tr>\n",
       "      <th>50060496</th>\n",
       "      <td>7.0</td>\n",
       "      <td>4.0</td>\n",
       "      <td>2017-02-27</td>\n",
       "      <td>2017-03-31</td>\n",
       "      <td>2017-02-27</td>\n",
       "      <td>11232</td>\n",
       "      <td>BROOKLYN</td>\n",
       "      <td>Delicatessen</td>\n",
       "      <td>4102 3RD AVE</td>\n",
       "      <td>2</td>\n",
       "      <td>...</td>\n",
       "      <td>4102 3RD AVE, NY</td>\n",
       "      <td>40.652797</td>\n",
       "      <td>-74.009697</td>\n",
       "      <td>50.000000</td>\n",
       "      <td>42.666667</td>\n",
       "      <td>cousins deli restaurant</td>\n",
       "      <td>cousins deli restaurant 4102 3RD AVE, NY</td>\n",
       "      <td>4.800000</td>\n",
       "      <td>0</td>\n",
       "      <td>0</td>\n",
       "    </tr>\n",
       "    <tr>\n",
       "      <th>50060695</th>\n",
       "      <td>7.0</td>\n",
       "      <td>4.0</td>\n",
       "      <td>2017-04-04</td>\n",
       "      <td>2017-04-10</td>\n",
       "      <td>2017-04-04</td>\n",
       "      <td>11432</td>\n",
       "      <td>QUEENS</td>\n",
       "      <td>Pizza</td>\n",
       "      <td>16417 JAMAICA AVE</td>\n",
       "      <td>2</td>\n",
       "      <td>...</td>\n",
       "      <td>16417 JAMAICA AVE, NY</td>\n",
       "      <td>40.723242</td>\n",
       "      <td>-73.728041</td>\n",
       "      <td>53.666667</td>\n",
       "      <td>62.000000</td>\n",
       "      <td>2 bros pizza</td>\n",
       "      <td>2 bros pizza 16417 JAMAICA AVE, NY</td>\n",
       "      <td>3.792806</td>\n",
       "      <td>1</td>\n",
       "      <td>0</td>\n",
       "    </tr>\n",
       "    <tr>\n",
       "      <th>50060807</th>\n",
       "      <td>2.0</td>\n",
       "      <td>2.0</td>\n",
       "      <td>2017-03-09</td>\n",
       "      <td>2017-03-20</td>\n",
       "      <td>2017-03-09</td>\n",
       "      <td>10467</td>\n",
       "      <td>BRONX</td>\n",
       "      <td>Chinese</td>\n",
       "      <td>2861 WHITE PLAINS RD</td>\n",
       "      <td>2</td>\n",
       "      <td>...</td>\n",
       "      <td>2861 WHITE PLAINS RD, NY</td>\n",
       "      <td>40.867355</td>\n",
       "      <td>-73.867400</td>\n",
       "      <td>78.000000</td>\n",
       "      <td>68.000000</td>\n",
       "      <td>century chinese food</td>\n",
       "      <td>century chinese food 2861 WHITE PLAINS RD, NY</td>\n",
       "      <td>3.700000</td>\n",
       "      <td>0</td>\n",
       "      <td>0</td>\n",
       "    </tr>\n",
       "    <tr>\n",
       "      <th>50060808</th>\n",
       "      <td>8.0</td>\n",
       "      <td>4.0</td>\n",
       "      <td>2017-03-09</td>\n",
       "      <td>2017-03-27</td>\n",
       "      <td>2017-03-23</td>\n",
       "      <td>11428</td>\n",
       "      <td>QUEENS</td>\n",
       "      <td>Bakery</td>\n",
       "      <td>21023 JAMAICA AVE</td>\n",
       "      <td>3</td>\n",
       "      <td>...</td>\n",
       "      <td>21023 JAMAICA AVE, NY</td>\n",
       "      <td>40.723242</td>\n",
       "      <td>-73.728041</td>\n",
       "      <td>33.000000</td>\n",
       "      <td>54.333333</td>\n",
       "      <td>abou bakery</td>\n",
       "      <td>abou bakery 21023 JAMAICA AVE, NY</td>\n",
       "      <td>5.000000</td>\n",
       "      <td>0</td>\n",
       "      <td>0</td>\n",
       "    </tr>\n",
       "  </tbody>\n",
       "</table>\n",
       "<p>22330 rows × 30 columns</p>\n",
       "</div>"
      ],
      "text/plain": [
       "          crit_violations  non_crit_violations earliest_inspection  \\\n",
       "30075445              8.0                  4.0          2013-08-14   \n",
       "30112340             14.0                 10.0          2014-06-05   \n",
       "30191841              4.0                  7.0          2013-07-22   \n",
       "40356018              1.0                  7.0          2013-06-05   \n",
       "40356151             13.0                  5.0          2014-04-11   \n",
       "...                   ...                  ...                 ...   \n",
       "50060427             10.0                  4.0          2017-03-07   \n",
       "50060496              7.0                  4.0          2017-02-27   \n",
       "50060695              7.0                  4.0          2017-04-04   \n",
       "50060807              2.0                  2.0          2017-03-09   \n",
       "50060808              8.0                  4.0          2017-03-09   \n",
       "\n",
       "         latest_inspection second_latest_inspection  zipcode       boro  \\\n",
       "30075445        2016-02-18               2015-02-09    10462      BRONX   \n",
       "30112340        2016-10-27               2016-10-03    11225   BROOKLYN   \n",
       "30191841        2016-05-31               2015-09-21    10019  MANHATTAN   \n",
       "40356018        2016-05-16               2015-06-05    11224   BROOKLYN   \n",
       "40356151        2016-05-14               2015-05-29    11369     QUEENS   \n",
       "...                    ...                      ...      ...        ...   \n",
       "50060427        2017-04-06               2017-03-20    11217   BROOKLYN   \n",
       "50060496        2017-03-31               2017-02-27    11232   BROOKLYN   \n",
       "50060695        2017-04-10               2017-04-04    11432     QUEENS   \n",
       "50060807        2017-03-20               2017-03-09    10467      BRONX   \n",
       "50060808        2017-03-27               2017-03-23    11428     QUEENS   \n",
       "\n",
       "                  cuisine                 address  num_inspections  \\\n",
       "30075445           Bakery    1007 MORRIS PARK AVE                5   \n",
       "30112340       Hamburgers     469 FLATBUSH AVENUE                9   \n",
       "30191841            Irish    351 WEST   57 STREET                5   \n",
       "40356018         American   2780 STILLWELL AVENUE                4   \n",
       "40356151         American  8825 ASTORIA BOULEVARD                7   \n",
       "...                   ...                     ...              ...   \n",
       "50060427  Bagels/Pretzels        73 LAFAYETTE AVE                3   \n",
       "50060496     Delicatessen            4102 3RD AVE                2   \n",
       "50060695            Pizza       16417 JAMAICA AVE                2   \n",
       "50060807          Chinese    2861 WHITE PLAINS RD                2   \n",
       "50060808           Bakery       21023 JAMAICA AVE                3   \n",
       "\n",
       "               ...                           address2   latitude  longitude  \\\n",
       "30075445       ...           1007 MORRIS PARK AVE, NY  40.848537 -73.856123   \n",
       "30112340       ...            469 FLATBUSH AVENUE, NY  40.662930 -73.961726   \n",
       "30191841       ...           351 WEST   57 STREET, NY  40.767821 -73.984981   \n",
       "40356018       ...          2780 STILLWELL AVENUE, NY  40.579526 -73.982426   \n",
       "40356151       ...         8825 ASTORIA BOULEVARD, NY  40.772354 -73.931502   \n",
       "...            ...                                ...        ...        ...   \n",
       "50060427       ...               73 LAFAYETTE AVE, NY  40.687281 -73.975386   \n",
       "50060496       ...                   4102 3RD AVE, NY  40.652797 -74.009697   \n",
       "50060695       ...              16417 JAMAICA AVE, NY  40.723242 -73.728041   \n",
       "50060807       ...           2861 WHITE PLAINS RD, NY  40.867355 -73.867400   \n",
       "50060808       ...              21023 JAMAICA AVE, NY  40.723242 -73.728041   \n",
       "\n",
       "          3-day temp  3-day humidity                           names  \\\n",
       "30075445   33.666667       50.000000           morris park bake shop   \n",
       "30112340   74.000000       72.000000                         wendy's   \n",
       "30191841   35.000000       69.333333  dj reynolds pub and restaurant   \n",
       "40356018   55.000000       63.333333                 riviera caterer   \n",
       "40356151   43.000000       61.666667         brunos on the boulevard   \n",
       "...              ...             ...                             ...   \n",
       "50060427   57.000000       69.000000                la bagel delight   \n",
       "50060496   50.000000       42.666667         cousins deli restaurant   \n",
       "50060695   53.666667       62.000000                    2 bros pizza   \n",
       "50060807   78.000000       68.000000            century chinese food   \n",
       "50060808   33.000000       54.333333                     abou bakery   \n",
       "\n",
       "                                                search_info    rating  \\\n",
       "30075445     morris park bake shop 1007 MORRIS PARK AVE, NY  4.800000   \n",
       "30112340                    wendy's 469 FLATBUSH AVENUE, NY  3.400000   \n",
       "30191841  dj reynolds pub and restaurant 351 WEST   57 S...  3.500000   \n",
       "40356018          riviera caterer 2780 STILLWELL AVENUE, NY  4.800000   \n",
       "40356151  brunos on the boulevard 8825 ASTORIA BOULEVARD...  3.800000   \n",
       "...                                                     ...       ...   \n",
       "50060427              la bagel delight 73 LAFAYETTE AVE, NY  4.100000   \n",
       "50060496           cousins deli restaurant 4102 3RD AVE, NY  4.800000   \n",
       "50060695                 2 bros pizza 16417 JAMAICA AVE, NY  3.792806   \n",
       "50060807      century chinese food 2861 WHITE PLAINS RD, NY  3.700000   \n",
       "50060808                  abou bakery 21023 JAMAICA AVE, NY  5.000000   \n",
       "\n",
       "          rating_null  rating_null_zip  \n",
       "30075445            0                0  \n",
       "30112340            0                0  \n",
       "30191841            0                0  \n",
       "40356018            0                0  \n",
       "40356151            0                0  \n",
       "...               ...              ...  \n",
       "50060427            0                0  \n",
       "50060496            0                0  \n",
       "50060695            1                0  \n",
       "50060807            0                0  \n",
       "50060808            0                0  \n",
       "\n",
       "[22330 rows x 30 columns]"
      ]
     },
     "execution_count": 199,
     "metadata": {},
     "output_type": "execute_result"
    }
   ],
   "source": [
    "df_merged = violations_df.merge(df_ratings.drop(['search_info', 'google_name'], axis=1), left_index=True, right_index=True)\n",
    "df_merged['rating'] = pd.to_numeric(df_merged['rating'])\n",
    "mean_rating = df_merged['rating'].mean()\n",
    "by_zip = df_merged.groupby('zipcode').mean()\n",
    "df_merged['rating_null'] = df_merged['rating'].isnull()*1\n",
    "nan_index = df_merged.index[df_merged['rating'].isnull()]\n",
    "for i in tqdm(range(len(nan_index))):\n",
    "    df_merged.loc[nan_index[i],'rating'] = by_zip.ix[df_merged.ix[nan_index[i]]['zipcode']].rating\n",
    "df_merged['rating_null_zip'] = df_merged['rating'].isnull()*1\n",
    "nan_index_zip = df_merged.index[df_merged['rating'].isnull()]\n",
    "for i in tqdm(range(len(nan_index_zip))):\n",
    "    df_merged.loc[nan_index_zip[i],'rating'] = mean_rating\n",
    "df_merged"
   ]
  },
  {
   "cell_type": "markdown",
   "metadata": {},
   "source": [
    "### Save resulting CSV with ratings"
   ]
  },
  {
   "cell_type": "code",
   "execution_count": 200,
   "metadata": {
    "collapsed": false
   },
   "outputs": [
    {
     "data": {
      "text/html": [
       "<div>\n",
       "<table border=\"1\" class=\"dataframe\">\n",
       "  <thead>\n",
       "    <tr style=\"text-align: right;\">\n",
       "      <th></th>\n",
       "      <th>crit_violations</th>\n",
       "      <th>non_crit_violations</th>\n",
       "      <th>zipcode</th>\n",
       "      <th>num_inspections</th>\n",
       "      <th>crit_violations_recent_inspect</th>\n",
       "      <th>non_crit_violations_recent_inspect</th>\n",
       "      <th>crit_violations_train</th>\n",
       "      <th>non_crit_violations_train</th>\n",
       "      <th>num_inspections_train</th>\n",
       "      <th>average_crit_v_train</th>\n",
       "      <th>...</th>\n",
       "      <th>time_since_last_inspection</th>\n",
       "      <th>time_since_first_inspection</th>\n",
       "      <th>crit_v_2plus</th>\n",
       "      <th>latitude</th>\n",
       "      <th>longitude</th>\n",
       "      <th>3-day temp</th>\n",
       "      <th>3-day humidity</th>\n",
       "      <th>rating</th>\n",
       "      <th>rating_null</th>\n",
       "      <th>rating_null_zip</th>\n",
       "    </tr>\n",
       "  </thead>\n",
       "  <tbody>\n",
       "    <tr>\n",
       "      <th>count</th>\n",
       "      <td>22330.000000</td>\n",
       "      <td>22330.000000</td>\n",
       "      <td>22330.000000</td>\n",
       "      <td>22330.000000</td>\n",
       "      <td>22330.000000</td>\n",
       "      <td>22330.000000</td>\n",
       "      <td>22330.000000</td>\n",
       "      <td>22330.000000</td>\n",
       "      <td>22330.000000</td>\n",
       "      <td>22330.000000</td>\n",
       "      <td>...</td>\n",
       "      <td>22330.000000</td>\n",
       "      <td>22330.000000</td>\n",
       "      <td>22330.000000</td>\n",
       "      <td>22307.000000</td>\n",
       "      <td>22307.000000</td>\n",
       "      <td>20813.000000</td>\n",
       "      <td>20524.000000</td>\n",
       "      <td>22330.000000</td>\n",
       "      <td>22330.000000</td>\n",
       "      <td>22330.000000</td>\n",
       "    </tr>\n",
       "    <tr>\n",
       "      <th>mean</th>\n",
       "      <td>10.123780</td>\n",
       "      <td>7.033901</td>\n",
       "      <td>10666.568473</td>\n",
       "      <td>6.058979</td>\n",
       "      <td>1.486028</td>\n",
       "      <td>1.438513</td>\n",
       "      <td>8.637752</td>\n",
       "      <td>5.595387</td>\n",
       "      <td>5.058979</td>\n",
       "      <td>1.549885</td>\n",
       "      <td>...</td>\n",
       "      <td>219.461397</td>\n",
       "      <td>798.188133</td>\n",
       "      <td>0.345320</td>\n",
       "      <td>40.818079</td>\n",
       "      <td>-73.850940</td>\n",
       "      <td>53.713953</td>\n",
       "      <td>60.996914</td>\n",
       "      <td>4.016701</td>\n",
       "      <td>0.067532</td>\n",
       "      <td>0.000134</td>\n",
       "    </tr>\n",
       "    <tr>\n",
       "      <th>std</th>\n",
       "      <td>7.344702</td>\n",
       "      <td>4.382478</td>\n",
       "      <td>597.300235</td>\n",
       "      <td>2.849434</td>\n",
       "      <td>0.816336</td>\n",
       "      <td>0.645370</td>\n",
       "      <td>7.156231</td>\n",
       "      <td>4.276052</td>\n",
       "      <td>2.849434</td>\n",
       "      <td>0.756661</td>\n",
       "      <td>...</td>\n",
       "      <td>153.311738</td>\n",
       "      <td>294.366365</td>\n",
       "      <td>0.475483</td>\n",
       "      <td>1.040092</td>\n",
       "      <td>3.534032</td>\n",
       "      <td>14.916156</td>\n",
       "      <td>11.699470</td>\n",
       "      <td>0.558839</td>\n",
       "      <td>0.250948</td>\n",
       "      <td>0.011590</td>\n",
       "    </tr>\n",
       "    <tr>\n",
       "      <th>min</th>\n",
       "      <td>1.000000</td>\n",
       "      <td>1.000000</td>\n",
       "      <td>10001.000000</td>\n",
       "      <td>2.000000</td>\n",
       "      <td>1.000000</td>\n",
       "      <td>1.000000</td>\n",
       "      <td>0.000000</td>\n",
       "      <td>0.000000</td>\n",
       "      <td>1.000000</td>\n",
       "      <td>0.000000</td>\n",
       "      <td>...</td>\n",
       "      <td>1.000000</td>\n",
       "      <td>2.000000</td>\n",
       "      <td>0.000000</td>\n",
       "      <td>-33.991932</td>\n",
       "      <td>-79.313640</td>\n",
       "      <td>20.333333</td>\n",
       "      <td>27.666667</td>\n",
       "      <td>1.000000</td>\n",
       "      <td>0.000000</td>\n",
       "      <td>0.000000</td>\n",
       "    </tr>\n",
       "    <tr>\n",
       "      <th>25%</th>\n",
       "      <td>4.000000</td>\n",
       "      <td>4.000000</td>\n",
       "      <td>10022.000000</td>\n",
       "      <td>4.000000</td>\n",
       "      <td>1.000000</td>\n",
       "      <td>1.000000</td>\n",
       "      <td>3.000000</td>\n",
       "      <td>2.000000</td>\n",
       "      <td>3.000000</td>\n",
       "      <td>1.000000</td>\n",
       "      <td>...</td>\n",
       "      <td>47.000000</td>\n",
       "      <td>719.000000</td>\n",
       "      <td>0.000000</td>\n",
       "      <td>40.674369</td>\n",
       "      <td>-73.987695</td>\n",
       "      <td>42.333333</td>\n",
       "      <td>53.333333</td>\n",
       "      <td>3.800000</td>\n",
       "      <td>0.000000</td>\n",
       "      <td>0.000000</td>\n",
       "    </tr>\n",
       "    <tr>\n",
       "      <th>50%</th>\n",
       "      <td>8.000000</td>\n",
       "      <td>6.000000</td>\n",
       "      <td>10466.000000</td>\n",
       "      <td>6.000000</td>\n",
       "      <td>1.000000</td>\n",
       "      <td>1.000000</td>\n",
       "      <td>7.000000</td>\n",
       "      <td>5.000000</td>\n",
       "      <td>5.000000</td>\n",
       "      <td>1.500000</td>\n",
       "      <td>...</td>\n",
       "      <td>210.000000</td>\n",
       "      <td>908.000000</td>\n",
       "      <td>0.000000</td>\n",
       "      <td>40.730360</td>\n",
       "      <td>-73.960202</td>\n",
       "      <td>51.333333</td>\n",
       "      <td>60.666667</td>\n",
       "      <td>4.100000</td>\n",
       "      <td>0.000000</td>\n",
       "      <td>0.000000</td>\n",
       "    </tr>\n",
       "    <tr>\n",
       "      <th>75%</th>\n",
       "      <td>14.000000</td>\n",
       "      <td>9.000000</td>\n",
       "      <td>11229.000000</td>\n",
       "      <td>8.000000</td>\n",
       "      <td>2.000000</td>\n",
       "      <td>2.000000</td>\n",
       "      <td>12.000000</td>\n",
       "      <td>8.000000</td>\n",
       "      <td>7.000000</td>\n",
       "      <td>2.000000</td>\n",
       "      <td>...</td>\n",
       "      <td>373.000000</td>\n",
       "      <td>1020.000000</td>\n",
       "      <td>1.000000</td>\n",
       "      <td>40.769978</td>\n",
       "      <td>-73.896635</td>\n",
       "      <td>63.666667</td>\n",
       "      <td>69.000000</td>\n",
       "      <td>4.400000</td>\n",
       "      <td>0.000000</td>\n",
       "      <td>0.000000</td>\n",
       "    </tr>\n",
       "    <tr>\n",
       "      <th>max</th>\n",
       "      <td>65.000000</td>\n",
       "      <td>32.000000</td>\n",
       "      <td>11697.000000</td>\n",
       "      <td>20.000000</td>\n",
       "      <td>10.000000</td>\n",
       "      <td>6.000000</td>\n",
       "      <td>59.000000</td>\n",
       "      <td>31.000000</td>\n",
       "      <td>19.000000</td>\n",
       "      <td>7.000000</td>\n",
       "      <td>...</td>\n",
       "      <td>1071.000000</td>\n",
       "      <td>1095.000000</td>\n",
       "      <td>1.000000</td>\n",
       "      <td>67.261060</td>\n",
       "      <td>164.861367</td>\n",
       "      <td>89.000000</td>\n",
       "      <td>92.000000</td>\n",
       "      <td>5.000000</td>\n",
       "      <td>1.000000</td>\n",
       "      <td>1.000000</td>\n",
       "    </tr>\n",
       "  </tbody>\n",
       "</table>\n",
       "<p>8 rows × 21 columns</p>\n",
       "</div>"
      ],
      "text/plain": [
       "       crit_violations  non_crit_violations       zipcode  num_inspections  \\\n",
       "count     22330.000000         22330.000000  22330.000000     22330.000000   \n",
       "mean         10.123780             7.033901  10666.568473         6.058979   \n",
       "std           7.344702             4.382478    597.300235         2.849434   \n",
       "min           1.000000             1.000000  10001.000000         2.000000   \n",
       "25%           4.000000             4.000000  10022.000000         4.000000   \n",
       "50%           8.000000             6.000000  10466.000000         6.000000   \n",
       "75%          14.000000             9.000000  11229.000000         8.000000   \n",
       "max          65.000000            32.000000  11697.000000        20.000000   \n",
       "\n",
       "       crit_violations_recent_inspect  non_crit_violations_recent_inspect  \\\n",
       "count                    22330.000000                        22330.000000   \n",
       "mean                         1.486028                            1.438513   \n",
       "std                          0.816336                            0.645370   \n",
       "min                          1.000000                            1.000000   \n",
       "25%                          1.000000                            1.000000   \n",
       "50%                          1.000000                            1.000000   \n",
       "75%                          2.000000                            2.000000   \n",
       "max                         10.000000                            6.000000   \n",
       "\n",
       "       crit_violations_train  non_crit_violations_train  \\\n",
       "count           22330.000000               22330.000000   \n",
       "mean                8.637752                   5.595387   \n",
       "std                 7.156231                   4.276052   \n",
       "min                 0.000000                   0.000000   \n",
       "25%                 3.000000                   2.000000   \n",
       "50%                 7.000000                   5.000000   \n",
       "75%                12.000000                   8.000000   \n",
       "max                59.000000                  31.000000   \n",
       "\n",
       "       num_inspections_train  average_crit_v_train       ...         \\\n",
       "count           22330.000000          22330.000000       ...          \n",
       "mean                5.058979              1.549885       ...          \n",
       "std                 2.849434              0.756661       ...          \n",
       "min                 1.000000              0.000000       ...          \n",
       "25%                 3.000000              1.000000       ...          \n",
       "50%                 5.000000              1.500000       ...          \n",
       "75%                 7.000000              2.000000       ...          \n",
       "max                19.000000              7.000000       ...          \n",
       "\n",
       "       time_since_last_inspection  time_since_first_inspection  crit_v_2plus  \\\n",
       "count                22330.000000                 22330.000000  22330.000000   \n",
       "mean                   219.461397                   798.188133      0.345320   \n",
       "std                    153.311738                   294.366365      0.475483   \n",
       "min                      1.000000                     2.000000      0.000000   \n",
       "25%                     47.000000                   719.000000      0.000000   \n",
       "50%                    210.000000                   908.000000      0.000000   \n",
       "75%                    373.000000                  1020.000000      1.000000   \n",
       "max                   1071.000000                  1095.000000      1.000000   \n",
       "\n",
       "           latitude     longitude    3-day temp  3-day humidity        rating  \\\n",
       "count  22307.000000  22307.000000  20813.000000    20524.000000  22330.000000   \n",
       "mean      40.818079    -73.850940     53.713953       60.996914      4.016701   \n",
       "std        1.040092      3.534032     14.916156       11.699470      0.558839   \n",
       "min      -33.991932    -79.313640     20.333333       27.666667      1.000000   \n",
       "25%       40.674369    -73.987695     42.333333       53.333333      3.800000   \n",
       "50%       40.730360    -73.960202     51.333333       60.666667      4.100000   \n",
       "75%       40.769978    -73.896635     63.666667       69.000000      4.400000   \n",
       "max       67.261060    164.861367     89.000000       92.000000      5.000000   \n",
       "\n",
       "        rating_null  rating_null_zip  \n",
       "count  22330.000000     22330.000000  \n",
       "mean       0.067532         0.000134  \n",
       "std        0.250948         0.011590  \n",
       "min        0.000000         0.000000  \n",
       "25%        0.000000         0.000000  \n",
       "50%        0.000000         0.000000  \n",
       "75%        0.000000         0.000000  \n",
       "max        1.000000         1.000000  \n",
       "\n",
       "[8 rows x 21 columns]"
      ]
     },
     "execution_count": 200,
     "metadata": {},
     "output_type": "execute_result"
    }
   ],
   "source": [
    "df_merged.to_csv('Health_Insp_weather_loc_rating.csv')"
   ]
  }
 ],
 "metadata": {
  "anaconda-cloud": {},
  "kernelspec": {
   "display_name": "Python 2",
   "language": "python",
   "name": "python2"
  },
  "language_info": {
   "codemirror_mode": {
    "name": "ipython",
    "version": 2
   },
   "file_extension": ".py",
   "mimetype": "text/x-python",
   "name": "python",
   "nbconvert_exporter": "python",
   "pygments_lexer": "ipython2",
   "version": "2.7.13"
  }
 },
 "nbformat": 4,
 "nbformat_minor": 0
}
