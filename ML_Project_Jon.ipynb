{
 "cells": [
  {
   "cell_type": "code",
   "execution_count": 1,
   "metadata": {
    "collapsed": false
   },
   "outputs": [],
   "source": [
    "import numpy as np\n",
    "import pandas as pd\n",
    "import matplotlib.pyplot as plt\n",
    "import sklearn\n",
    "from sklearn import preprocessing\n",
    "from sklearn import linear_model\n",
    "from sklearn import svm\n",
    "from sklearn import metrics\n",
    "from sklearn.model_selection import train_test_split\n",
    "from sklearn.naive_bayes import BernoulliNB\n",
    "from sklearn.ensemble import RandomForestClassifier\n",
    "%matplotlib inline"
   ]
  },
  {
   "cell_type": "code",
   "execution_count": 133,
   "metadata": {
    "collapsed": false
   },
   "outputs": [],
   "source": [
    "inspect_df = pd.read_csv('health_inspect_old.csv')"
   ]
  },
  {
   "cell_type": "code",
   "execution_count": 4,
   "metadata": {
    "collapsed": false
   },
   "outputs": [
    {
     "data": {
      "text/plain": [
       "Index(['CAMIS', 'DBA', 'BORO', 'BUILDING', 'STREET', 'ZIPCODE', 'PHONE',\n",
       "       'CUISINE DESCRIPTION', 'INSPECTION DATE', 'ACTION', 'VIOLATION CODE',\n",
       "       'VIOLATION DESCRIPTION', 'CRITICAL FLAG', 'SCORE', 'GRADE',\n",
       "       'GRADE DATE', 'RECORD DATE', 'INSPECTION TYPE'],\n",
       "      dtype='object')"
      ]
     },
     "execution_count": 4,
     "metadata": {},
     "output_type": "execute_result"
    }
   ],
   "source": [
    "inspect_df.columns"
   ]
  },
  {
   "cell_type": "code",
   "execution_count": 71,
   "metadata": {
    "collapsed": false
   },
   "outputs": [
    {
     "data": {
      "text/html": [
       "<div>\n",
       "<table border=\"1\" class=\"dataframe\">\n",
       "  <thead>\n",
       "    <tr style=\"text-align: right;\">\n",
       "      <th></th>\n",
       "      <th>CAMIS</th>\n",
       "      <th>DBA</th>\n",
       "      <th>BORO</th>\n",
       "      <th>BUILDING</th>\n",
       "      <th>STREET</th>\n",
       "      <th>ZIPCODE</th>\n",
       "      <th>PHONE</th>\n",
       "      <th>CUISINE DESCRIPTION</th>\n",
       "      <th>INSPECTION DATE</th>\n",
       "      <th>ACTION</th>\n",
       "      <th>VIOLATION CODE</th>\n",
       "      <th>VIOLATION DESCRIPTION</th>\n",
       "      <th>CRITICAL FLAG</th>\n",
       "      <th>SCORE</th>\n",
       "      <th>GRADE</th>\n",
       "      <th>GRADE DATE</th>\n",
       "      <th>RECORD DATE</th>\n",
       "      <th>INSPECTION TYPE</th>\n",
       "    </tr>\n",
       "  </thead>\n",
       "  <tbody>\n",
       "    <tr>\n",
       "      <th>72853</th>\n",
       "      <td>30075445</td>\n",
       "      <td>MORRIS PARK BAKE SHOP</td>\n",
       "      <td>BRONX</td>\n",
       "      <td>1007</td>\n",
       "      <td>MORRIS PARK AVE</td>\n",
       "      <td>10462.0</td>\n",
       "      <td>7188924968</td>\n",
       "      <td>Bakery</td>\n",
       "      <td>2016-02-18</td>\n",
       "      <td>Violations were cited in the following area(s).</td>\n",
       "      <td>08A</td>\n",
       "      <td>Facility not vermin proof. Harborage or condit...</td>\n",
       "      <td>Not Critical</td>\n",
       "      <td>10.0</td>\n",
       "      <td>A</td>\n",
       "      <td>02/18/2016</td>\n",
       "      <td>05/02/2017</td>\n",
       "      <td>Cycle Inspection / Initial Inspection</td>\n",
       "    </tr>\n",
       "    <tr>\n",
       "      <th>298956</th>\n",
       "      <td>30075445</td>\n",
       "      <td>MORRIS PARK BAKE SHOP</td>\n",
       "      <td>BRONX</td>\n",
       "      <td>1007</td>\n",
       "      <td>MORRIS PARK AVE</td>\n",
       "      <td>10462.0</td>\n",
       "      <td>7188924968</td>\n",
       "      <td>Bakery</td>\n",
       "      <td>2016-02-18</td>\n",
       "      <td>Violations were cited in the following area(s).</td>\n",
       "      <td>04L</td>\n",
       "      <td>Evidence of mice or live mice present in facil...</td>\n",
       "      <td>Critical</td>\n",
       "      <td>10.0</td>\n",
       "      <td>A</td>\n",
       "      <td>02/18/2016</td>\n",
       "      <td>05/02/2017</td>\n",
       "      <td>Cycle Inspection / Initial Inspection</td>\n",
       "    </tr>\n",
       "    <tr>\n",
       "      <th>267536</th>\n",
       "      <td>30075445</td>\n",
       "      <td>MORRIS PARK BAKE SHOP</td>\n",
       "      <td>BRONX</td>\n",
       "      <td>1007</td>\n",
       "      <td>MORRIS PARK AVE</td>\n",
       "      <td>10462.0</td>\n",
       "      <td>7188924968</td>\n",
       "      <td>Bakery</td>\n",
       "      <td>2015-02-09</td>\n",
       "      <td>Violations were cited in the following area(s).</td>\n",
       "      <td>06C</td>\n",
       "      <td>Food not protected from potential source of co...</td>\n",
       "      <td>Critical</td>\n",
       "      <td>6.0</td>\n",
       "      <td>A</td>\n",
       "      <td>02/09/2015</td>\n",
       "      <td>05/02/2017</td>\n",
       "      <td>Cycle Inspection / Initial Inspection</td>\n",
       "    </tr>\n",
       "    <tr>\n",
       "      <th>69419</th>\n",
       "      <td>30075445</td>\n",
       "      <td>MORRIS PARK BAKE SHOP</td>\n",
       "      <td>BRONX</td>\n",
       "      <td>1007</td>\n",
       "      <td>MORRIS PARK AVE</td>\n",
       "      <td>10462.0</td>\n",
       "      <td>7188924968</td>\n",
       "      <td>Bakery</td>\n",
       "      <td>2014-03-03</td>\n",
       "      <td>Violations were cited in the following area(s).</td>\n",
       "      <td>10F</td>\n",
       "      <td>Non-food contact surface improperly constructe...</td>\n",
       "      <td>Not Critical</td>\n",
       "      <td>2.0</td>\n",
       "      <td>A</td>\n",
       "      <td>03/03/2014</td>\n",
       "      <td>05/02/2017</td>\n",
       "      <td>Cycle Inspection / Initial Inspection</td>\n",
       "    </tr>\n",
       "    <tr>\n",
       "      <th>125736</th>\n",
       "      <td>30075445</td>\n",
       "      <td>MORRIS PARK BAKE SHOP</td>\n",
       "      <td>BRONX</td>\n",
       "      <td>1007</td>\n",
       "      <td>MORRIS PARK AVE</td>\n",
       "      <td>10462.0</td>\n",
       "      <td>7188924968</td>\n",
       "      <td>Bakery</td>\n",
       "      <td>2013-09-11</td>\n",
       "      <td>Violations were cited in the following area(s).</td>\n",
       "      <td>04L</td>\n",
       "      <td>Evidence of mice or live mice present in facil...</td>\n",
       "      <td>Critical</td>\n",
       "      <td>6.0</td>\n",
       "      <td>A</td>\n",
       "      <td>09/11/2013</td>\n",
       "      <td>05/02/2017</td>\n",
       "      <td>Cycle Inspection / Re-inspection</td>\n",
       "    </tr>\n",
       "  </tbody>\n",
       "</table>\n",
       "</div>"
      ],
      "text/plain": [
       "           CAMIS                    DBA   BORO BUILDING           STREET  \\\n",
       "72853   30075445  MORRIS PARK BAKE SHOP  BRONX     1007  MORRIS PARK AVE   \n",
       "298956  30075445  MORRIS PARK BAKE SHOP  BRONX     1007  MORRIS PARK AVE   \n",
       "267536  30075445  MORRIS PARK BAKE SHOP  BRONX     1007  MORRIS PARK AVE   \n",
       "69419   30075445  MORRIS PARK BAKE SHOP  BRONX     1007  MORRIS PARK AVE   \n",
       "125736  30075445  MORRIS PARK BAKE SHOP  BRONX     1007  MORRIS PARK AVE   \n",
       "\n",
       "        ZIPCODE       PHONE CUISINE DESCRIPTION INSPECTION DATE  \\\n",
       "72853   10462.0  7188924968              Bakery      2016-02-18   \n",
       "298956  10462.0  7188924968              Bakery      2016-02-18   \n",
       "267536  10462.0  7188924968              Bakery      2015-02-09   \n",
       "69419   10462.0  7188924968              Bakery      2014-03-03   \n",
       "125736  10462.0  7188924968              Bakery      2013-09-11   \n",
       "\n",
       "                                                 ACTION VIOLATION CODE  \\\n",
       "72853   Violations were cited in the following area(s).            08A   \n",
       "298956  Violations were cited in the following area(s).            04L   \n",
       "267536  Violations were cited in the following area(s).            06C   \n",
       "69419   Violations were cited in the following area(s).            10F   \n",
       "125736  Violations were cited in the following area(s).            04L   \n",
       "\n",
       "                                    VIOLATION DESCRIPTION CRITICAL FLAG  \\\n",
       "72853   Facility not vermin proof. Harborage or condit...  Not Critical   \n",
       "298956  Evidence of mice or live mice present in facil...      Critical   \n",
       "267536  Food not protected from potential source of co...      Critical   \n",
       "69419   Non-food contact surface improperly constructe...  Not Critical   \n",
       "125736  Evidence of mice or live mice present in facil...      Critical   \n",
       "\n",
       "        SCORE GRADE  GRADE DATE RECORD DATE  \\\n",
       "72853    10.0     A  02/18/2016  05/02/2017   \n",
       "298956   10.0     A  02/18/2016  05/02/2017   \n",
       "267536    6.0     A  02/09/2015  05/02/2017   \n",
       "69419     2.0     A  03/03/2014  05/02/2017   \n",
       "125736    6.0     A  09/11/2013  05/02/2017   \n",
       "\n",
       "                              INSPECTION TYPE  \n",
       "72853   Cycle Inspection / Initial Inspection  \n",
       "298956  Cycle Inspection / Initial Inspection  \n",
       "267536  Cycle Inspection / Initial Inspection  \n",
       "69419   Cycle Inspection / Initial Inspection  \n",
       "125736       Cycle Inspection / Re-inspection  "
      ]
     },
     "execution_count": 71,
     "metadata": {},
     "output_type": "execute_result"
    }
   ],
   "source": [
    "inspect_df.head()"
   ]
  },
  {
   "cell_type": "markdown",
   "metadata": {},
   "source": [
    "#### Convert dates to datetime rather than string to order by date"
   ]
  },
  {
   "cell_type": "code",
   "execution_count": 101,
   "metadata": {
    "collapsed": false
   },
   "outputs": [],
   "source": [
    "inspect_df['INSPECTION DATE'] = pd.to_datetime(inspect_df['INSPECTION DATE'])"
   ]
  },
  {
   "cell_type": "code",
   "execution_count": 102,
   "metadata": {
    "collapsed": false
   },
   "outputs": [
    {
     "name": "stderr",
     "output_type": "stream",
     "text": [
      "//anaconda/envs/mypy35/lib/python3.5/site-packages/ipykernel/__main__.py:1: FutureWarning: sort(columns=....) is deprecated, use sort_values(by=.....)\n",
      "  if __name__ == '__main__':\n"
     ]
    }
   ],
   "source": [
    "inspect_df.sort(columns=['CAMIS','INSPECTION DATE'],ascending=[True,False],inplace=True)"
   ]
  },
  {
   "cell_type": "markdown",
   "metadata": {},
   "source": [
    "#### Drop inspections unrelated to food quality"
   ]
  },
  {
   "cell_type": "code",
   "execution_count": 103,
   "metadata": {
    "collapsed": false
   },
   "outputs": [],
   "source": [
    "inspect_df = inspect_df[inspect_df['INSPECTION TYPE'].isnull() == False]\n",
    "inspect_df = inspect_df[~inspect_df['INSPECTION TYPE'].str.contains('Calorie')]\n",
    "inspect_df = inspect_df[~inspect_df['INSPECTION TYPE'].str.contains('Smoke')]\n",
    "inspect_df = inspect_df[~inspect_df['INSPECTION TYPE'].str.contains('Trans Fat')]\n",
    "inspect_df = inspect_df[~inspect_df['INSPECTION TYPE'].str.contains('Administrative')]\n",
    "inspect_df = inspect_df[~inspect_df['INSPECTION TYPE'].str.contains('Non-operational')]"
   ]
  },
  {
   "cell_type": "markdown",
   "metadata": {},
   "source": [
    "#### Extract aggregate information on business by CAMIS number"
   ]
  },
  {
   "cell_type": "code",
   "execution_count": 104,
   "metadata": {
    "collapsed": false
   },
   "outputs": [
    {
     "name": "stderr",
     "output_type": "stream",
     "text": [
      "//anaconda/envs/mypy35/lib/python3.5/site-packages/ipykernel/__main__.py:5: FutureWarning: sort(columns=....) is deprecated, use sort_values(by=.....)\n"
     ]
    },
    {
     "data": {
      "text/html": [
       "<div>\n",
       "<table border=\"1\" class=\"dataframe\">\n",
       "  <thead>\n",
       "    <tr style=\"text-align: right;\">\n",
       "      <th></th>\n",
       "      <th>latest_inspection</th>\n",
       "    </tr>\n",
       "  </thead>\n",
       "  <tbody>\n",
       "    <tr>\n",
       "      <th>30075445</th>\n",
       "      <td>2016-02-18</td>\n",
       "    </tr>\n",
       "    <tr>\n",
       "      <th>30112340</th>\n",
       "      <td>2016-10-27</td>\n",
       "    </tr>\n",
       "    <tr>\n",
       "      <th>30191841</th>\n",
       "      <td>2016-05-31</td>\n",
       "    </tr>\n",
       "    <tr>\n",
       "      <th>40356018</th>\n",
       "      <td>2016-05-16</td>\n",
       "    </tr>\n",
       "    <tr>\n",
       "      <th>40356151</th>\n",
       "      <td>2016-05-14</td>\n",
       "    </tr>\n",
       "  </tbody>\n",
       "</table>\n",
       "</div>"
      ],
      "text/plain": [
       "         latest_inspection\n",
       "30075445        2016-02-18\n",
       "30112340        2016-10-27\n",
       "30191841        2016-05-31\n",
       "40356018        2016-05-16\n",
       "40356151        2016-05-14"
      ]
     },
     "execution_count": 104,
     "metadata": {},
     "output_type": "execute_result"
    }
   ],
   "source": [
    "df2 = inspect_df.groupby(['CAMIS','INSPECTION DATE']).count()['DBA']\n",
    "ids = [(x[0],x[1]) for x in df2.index]\n",
    "df3 = pd.DataFrame(ids)\n",
    "df3 = df3.rename(index=str, columns={0: 'CAMIS',1:'Date'})\n",
    "df3.sort(columns=['CAMIS','Date'],ascending=[True,False],inplace=True)\n",
    "\n",
    "first_inspect = df3.groupby('CAMIS').nth(-1)\n",
    "first_inspect = first_inspect.rename(index=str, columns={'Date':'earliest_inspection'})\n",
    "first_inspect.index = first_inspect.index.map(str)\n",
    "first_inspect.head()\n",
    "sec_last_inspect = df3.groupby('CAMIS').nth(1)\n",
    "sec_last_inspect = sec_last_inspect.rename(index=str, columns={'Date':'second_latest_inspection'})\n",
    "sec_last_inspect.index = sec_last_inspect.index.map(str)\n",
    "last_inspect = df3.groupby('CAMIS').nth(0)\n",
    "last_inspect = last_inspect.rename(index=str, columns={'Date':'latest_inspection'})\n",
    "last_inspect.index = last_inspect.index.map(str)\n",
    "last_inspect.head()"
   ]
  },
  {
   "cell_type": "code",
   "execution_count": 105,
   "metadata": {
    "collapsed": false
   },
   "outputs": [],
   "source": [
    "zips = pd.DataFrame(inspect_df.groupby('CAMIS').first()['ZIPCODE'])\n",
    "boros = pd.DataFrame(inspect_df.groupby('CAMIS').first()['BORO'])\n",
    "cuisine = pd.DataFrame(inspect_df.groupby('CAMIS').first()['CUISINE DESCRIPTION'])\n",
    "build = pd.DataFrame(inspect_df.groupby('CAMIS').first()['BUILDING'])\n",
    "street = pd.DataFrame(inspect_df.groupby('CAMIS').first()['STREET'])\n",
    "address = pd.DataFrame(build.BUILDING.str.cat(street.STREET, sep=' '))\n",
    "num_inspects = pd.DataFrame(inspect_df.groupby('CAMIS')['INSPECTION DATE'].nunique())\n",
    "\n",
    "zips.index = zips.index.map(str)\n",
    "zips = zips.rename(index=str, columns={'ZIPCODE': 'zipcode'})\n",
    "boros.index = boros.index.map(str)\n",
    "boros = boros.rename(index=str, columns={'BORO': 'boro'})\n",
    "cuisine.index = cuisine.index.map(str)\n",
    "cuisine = cuisine.rename(index=str, columns={'CUISINE DESCRIPTION': 'cuisine'})\n",
    "address.index = address.index.map(str)\n",
    "address = address.rename(index=str, columns={'BUILDING': 'address'})\n",
    "num_inspects = num_inspects.rename(index=str, columns={'INSPECTION DATE': 'num_inspections'})"
   ]
  },
  {
   "cell_type": "code",
   "execution_count": 130,
   "metadata": {
    "collapsed": false
   },
   "outputs": [],
   "source": [
    "#get all unique camis\n",
    "camis = np.unique(inspect_df.CAMIS.values)\n",
    "sec_last_crits = []\n",
    "prev_2p_crit_insp = []\n",
    "\n",
    "for i in range(len(camis)):\n",
    "    #find all inspection dates for a CAMIS and all inspection dates that had critical violations\n",
    "    inspect_df_camis = inspect_df[inspect_df.CAMIS == camis[i]]\n",
    "    insp_violation_count = inspect_df_camis.groupby('INSPECTION DATE').count()\n",
    "    insp_violation_count_crit = inspect_df_camis[inspect_df_camis['CRITICAL FLAG'] == 'Critical'].groupby('INSPECTION DATE').count()\n",
    "    \n",
    "    if inspect_df_camis.groupby('INSPECTION DATE').count().shape[0] > 1:\n",
    "        #get date of the second-to-last inspection\n",
    "        sec_last_insp = inspect_df_camis.groupby('INSPECTION DATE').count().index[-2]\n",
    "        #If there were critical violations, tally them up, otherwise set tally to 0\n",
    "        try:\n",
    "            sec_last_violations = inspect_df_camis[inspect_df_camis['CRITICAL FLAG'] == 'Critical'].groupby('INSPECTION DATE').count().ix[sec_last_insp][0]\n",
    "        except KeyError:\n",
    "            sec_last_violations = 0\n",
    "        #Line total violation tallies up with critical violation tallies to indentify which inspections had \n",
    "        #zero critical violations, then tally up number of prior 2+ critical violation inspections\n",
    "        crit_df = pd.DataFrame([insp_violation_count['ACTION'],insp_violation_count_crit['CRITICAL FLAG']]).T\n",
    "        crit_df = crit_df.fillna(0)\n",
    "        crit_df = crit_df.iloc[0:-1]\n",
    "        prev_2p_crit_insp.append((crit_df['CRITICAL FLAG'] > 1).sum())\n",
    "    else:\n",
    "        sec_last_violations = 0\n",
    "        prev_2p_crit_insp.append(0)\n",
    "    sec_last_crits.append(sec_last_violations)"
   ]
  },
  {
   "cell_type": "code",
   "execution_count": 131,
   "metadata": {
    "collapsed": false
   },
   "outputs": [
    {
     "data": {
      "text/html": [
       "<div>\n",
       "<table border=\"1\" class=\"dataframe\">\n",
       "  <thead>\n",
       "    <tr style=\"text-align: right;\">\n",
       "      <th></th>\n",
       "      <th>crit_vs_sec_last_insp</th>\n",
       "      <th>prior_2p_crit_insps</th>\n",
       "    </tr>\n",
       "  </thead>\n",
       "  <tbody>\n",
       "    <tr>\n",
       "      <th>40389266</th>\n",
       "      <td>3</td>\n",
       "      <td>4</td>\n",
       "    </tr>\n",
       "    <tr>\n",
       "      <th>40391383</th>\n",
       "      <td>1</td>\n",
       "      <td>3</td>\n",
       "    </tr>\n",
       "    <tr>\n",
       "      <th>40673117</th>\n",
       "      <td>1</td>\n",
       "      <td>3</td>\n",
       "    </tr>\n",
       "    <tr>\n",
       "      <th>40907587</th>\n",
       "      <td>0</td>\n",
       "      <td>1</td>\n",
       "    </tr>\n",
       "    <tr>\n",
       "      <th>40959339</th>\n",
       "      <td>2</td>\n",
       "      <td>2</td>\n",
       "    </tr>\n",
       "    <tr>\n",
       "      <th>41337287</th>\n",
       "      <td>1</td>\n",
       "      <td>0</td>\n",
       "    </tr>\n",
       "    <tr>\n",
       "      <th>41417994</th>\n",
       "      <td>1</td>\n",
       "      <td>2</td>\n",
       "    </tr>\n",
       "    <tr>\n",
       "      <th>41495616</th>\n",
       "      <td>1</td>\n",
       "      <td>0</td>\n",
       "    </tr>\n",
       "    <tr>\n",
       "      <th>41702352</th>\n",
       "      <td>1</td>\n",
       "      <td>0</td>\n",
       "    </tr>\n",
       "    <tr>\n",
       "      <th>50000244</th>\n",
       "      <td>1</td>\n",
       "      <td>6</td>\n",
       "    </tr>\n",
       "    <tr>\n",
       "      <th>50002723</th>\n",
       "      <td>0</td>\n",
       "      <td>0</td>\n",
       "    </tr>\n",
       "    <tr>\n",
       "      <th>50003223</th>\n",
       "      <td>2</td>\n",
       "      <td>2</td>\n",
       "    </tr>\n",
       "    <tr>\n",
       "      <th>50004148</th>\n",
       "      <td>1</td>\n",
       "      <td>2</td>\n",
       "    </tr>\n",
       "    <tr>\n",
       "      <th>50004505</th>\n",
       "      <td>2</td>\n",
       "      <td>8</td>\n",
       "    </tr>\n",
       "    <tr>\n",
       "      <th>50009578</th>\n",
       "      <td>0</td>\n",
       "      <td>1</td>\n",
       "    </tr>\n",
       "    <tr>\n",
       "      <th>50033211</th>\n",
       "      <td>0</td>\n",
       "      <td>0</td>\n",
       "    </tr>\n",
       "    <tr>\n",
       "      <th>50034827</th>\n",
       "      <td>1</td>\n",
       "      <td>0</td>\n",
       "    </tr>\n",
       "    <tr>\n",
       "      <th>50035292</th>\n",
       "      <td>2</td>\n",
       "      <td>3</td>\n",
       "    </tr>\n",
       "    <tr>\n",
       "      <th>50038901</th>\n",
       "      <td>2</td>\n",
       "      <td>2</td>\n",
       "    </tr>\n",
       "    <tr>\n",
       "      <th>50038906</th>\n",
       "      <td>1</td>\n",
       "      <td>1</td>\n",
       "    </tr>\n",
       "    <tr>\n",
       "      <th>50046087</th>\n",
       "      <td>2</td>\n",
       "      <td>1</td>\n",
       "    </tr>\n",
       "    <tr>\n",
       "      <th>50050429</th>\n",
       "      <td>4</td>\n",
       "      <td>1</td>\n",
       "    </tr>\n",
       "    <tr>\n",
       "      <th>50052088</th>\n",
       "      <td>2</td>\n",
       "      <td>1</td>\n",
       "    </tr>\n",
       "  </tbody>\n",
       "</table>\n",
       "</div>"
      ],
      "text/plain": [
       "          crit_vs_sec_last_insp  prior_2p_crit_insps\n",
       "40389266                      3                    4\n",
       "40391383                      1                    3\n",
       "40673117                      1                    3\n",
       "40907587                      0                    1\n",
       "40959339                      2                    2\n",
       "41337287                      1                    0\n",
       "41417994                      1                    2\n",
       "41495616                      1                    0\n",
       "41702352                      1                    0\n",
       "50000244                      1                    6\n",
       "50002723                      0                    0\n",
       "50003223                      2                    2\n",
       "50004148                      1                    2\n",
       "50004505                      2                    8\n",
       "50009578                      0                    1\n",
       "50033211                      0                    0\n",
       "50034827                      1                    0\n",
       "50035292                      2                    3\n",
       "50038901                      2                    2\n",
       "50038906                      1                    1\n",
       "50046087                      2                    1\n",
       "50050429                      4                    1\n",
       "50052088                      2                    1"
      ]
     },
     "execution_count": 131,
     "metadata": {},
     "output_type": "execute_result"
    }
   ],
   "source": [
    "prior_violations_df = pd.DataFrame({'crit_vs_sec_last_insp': sec_last_crits,'prior_2p_crit_insps': prev_2p_crit_insp}, index=camis)\n",
    "prior_violations_df.index = prior_violations_df.index.map(str)\n",
    "prior_violations_df.to_csv('prior_violations.csv')"
   ]
  },
  {
   "cell_type": "markdown",
   "metadata": {},
   "source": [
    "#### Group by Critical & Non-Critical violations, extract counts of most recent inspection"
   ]
  },
  {
   "cell_type": "code",
   "execution_count": 109,
   "metadata": {
    "collapsed": false
   },
   "outputs": [],
   "source": [
    "not_crit_df = inspect_df[inspect_df['CRITICAL FLAG']== 'Not Critical']\n",
    "crit_df = inspect_df[inspect_df['CRITICAL FLAG']== 'Critical']\n",
    "\n",
    "df = crit_df.groupby(['CAMIS','INSPECTION DATE']).count()['DBA']\n",
    "ids = [x[0] for x in df.index]\n",
    "last_inspect_crit = pd.DataFrame(df.groupby(ids).last())\n",
    "last_inspect_crit = last_inspect_crit.rename(index=str, columns={'DBA': 'crit_violations_recent_inspect'})\n",
    "\n",
    "df = not_crit_df.groupby(['CAMIS','INSPECTION DATE']).count()['DBA']\n",
    "ids = [x[0] for x in df.index]\n",
    "last_inspect_non_crit = pd.DataFrame(df.groupby(ids).last())\n",
    "last_inspect_non_crit = last_inspect_non_crit.rename(index=str, columns={'DBA': 'non_crit_violations_recent_inspect'})"
   ]
  },
  {
   "cell_type": "markdown",
   "metadata": {},
   "source": [
    "#### Extract overall total number of violations in each category"
   ]
  },
  {
   "cell_type": "code",
   "execution_count": 110,
   "metadata": {
    "collapsed": false
   },
   "outputs": [],
   "source": [
    "non_crit_num = pd.DataFrame(not_crit_df.groupby('CAMIS').count()['CRITICAL FLAG'])\n",
    "non_crit_num = non_crit_num.rename(index=str, columns={'CRITICAL FLAG': 'non_crit_violations'})\n",
    "crit_num = pd.DataFrame(crit_df.groupby('CAMIS').count()['CRITICAL FLAG'])\n",
    "crit_num = crit_num.rename(index=str, columns={'CRITICAL FLAG': 'crit_violations'})"
   ]
  },
  {
   "cell_type": "markdown",
   "metadata": {},
   "source": [
    "#### Combine dataframes for each piece of aggregate information"
   ]
  },
  {
   "cell_type": "code",
   "execution_count": 139,
   "metadata": {
    "collapsed": false
   },
   "outputs": [
    {
     "data": {
      "text/html": [
       "<div>\n",
       "<table border=\"1\" class=\"dataframe\">\n",
       "  <thead>\n",
       "    <tr style=\"text-align: right;\">\n",
       "      <th></th>\n",
       "      <th>crit_violations</th>\n",
       "      <th>non_crit_violations</th>\n",
       "      <th>earliest_inspection</th>\n",
       "      <th>latest_inspection</th>\n",
       "      <th>second_latest_inspection</th>\n",
       "      <th>zipcode</th>\n",
       "      <th>boro</th>\n",
       "      <th>cuisine</th>\n",
       "      <th>address</th>\n",
       "      <th>num_inspections</th>\n",
       "      <th>crit_violations_recent_inspect</th>\n",
       "      <th>non_crit_violations_recent_inspect</th>\n",
       "      <th>crit_vs_sec_last_insp</th>\n",
       "      <th>prior_2p_crit_insps</th>\n",
       "    </tr>\n",
       "  </thead>\n",
       "  <tbody>\n",
       "    <tr>\n",
       "      <th>30075445</th>\n",
       "      <td>8.0</td>\n",
       "      <td>4.0</td>\n",
       "      <td>2013-08-14</td>\n",
       "      <td>2016-02-18</td>\n",
       "      <td>2015-02-09</td>\n",
       "      <td>10462</td>\n",
       "      <td>BRONX</td>\n",
       "      <td>Bakery</td>\n",
       "      <td>1007 MORRIS PARK AVE</td>\n",
       "      <td>5</td>\n",
       "      <td>1</td>\n",
       "      <td>1</td>\n",
       "      <td>NaN</td>\n",
       "      <td>NaN</td>\n",
       "    </tr>\n",
       "    <tr>\n",
       "      <th>30112340</th>\n",
       "      <td>14.0</td>\n",
       "      <td>10.0</td>\n",
       "      <td>2014-06-05</td>\n",
       "      <td>2016-10-27</td>\n",
       "      <td>2016-10-03</td>\n",
       "      <td>11225</td>\n",
       "      <td>BROOKLYN</td>\n",
       "      <td>Hamburgers</td>\n",
       "      <td>469 FLATBUSH AVENUE</td>\n",
       "      <td>9</td>\n",
       "      <td>1</td>\n",
       "      <td>1</td>\n",
       "      <td>NaN</td>\n",
       "      <td>NaN</td>\n",
       "    </tr>\n",
       "    <tr>\n",
       "      <th>30191841</th>\n",
       "      <td>4.0</td>\n",
       "      <td>7.0</td>\n",
       "      <td>2013-07-22</td>\n",
       "      <td>2016-05-31</td>\n",
       "      <td>2015-09-21</td>\n",
       "      <td>10019</td>\n",
       "      <td>MANHATTAN</td>\n",
       "      <td>Irish</td>\n",
       "      <td>351 WEST   57 STREET</td>\n",
       "      <td>5</td>\n",
       "      <td>1</td>\n",
       "      <td>1</td>\n",
       "      <td>NaN</td>\n",
       "      <td>NaN</td>\n",
       "    </tr>\n",
       "    <tr>\n",
       "      <th>40356018</th>\n",
       "      <td>1.0</td>\n",
       "      <td>7.0</td>\n",
       "      <td>2013-06-05</td>\n",
       "      <td>2016-05-16</td>\n",
       "      <td>2015-06-05</td>\n",
       "      <td>11224</td>\n",
       "      <td>BROOKLYN</td>\n",
       "      <td>American</td>\n",
       "      <td>2780 STILLWELL AVENUE</td>\n",
       "      <td>4</td>\n",
       "      <td>1</td>\n",
       "      <td>1</td>\n",
       "      <td>NaN</td>\n",
       "      <td>NaN</td>\n",
       "    </tr>\n",
       "    <tr>\n",
       "      <th>40356151</th>\n",
       "      <td>13.0</td>\n",
       "      <td>5.0</td>\n",
       "      <td>2014-04-11</td>\n",
       "      <td>2016-05-14</td>\n",
       "      <td>2015-05-29</td>\n",
       "      <td>11369</td>\n",
       "      <td>QUEENS</td>\n",
       "      <td>American</td>\n",
       "      <td>8825 ASTORIA BOULEVARD</td>\n",
       "      <td>7</td>\n",
       "      <td>1</td>\n",
       "      <td>1</td>\n",
       "      <td>NaN</td>\n",
       "      <td>NaN</td>\n",
       "    </tr>\n",
       "  </tbody>\n",
       "</table>\n",
       "</div>"
      ],
      "text/plain": [
       "          crit_violations  non_crit_violations earliest_inspection  \\\n",
       "30075445              8.0                  4.0          2013-08-14   \n",
       "30112340             14.0                 10.0          2014-06-05   \n",
       "30191841              4.0                  7.0          2013-07-22   \n",
       "40356018              1.0                  7.0          2013-06-05   \n",
       "40356151             13.0                  5.0          2014-04-11   \n",
       "\n",
       "         latest_inspection second_latest_inspection zipcode       boro  \\\n",
       "30075445        2016-02-18               2015-02-09   10462      BRONX   \n",
       "30112340        2016-10-27               2016-10-03   11225   BROOKLYN   \n",
       "30191841        2016-05-31               2015-09-21   10019  MANHATTAN   \n",
       "40356018        2016-05-16               2015-06-05   11224   BROOKLYN   \n",
       "40356151        2016-05-14               2015-05-29   11369     QUEENS   \n",
       "\n",
       "             cuisine                 address  num_inspections  \\\n",
       "30075445      Bakery    1007 MORRIS PARK AVE                5   \n",
       "30112340  Hamburgers     469 FLATBUSH AVENUE                9   \n",
       "30191841       Irish    351 WEST   57 STREET                5   \n",
       "40356018    American   2780 STILLWELL AVENUE                4   \n",
       "40356151    American  8825 ASTORIA BOULEVARD                7   \n",
       "\n",
       "          crit_violations_recent_inspect  non_crit_violations_recent_inspect  \\\n",
       "30075445                               1                                   1   \n",
       "30112340                               1                                   1   \n",
       "30191841                               1                                   1   \n",
       "40356018                               1                                   1   \n",
       "40356151                               1                                   1   \n",
       "\n",
       "          crit_vs_sec_last_insp  prior_2p_crit_insps  \n",
       "30075445                    NaN                  NaN  \n",
       "30112340                    NaN                  NaN  \n",
       "30191841                    NaN                  NaN  \n",
       "40356018                    NaN                  NaN  \n",
       "40356151                    NaN                  NaN  "
      ]
     },
     "execution_count": 139,
     "metadata": {},
     "output_type": "execute_result"
    }
   ],
   "source": [
    "violations_df = pd.merge(crit_num,non_crit_num, how='outer', left_index=True, right_index = True)\n",
    "violations_df.index = violations_df.index.map(str)\n",
    "violations_df = violations_df.fillna(value=0)\n",
    "violations_df = violations_df.merge(first_inspect, how='inner', left_index=True, right_index = True)\n",
    "violations_df = violations_df.merge(last_inspect, how='inner', left_index=True, right_index = True)\n",
    "violations_df = violations_df.merge(sec_last_inspect, how='inner', left_index=True, right_index = True)\n",
    "violations_df = violations_df.merge(zips, how='inner', left_index=True, right_index = True)\n",
    "violations_df['zipcode'] = violations_df['zipcode'].map(int).map(str)\n",
    "violations_df = violations_df.merge(boros, how='inner', left_index=True, right_index = True)\n",
    "violations_df = violations_df.merge(cuisine, how='inner', left_index=True, right_index = True)\n",
    "violations_df = violations_df.merge(address, how='inner', left_index=True, right_index = True)\n",
    "violations_df = violations_df.merge(num_inspects, how='inner', left_index=True, right_index = True)\n",
    "violations_df = violations_df.merge(last_inspect_crit, how='inner', left_index=True, right_index = True)\n",
    "violations_df = violations_df.merge(last_inspect_non_crit, how='inner', left_index=True, right_index = True)\n",
    "violations_df = violations_df.merge(a, how = 'left', left_index=True, right_index=True)\n",
    "\n",
    "#violations_df = violations_df.merge(prior_violations_df, how = 'left', left_index=True, right_index=True)\n",
    "violations_df.head()"
   ]
  },
  {
   "cell_type": "markdown",
   "metadata": {},
   "source": [
    "#### Ignore businesses that only have 1 inspection (no prior history)"
   ]
  },
  {
   "cell_type": "code",
   "execution_count": 140,
   "metadata": {
    "collapsed": true
   },
   "outputs": [],
   "source": [
    "violations_df = violations_df[violations_df.num_inspections > 1]"
   ]
  },
  {
   "cell_type": "markdown",
   "metadata": {},
   "source": [
    "#### Reduce data leakage by reversing each business to the state just prior to its most recent inspection; \n",
    "#### The results of the most recent inspection (2+ critical violations) will form the target variable"
   ]
  },
  {
   "cell_type": "code",
   "execution_count": 113,
   "metadata": {
    "collapsed": false
   },
   "outputs": [
    {
     "data": {
      "text/html": [
       "<div>\n",
       "<table border=\"1\" class=\"dataframe\">\n",
       "  <thead>\n",
       "    <tr style=\"text-align: right;\">\n",
       "      <th></th>\n",
       "      <th>crit_violations</th>\n",
       "      <th>non_crit_violations</th>\n",
       "      <th>earliest_inspection</th>\n",
       "      <th>latest_inspection</th>\n",
       "      <th>second_latest_inspection</th>\n",
       "      <th>zipcode</th>\n",
       "      <th>boro</th>\n",
       "      <th>cuisine</th>\n",
       "      <th>address</th>\n",
       "      <th>num_inspections</th>\n",
       "      <th>...</th>\n",
       "      <th>crit_vs_sec_last_insp</th>\n",
       "      <th>prior_2p_crit_insps</th>\n",
       "      <th>crit_violations_train</th>\n",
       "      <th>non_crit_violations_train</th>\n",
       "      <th>num_inspections_train</th>\n",
       "      <th>average_crit_v_train</th>\n",
       "      <th>average_non_crit_v_train</th>\n",
       "      <th>time_since_last_inspection</th>\n",
       "      <th>time_since_first_inspection</th>\n",
       "      <th>crit_v_2plus</th>\n",
       "    </tr>\n",
       "  </thead>\n",
       "  <tbody>\n",
       "    <tr>\n",
       "      <th>30075445</th>\n",
       "      <td>8.0</td>\n",
       "      <td>4.0</td>\n",
       "      <td>2013-08-14</td>\n",
       "      <td>2016-02-18</td>\n",
       "      <td>2015-02-09</td>\n",
       "      <td>10462</td>\n",
       "      <td>BRONX</td>\n",
       "      <td>Bakery</td>\n",
       "      <td>1007 MORRIS PARK AVE</td>\n",
       "      <td>5</td>\n",
       "      <td>...</td>\n",
       "      <td>1</td>\n",
       "      <td>2</td>\n",
       "      <td>7.0</td>\n",
       "      <td>3.0</td>\n",
       "      <td>4</td>\n",
       "      <td>1.750</td>\n",
       "      <td>0.750000</td>\n",
       "      <td>374</td>\n",
       "      <td>918</td>\n",
       "      <td>0</td>\n",
       "    </tr>\n",
       "    <tr>\n",
       "      <th>30112340</th>\n",
       "      <td>14.0</td>\n",
       "      <td>10.0</td>\n",
       "      <td>2014-06-05</td>\n",
       "      <td>2016-10-27</td>\n",
       "      <td>2016-10-03</td>\n",
       "      <td>11225</td>\n",
       "      <td>BROOKLYN</td>\n",
       "      <td>Hamburgers</td>\n",
       "      <td>469 FLATBUSH AVENUE</td>\n",
       "      <td>9</td>\n",
       "      <td>...</td>\n",
       "      <td>3</td>\n",
       "      <td>4</td>\n",
       "      <td>13.0</td>\n",
       "      <td>9.0</td>\n",
       "      <td>8</td>\n",
       "      <td>1.625</td>\n",
       "      <td>1.125000</td>\n",
       "      <td>24</td>\n",
       "      <td>875</td>\n",
       "      <td>0</td>\n",
       "    </tr>\n",
       "    <tr>\n",
       "      <th>30191841</th>\n",
       "      <td>4.0</td>\n",
       "      <td>7.0</td>\n",
       "      <td>2013-07-22</td>\n",
       "      <td>2016-05-31</td>\n",
       "      <td>2015-09-21</td>\n",
       "      <td>10019</td>\n",
       "      <td>MANHATTAN</td>\n",
       "      <td>Irish</td>\n",
       "      <td>351 WEST   57 STREET</td>\n",
       "      <td>5</td>\n",
       "      <td>...</td>\n",
       "      <td>1</td>\n",
       "      <td>0</td>\n",
       "      <td>3.0</td>\n",
       "      <td>6.0</td>\n",
       "      <td>4</td>\n",
       "      <td>0.750</td>\n",
       "      <td>1.500000</td>\n",
       "      <td>253</td>\n",
       "      <td>1044</td>\n",
       "      <td>0</td>\n",
       "    </tr>\n",
       "    <tr>\n",
       "      <th>40356018</th>\n",
       "      <td>1.0</td>\n",
       "      <td>7.0</td>\n",
       "      <td>2013-06-05</td>\n",
       "      <td>2016-05-16</td>\n",
       "      <td>2015-06-05</td>\n",
       "      <td>11224</td>\n",
       "      <td>BROOKLYN</td>\n",
       "      <td>American</td>\n",
       "      <td>2780 STILLWELL AVENUE</td>\n",
       "      <td>4</td>\n",
       "      <td>...</td>\n",
       "      <td>0</td>\n",
       "      <td>0</td>\n",
       "      <td>0.0</td>\n",
       "      <td>6.0</td>\n",
       "      <td>3</td>\n",
       "      <td>0.000</td>\n",
       "      <td>2.000000</td>\n",
       "      <td>346</td>\n",
       "      <td>1076</td>\n",
       "      <td>0</td>\n",
       "    </tr>\n",
       "    <tr>\n",
       "      <th>40356151</th>\n",
       "      <td>13.0</td>\n",
       "      <td>5.0</td>\n",
       "      <td>2014-04-11</td>\n",
       "      <td>2016-05-14</td>\n",
       "      <td>2015-05-29</td>\n",
       "      <td>11369</td>\n",
       "      <td>QUEENS</td>\n",
       "      <td>American</td>\n",
       "      <td>8825 ASTORIA BOULEVARD</td>\n",
       "      <td>7</td>\n",
       "      <td>...</td>\n",
       "      <td>1</td>\n",
       "      <td>4</td>\n",
       "      <td>12.0</td>\n",
       "      <td>4.0</td>\n",
       "      <td>6</td>\n",
       "      <td>2.000</td>\n",
       "      <td>0.666667</td>\n",
       "      <td>351</td>\n",
       "      <td>764</td>\n",
       "      <td>0</td>\n",
       "    </tr>\n",
       "  </tbody>\n",
       "</table>\n",
       "<p>5 rows × 22 columns</p>\n",
       "</div>"
      ],
      "text/plain": [
       "          crit_violations  non_crit_violations earliest_inspection  \\\n",
       "30075445              8.0                  4.0          2013-08-14   \n",
       "30112340             14.0                 10.0          2014-06-05   \n",
       "30191841              4.0                  7.0          2013-07-22   \n",
       "40356018              1.0                  7.0          2013-06-05   \n",
       "40356151             13.0                  5.0          2014-04-11   \n",
       "\n",
       "         latest_inspection second_latest_inspection zipcode       boro  \\\n",
       "30075445        2016-02-18               2015-02-09   10462      BRONX   \n",
       "30112340        2016-10-27               2016-10-03   11225   BROOKLYN   \n",
       "30191841        2016-05-31               2015-09-21   10019  MANHATTAN   \n",
       "40356018        2016-05-16               2015-06-05   11224   BROOKLYN   \n",
       "40356151        2016-05-14               2015-05-29   11369     QUEENS   \n",
       "\n",
       "             cuisine                 address  num_inspections      ...       \\\n",
       "30075445      Bakery    1007 MORRIS PARK AVE                5      ...        \n",
       "30112340  Hamburgers     469 FLATBUSH AVENUE                9      ...        \n",
       "30191841       Irish    351 WEST   57 STREET                5      ...        \n",
       "40356018    American   2780 STILLWELL AVENUE                4      ...        \n",
       "40356151    American  8825 ASTORIA BOULEVARD                7      ...        \n",
       "\n",
       "          crit_vs_sec_last_insp  prior_2p_crit_insps  crit_violations_train  \\\n",
       "30075445                      1                    2                    7.0   \n",
       "30112340                      3                    4                   13.0   \n",
       "30191841                      1                    0                    3.0   \n",
       "40356018                      0                    0                    0.0   \n",
       "40356151                      1                    4                   12.0   \n",
       "\n",
       "          non_crit_violations_train  num_inspections_train  \\\n",
       "30075445                        3.0                      4   \n",
       "30112340                        9.0                      8   \n",
       "30191841                        6.0                      4   \n",
       "40356018                        6.0                      3   \n",
       "40356151                        4.0                      6   \n",
       "\n",
       "          average_crit_v_train  average_non_crit_v_train  \\\n",
       "30075445                 1.750                  0.750000   \n",
       "30112340                 1.625                  1.125000   \n",
       "30191841                 0.750                  1.500000   \n",
       "40356018                 0.000                  2.000000   \n",
       "40356151                 2.000                  0.666667   \n",
       "\n",
       "          time_since_last_inspection  time_since_first_inspection  \\\n",
       "30075445                         374                          918   \n",
       "30112340                          24                          875   \n",
       "30191841                         253                         1044   \n",
       "40356018                         346                         1076   \n",
       "40356151                         351                          764   \n",
       "\n",
       "          crit_v_2plus  \n",
       "30075445             0  \n",
       "30112340             0  \n",
       "30191841             0  \n",
       "40356018             0  \n",
       "40356151             0  \n",
       "\n",
       "[5 rows x 22 columns]"
      ]
     },
     "execution_count": 113,
     "metadata": {},
     "output_type": "execute_result"
    }
   ],
   "source": [
    "violations_df['crit_violations_train'] = violations_df['crit_violations'] - violations_df['crit_violations_recent_inspect']\n",
    "violations_df['non_crit_violations_train'] = violations_df['non_crit_violations'] - violations_df['non_crit_violations_recent_inspect']\n",
    "violations_df['num_inspections_train'] = violations_df['num_inspections'] - 1\n",
    "violations_df['average_crit_v_train'] = violations_df['crit_violations_train'] / violations_df['num_inspections_train']\n",
    "violations_df['average_non_crit_v_train'] = violations_df['non_crit_violations_train'] / violations_df['num_inspections_train']\n",
    "violations_df['time_since_last_inspection'] = (violations_df['latest_inspection'] - violations_df['second_latest_inspection'])\n",
    "violations_df['time_since_last_inspection'] = (violations_df['time_since_last_inspection'] / np.timedelta64(1, 'D')).astype(int)\n",
    "violations_df['time_since_first_inspection'] = (violations_df['latest_inspection'] - violations_df['earliest_inspection'])\n",
    "violations_df['time_since_first_inspection'] = (violations_df['time_since_first_inspection'] / np.timedelta64(1, 'D')).astype(int)\n",
    "violations_df['crit_v_2plus'] = (violations_df['crit_violations_recent_inspect'] > 1)*1\n",
    "violations_df.head()"
   ]
  },
  {
   "cell_type": "code",
   "execution_count": 114,
   "metadata": {
    "collapsed": false
   },
   "outputs": [
    {
     "data": {
      "text/html": [
       "<div>\n",
       "<table border=\"1\" class=\"dataframe\">\n",
       "  <thead>\n",
       "    <tr style=\"text-align: right;\">\n",
       "      <th></th>\n",
       "      <th>zipcode</th>\n",
       "      <th>boro</th>\n",
       "      <th>cuisine</th>\n",
       "      <th>crit_vs_sec_last_insp</th>\n",
       "      <th>prior_2p_crit_insps</th>\n",
       "      <th>crit_violations_train</th>\n",
       "      <th>non_crit_violations_train</th>\n",
       "      <th>num_inspections_train</th>\n",
       "      <th>average_crit_v_train</th>\n",
       "      <th>average_non_crit_v_train</th>\n",
       "      <th>time_since_last_inspection</th>\n",
       "      <th>time_since_first_inspection</th>\n",
       "      <th>crit_v_2plus</th>\n",
       "    </tr>\n",
       "  </thead>\n",
       "  <tbody>\n",
       "    <tr>\n",
       "      <th>30075445</th>\n",
       "      <td>10462</td>\n",
       "      <td>BRONX</td>\n",
       "      <td>Bakery</td>\n",
       "      <td>1</td>\n",
       "      <td>2</td>\n",
       "      <td>7.0</td>\n",
       "      <td>3.0</td>\n",
       "      <td>4</td>\n",
       "      <td>1.750</td>\n",
       "      <td>0.750000</td>\n",
       "      <td>374</td>\n",
       "      <td>918</td>\n",
       "      <td>0</td>\n",
       "    </tr>\n",
       "    <tr>\n",
       "      <th>30112340</th>\n",
       "      <td>11225</td>\n",
       "      <td>BROOKLYN</td>\n",
       "      <td>Hamburgers</td>\n",
       "      <td>3</td>\n",
       "      <td>4</td>\n",
       "      <td>13.0</td>\n",
       "      <td>9.0</td>\n",
       "      <td>8</td>\n",
       "      <td>1.625</td>\n",
       "      <td>1.125000</td>\n",
       "      <td>24</td>\n",
       "      <td>875</td>\n",
       "      <td>0</td>\n",
       "    </tr>\n",
       "    <tr>\n",
       "      <th>30191841</th>\n",
       "      <td>10019</td>\n",
       "      <td>MANHATTAN</td>\n",
       "      <td>Irish</td>\n",
       "      <td>1</td>\n",
       "      <td>0</td>\n",
       "      <td>3.0</td>\n",
       "      <td>6.0</td>\n",
       "      <td>4</td>\n",
       "      <td>0.750</td>\n",
       "      <td>1.500000</td>\n",
       "      <td>253</td>\n",
       "      <td>1044</td>\n",
       "      <td>0</td>\n",
       "    </tr>\n",
       "    <tr>\n",
       "      <th>40356018</th>\n",
       "      <td>11224</td>\n",
       "      <td>BROOKLYN</td>\n",
       "      <td>American</td>\n",
       "      <td>0</td>\n",
       "      <td>0</td>\n",
       "      <td>0.0</td>\n",
       "      <td>6.0</td>\n",
       "      <td>3</td>\n",
       "      <td>0.000</td>\n",
       "      <td>2.000000</td>\n",
       "      <td>346</td>\n",
       "      <td>1076</td>\n",
       "      <td>0</td>\n",
       "    </tr>\n",
       "    <tr>\n",
       "      <th>40356151</th>\n",
       "      <td>11369</td>\n",
       "      <td>QUEENS</td>\n",
       "      <td>American</td>\n",
       "      <td>1</td>\n",
       "      <td>4</td>\n",
       "      <td>12.0</td>\n",
       "      <td>4.0</td>\n",
       "      <td>6</td>\n",
       "      <td>2.000</td>\n",
       "      <td>0.666667</td>\n",
       "      <td>351</td>\n",
       "      <td>764</td>\n",
       "      <td>0</td>\n",
       "    </tr>\n",
       "  </tbody>\n",
       "</table>\n",
       "</div>"
      ],
      "text/plain": [
       "         zipcode       boro     cuisine  crit_vs_sec_last_insp  \\\n",
       "30075445   10462      BRONX      Bakery                      1   \n",
       "30112340   11225   BROOKLYN  Hamburgers                      3   \n",
       "30191841   10019  MANHATTAN       Irish                      1   \n",
       "40356018   11224   BROOKLYN    American                      0   \n",
       "40356151   11369     QUEENS    American                      1   \n",
       "\n",
       "          prior_2p_crit_insps  crit_violations_train  \\\n",
       "30075445                    2                    7.0   \n",
       "30112340                    4                   13.0   \n",
       "30191841                    0                    3.0   \n",
       "40356018                    0                    0.0   \n",
       "40356151                    4                   12.0   \n",
       "\n",
       "          non_crit_violations_train  num_inspections_train  \\\n",
       "30075445                        3.0                      4   \n",
       "30112340                        9.0                      8   \n",
       "30191841                        6.0                      4   \n",
       "40356018                        6.0                      3   \n",
       "40356151                        4.0                      6   \n",
       "\n",
       "          average_crit_v_train  average_non_crit_v_train  \\\n",
       "30075445                 1.750                  0.750000   \n",
       "30112340                 1.625                  1.125000   \n",
       "30191841                 0.750                  1.500000   \n",
       "40356018                 0.000                  2.000000   \n",
       "40356151                 2.000                  0.666667   \n",
       "\n",
       "          time_since_last_inspection  time_since_first_inspection  \\\n",
       "30075445                         374                          918   \n",
       "30112340                          24                          875   \n",
       "30191841                         253                         1044   \n",
       "40356018                         346                         1076   \n",
       "40356151                         351                          764   \n",
       "\n",
       "          crit_v_2plus  \n",
       "30075445             0  \n",
       "30112340             0  \n",
       "30191841             0  \n",
       "40356018             0  \n",
       "40356151             0  "
      ]
     },
     "execution_count": 114,
     "metadata": {},
     "output_type": "execute_result"
    }
   ],
   "source": [
    "violations_df2 = violations_df.drop(['address','crit_violations','earliest_inspection','latest_inspection','second_latest_inspection','non_crit_violations','num_inspections','crit_violations_recent_inspect','non_crit_violations_recent_inspect'],axis=1)\n",
    "violations_df2.head()"
   ]
  },
  {
   "cell_type": "code",
   "execution_count": 115,
   "metadata": {
    "collapsed": false
   },
   "outputs": [],
   "source": [
    "violations_df3 = pd.get_dummies(violations_df2)"
   ]
  },
  {
   "cell_type": "code",
   "execution_count": 116,
   "metadata": {
    "collapsed": false
   },
   "outputs": [],
   "source": [
    "X = violations_df3.drop(['crit_v_2plus'],axis=1)\n",
    "y = violations_df3['crit_v_2plus']\n",
    "X_train, X_test, y_train, y_test = train_test_split(X, y, test_size=0.2, random_state=42)"
   ]
  },
  {
   "cell_type": "markdown",
   "metadata": {},
   "source": [
    "#### Calculate metrics of predicting 0 class for all"
   ]
  },
  {
   "cell_type": "code",
   "execution_count": 117,
   "metadata": {
    "collapsed": false
   },
   "outputs": [
    {
     "name": "stdout",
     "output_type": "stream",
     "text": [
      "accuracy = 0.657040519364\n",
      "recall = 0.0\n",
      "precision = 0.0\n",
      "f1 = 0.0\n"
     ]
    },
    {
     "name": "stderr",
     "output_type": "stream",
     "text": [
      "//anaconda/envs/mypy35/lib/python3.5/site-packages/sklearn/metrics/classification.py:1113: UndefinedMetricWarning: Precision is ill-defined and being set to 0.0 due to no predicted samples.\n",
      "  'precision', 'predicted', average, warn_for)\n",
      "//anaconda/envs/mypy35/lib/python3.5/site-packages/sklearn/metrics/classification.py:1113: UndefinedMetricWarning: F-score is ill-defined and being set to 0.0 due to no predicted samples.\n",
      "  'precision', 'predicted', average, warn_for)\n"
     ]
    }
   ],
   "source": [
    "pred_zero = np.zeros(len(y_test))\n",
    "print('accuracy = ' + str(sklearn.metrics.accuracy_score(y_test, pred_zero)))\n",
    "print('recall = ' + str(sklearn.metrics.recall_score(y_test, pred_zero)))\n",
    "print('precision = ' + str(sklearn.metrics.precision_score(y_test, pred_zero)))\n",
    "print('f1 = ' + str(sklearn.metrics.f1_score(y_test, pred_zero)))"
   ]
  },
  {
   "cell_type": "markdown",
   "metadata": {},
   "source": [
    "### Logistic Regression"
   ]
  },
  {
   "cell_type": "markdown",
   "metadata": {},
   "source": [
    "w/ L2-regularization"
   ]
  },
  {
   "cell_type": "code",
   "execution_count": 118,
   "metadata": {
    "collapsed": false
   },
   "outputs": [
    {
     "name": "stdout",
     "output_type": "stream",
     "text": [
      "accuracy = 0.666218938885\n",
      "recall = 0.222584856397\n",
      "precision = 0.531981279251\n",
      "f1 = 0.313851817763\n"
     ]
    }
   ],
   "source": [
    "lr = linear_model.LogisticRegression(penalty = 'l2',C=1e20)\n",
    "lr.fit(X_train, y_train)\n",
    "pred_lr = lr.predict(X_test)\n",
    "print('accuracy = ' + str(sklearn.metrics.accuracy_score(y_test, pred_lr)))\n",
    "print('recall = ' + str(sklearn.metrics.recall_score(y_test, pred_lr)))\n",
    "print('precision = ' + str(sklearn.metrics.precision_score(y_test, pred_lr)))\n",
    "print('f1 = ' + str(sklearn.metrics.f1_score(y_test, pred_lr)))"
   ]
  },
  {
   "cell_type": "markdown",
   "metadata": {},
   "source": [
    "w/ L1-regularization"
   ]
  },
  {
   "cell_type": "code",
   "execution_count": 119,
   "metadata": {
    "collapsed": false
   },
   "outputs": [
    {
     "name": "stdout",
     "output_type": "stream",
     "text": [
      "accuracy = 0.663308708305\n",
      "recall = 0.238250652742\n",
      "precision = 0.519943019943\n",
      "f1 = 0.326768128917\n"
     ]
    }
   ],
   "source": [
    "lr = linear_model.LogisticRegression(penalty = 'l1',C=1e20)\n",
    "lr.fit(X_train, y_train)\n",
    "pred_lr = lr.predict(X_test)\n",
    "print('accuracy = ' + str(sklearn.metrics.accuracy_score(y_test, pred_lr)))\n",
    "print('recall = ' + str(sklearn.metrics.recall_score(y_test, pred_lr)))\n",
    "print('precision = ' + str(sklearn.metrics.precision_score(y_test, pred_lr)))\n",
    "print('f1 = ' + str(sklearn.metrics.f1_score(y_test, pred_lr)))"
   ]
  },
  {
   "cell_type": "markdown",
   "metadata": {},
   "source": [
    "### Naive Bayes"
   ]
  },
  {
   "cell_type": "markdown",
   "metadata": {},
   "source": [
    "#### w/ fit prior:"
   ]
  },
  {
   "cell_type": "code",
   "execution_count": 120,
   "metadata": {
    "collapsed": false
   },
   "outputs": [
    {
     "name": "stdout",
     "output_type": "stream",
     "text": [
      "accuracy = 0.641593910902\n",
      "recall = 0.160574412533\n",
      "precision = 0.438502673797\n",
      "f1 = 0.235069278548\n"
     ]
    }
   ],
   "source": [
    "nb = BernoulliNB(alpha=1,fit_prior=True)\n",
    "nb.fit(X_train, y_train)\n",
    "pred_nb = nb.predict(X_test)\n",
    "print('accuracy = ' + str(sklearn.metrics.accuracy_score(y_test, pred_nb)))\n",
    "print('recall = ' + str(sklearn.metrics.recall_score(y_test, pred_nb)))\n",
    "print('precision = ' + str(sklearn.metrics.precision_score(y_test, pred_nb)))\n",
    "print('f1 = ' + str(sklearn.metrics.f1_score(y_test, pred_nb)))"
   ]
  },
  {
   "cell_type": "markdown",
   "metadata": {},
   "source": [
    "#### w/ uniform prior"
   ]
  },
  {
   "cell_type": "code",
   "execution_count": 121,
   "metadata": {
    "collapsed": false
   },
   "outputs": [
    {
     "name": "stdout",
     "output_type": "stream",
     "text": [
      "accuracy = 0.551152899037\n",
      "recall = 0.686031331593\n",
      "precision = 0.408155339806\n",
      "f1 = 0.511809106404\n"
     ]
    }
   ],
   "source": [
    "nb = BernoulliNB(alpha=1,fit_prior=False)\n",
    "nb.fit(X_train, y_train)\n",
    "pred_nb = nb.predict(X_test)\n",
    "print('accuracy = ' + str(sklearn.metrics.accuracy_score(y_test, pred_nb)))\n",
    "print('recall = ' + str(sklearn.metrics.recall_score(y_test, pred_nb)))\n",
    "print('precision = ' + str(sklearn.metrics.precision_score(y_test, pred_nb)))\n",
    "print('f1 = ' + str(sklearn.metrics.f1_score(y_test, pred_nb)))"
   ]
  },
  {
   "cell_type": "markdown",
   "metadata": {},
   "source": [
    "### Random Forest"
   ]
  },
  {
   "cell_type": "markdown",
   "metadata": {},
   "source": [
    "#### 10 trees"
   ]
  },
  {
   "cell_type": "code",
   "execution_count": 122,
   "metadata": {
    "collapsed": false
   },
   "outputs": [
    {
     "name": "stdout",
     "output_type": "stream",
     "text": [
      "accuracy = 0.652339377658\n",
      "recall = 0.227806788512\n",
      "precision = 0.485396383866\n",
      "f1 = 0.31008440693\n"
     ]
    }
   ],
   "source": [
    "rf = RandomForestClassifier(n_estimators=10)\n",
    "rf.fit(X_train, y_train)\n",
    "pred_rf = rf.predict(X_test)\n",
    "print('accuracy = ' + str(sklearn.metrics.accuracy_score(y_test, pred_rf)))\n",
    "print('recall = ' + str(sklearn.metrics.recall_score(y_test, pred_rf)))\n",
    "print('precision = ' + str(sklearn.metrics.precision_score(y_test, pred_rf)))\n",
    "print('f1 = ' + str(sklearn.metrics.f1_score(y_test, pred_rf)))"
   ]
  },
  {
   "cell_type": "markdown",
   "metadata": {},
   "source": [
    "#### 20 trees"
   ]
  },
  {
   "cell_type": "code",
   "execution_count": 123,
   "metadata": {
    "collapsed": false
   },
   "outputs": [
    {
     "name": "stdout",
     "output_type": "stream",
     "text": [
      "accuracy = 0.671143944482\n",
      "recall = 0.27088772846\n",
      "precision = 0.541069100391\n",
      "f1 = 0.361026533275\n"
     ]
    }
   ],
   "source": [
    "rf = RandomForestClassifier(n_estimators=20)\n",
    "rf.fit(X_train, y_train)\n",
    "pred_rf = rf.predict(X_test)\n",
    "print('accuracy = ' + str(sklearn.metrics.accuracy_score(y_test, pred_rf)))\n",
    "print('recall = ' + str(sklearn.metrics.recall_score(y_test, pred_rf)))\n",
    "print('precision = ' + str(sklearn.metrics.precision_score(y_test, pred_rf)))\n",
    "print('f1 = ' + str(sklearn.metrics.f1_score(y_test, pred_rf)))"
   ]
  },
  {
   "cell_type": "code",
   "execution_count": null,
   "metadata": {
    "collapsed": true
   },
   "outputs": [],
   "source": []
  }
 ],
 "metadata": {
  "anaconda-cloud": {},
  "kernelspec": {
   "display_name": "Python [mypy35]",
   "language": "python",
   "name": "Python [mypy35]"
  },
  "language_info": {
   "codemirror_mode": {
    "name": "ipython",
    "version": 3
   },
   "file_extension": ".py",
   "mimetype": "text/x-python",
   "name": "python",
   "nbconvert_exporter": "python",
   "pygments_lexer": "ipython3",
   "version": "3.5.2"
  }
 },
 "nbformat": 4,
 "nbformat_minor": 0
}
