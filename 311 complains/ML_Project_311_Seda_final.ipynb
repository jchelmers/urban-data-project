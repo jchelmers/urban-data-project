{
 "cells": [
  {
   "cell_type": "code",
   "execution_count": 1,
   "metadata": {
    "collapsed": true
   },
   "outputs": [],
   "source": [
    "import numpy as np\n",
    "import pandas as pd\n",
    "import matplotlib.pyplot as plt\n",
    "import sklearn\n",
    "from sklearn import preprocessing\n",
    "from sklearn import linear_model\n",
    "from sklearn import svm\n",
    "from sklearn import metrics\n",
    "from sklearn.model_selection import train_test_split\n",
    "from sklearn.naive_bayes import BernoulliNB\n",
    "from sklearn.ensemble import RandomForestClassifier\n",
    "%matplotlib inline"
   ]
  },
  {
   "cell_type": "code",
   "execution_count": 2,
   "metadata": {
    "collapsed": false
   },
   "outputs": [],
   "source": [
    "#load the data\n",
    "violations_df = pd.read_csv('health_inspect_cleaned_loc_added.csv', index_col=0) # file is in GitHub "
   ]
  },
  {
   "cell_type": "code",
   "execution_count": 3,
   "metadata": {
    "collapsed": false
   },
   "outputs": [
    {
     "data": {
      "text/plain": [
       "22307"
      ]
     },
     "execution_count": 3,
     "metadata": {},
     "output_type": "execute_result"
    }
   ],
   "source": [
    "vdf=violations_df[~pd.isnull(violations_df['latitude'])] \n",
    "len(vdf)"
   ]
  },
  {
   "cell_type": "markdown",
   "metadata": {},
   "source": [
    "### Finding number of complains in 311 dataset"
   ]
  },
  {
   "cell_type": "code",
   "execution_count": 2,
   "metadata": {
    "collapsed": false
   },
   "outputs": [
    {
     "name": "stderr",
     "output_type": "stream",
     "text": [
      "/Users/motorrecoveryresearchlab/anaconda/envs/py27/lib/python2.7/site-packages/IPython/core/interactiveshell.py:2717: DtypeWarning: Columns (17) have mixed types. Specify dtype option on import or set low_memory=False.\n",
      "  interactivity=interactivity, compiler=compiler, result=result)\n"
     ]
    }
   ],
   "source": [
    "#import data\n",
    "complains_311_filtered = pd.read_csv('311_Service_Requests_from_last_year_filted.csv', index_col=0) # file is in GitHub \n",
    "#complains_311_filtered"
   ]
  },
  {
   "cell_type": "code",
   "execution_count": 3,
   "metadata": {
    "collapsed": false
   },
   "outputs": [],
   "source": [
    "#convert to datetime object \n",
    "date_format = \"%Y-%m-%d\" \n",
    "date_format2 = \"%m/%d/%Y\"\n",
    "vdf['latest_inspection']= pd.to_datetime(vdf['latest_inspection']) \n",
    "complains_311_filtered['Created Date']= pd.to_datetime(complains_311_filtered['Created Date']) \n"
   ]
  },
  {
   "cell_type": "code",
   "execution_count": 4,
   "metadata": {
    "collapsed": false
   },
   "outputs": [
    {
     "data": {
      "text/plain": [
       "458503"
      ]
     },
     "execution_count": 4,
     "metadata": {},
     "output_type": "execute_result"
    }
   ],
   "source": [
    "complains_311_filtered=complains_311_filtered[~pd.isnull(complains_311_filtered['Latitude'])] \n",
    "len(complains_311_filtered)"
   ]
  },
  {
   "cell_type": "code",
   "execution_count": 5,
   "metadata": {
    "collapsed": false
   },
   "outputs": [],
   "source": [
    "#break down the complaints \n",
    "rodent=complains_311_filtered[complains_311_filtered['Complaint Type']=='Rodent'] \n",
    "dirty_conditions=complains_311_filtered[complains_311_filtered['Complaint Type']=='Dirty Conditions']\n",
    "electric=complains_311_filtered[complains_311_filtered['Complaint Type']=='ELECTRIC']\n",
    "food_establishment=complains_311_filtered[complains_311_filtered['Complaint Type']=='Food Establishment']\n",
    "general=complains_311_filtered[complains_311_filtered['Complaint Type']=='GENERAL']\n",
    "missed_collection=complains_311_filtered[complains_311_filtered['Complaint Type']=='Missed Collection (All Materials)']\n",
    "\n",
    "noise=complains_311_filtered[complains_311_filtered['Complaint Type']=='Noise']\n",
    "police_matter=complains_311_filtered[complains_311_filtered['Complaint Type']=='Non-Emergency Police Matter']\n",
    "plumbing=complains_311_filtered[(complains_311_filtered['Complaint Type']=='PLUMBING')| (complains_311_filtered['Complaint Type']=='Plumbing')]\n",
    "safety=complains_311_filtered[complains_311_filtered['Complaint Type']=='SAFETY']\n",
    "sanitary=complains_311_filtered[(complains_311_filtered['Complaint Type']=='Sanitation Condition') | (complains_311_filtered['Complaint Type']=='UNSANITARY CONDITION')|(complains_311_filtered['Complaint Type']=='WATER LEAK')| (complains_311_filtered['Complaint Type']=='Sewer')]\n",
    "food_poisoning=complains_311_filtered[complains_311_filtered['Complaint Type']=='Food Poisoning']\n",
    "\n"
   ]
  },
  {
   "cell_type": "code",
   "execution_count": 8,
   "metadata": {
    "collapsed": false
   },
   "outputs": [
    {
     "name": "stdout",
     "output_type": "stream",
     "text": [
      "31598\n",
      "33837\n",
      "27509\n",
      "9811\n",
      "25772\n",
      "30306\n",
      "55468\n",
      "8868\n",
      "55097\n",
      "8000\n",
      "174625\n",
      "3067\n"
     ]
    }
   ],
   "source": [
    "print(len(rodent)) \n",
    "print(len(dirty_conditions)) \n",
    "print(len(electric))\n",
    "print(len(food_establishment))\n",
    "print(len(general))\n",
    "print(len(missed_collection))\n",
    "print(len(noise))\n",
    "print(len(police_matter))\n",
    "print(len(plumbing)) \n",
    "print(len(safety)) \n",
    "print(len(sanitary)) \n",
    "print(len(food_poisoning))"
   ]
  },
  {
   "cell_type": "code",
   "execution_count": 20,
   "metadata": {
    "collapsed": true
   },
   "outputs": [],
   "source": [
    "from math import radians, cos, sin, asin, sqrt\n",
    "\n",
    "def haversine(lon1, lat1, lon2, lat2):\n",
    "    \"\"\"\n",
    "    Calculate the great circle distance between two points \n",
    "    on the earth (specified in decimal degrees)\n",
    "    \"\"\"\n",
    "    # convert decimal degrees to radians \n",
    "    lon1, lat1, lon2, lat2 = map(radians, [lon1, lat1, lon2, lat2])\n",
    "\n",
    "    # haversine formula \n",
    "    dlon = lon2 - lon1 \n",
    "    dlat = lat2 - lat1 \n",
    "    a = sin(dlat/2)**2 + cos(lat1) * cos(lat2) * sin(dlon/2)**2\n",
    "    c = 2 * asin(sqrt(a)) \n",
    "    r = 6371 # Radius of earth in kilometers. Use 3956 for miles\n",
    "    return c * r\n"
   ]
  },
  {
   "cell_type": "code",
   "execution_count": null,
   "metadata": {
    "collapsed": true
   },
   "outputs": [],
   "source": [
    "food_poisoning \n",
    "#only inlcude the restaurant poisoning\n",
    "food_poisoning=food_poisoning[food_poisoning['Location Type']=='Restaurant/Bar/Deli/Bakery']"
   ]
  },
  {
   "cell_type": "code",
   "execution_count": 58,
   "metadata": {
    "collapsed": false
   },
   "outputs": [
    {
     "name": "stderr",
     "output_type": "stream",
     "text": [
      "/Users/motorrecoveryresearchlab/anaconda/envs/py27/lib/python2.7/site-packages/ipykernel_launcher.py:26: SettingWithCopyWarning: \n",
      "A value is trying to be set on a copy of a slice from a DataFrame.\n",
      "Try using .loc[row_indexer,col_indexer] = value instead\n",
      "\n",
      "See the caveats in the documentation: http://pandas.pydata.org/pandas-docs/stable/indexing.html#indexing-view-versus-copy\n"
     ]
    }
   ],
   "source": [
    "#food_poisoning\n",
    "from tqdm import tqdm \n",
    "\n",
    "#initilize arrays\n",
    "complain_count = []\n",
    "\n",
    "#loop through all the entries in the violation data frame \n",
    "radius = 0.30 # in kilometer, around 3 streets\n",
    "\n",
    "for index, row in (vdf.iterrows()):\n",
    " \n",
    "    #loop through all the entries in the 311 data frame \n",
    "    cc=0\n",
    "    for index2, row2 in (food_poisoning.iterrows()):\n",
    "        a = haversine(row['longitude'],row['latitude'], row2['Longitude'], row2['Latitude']) \n",
    "         \n",
    "        #check if the complain is inside the circle\n",
    "        if a < radius:  \n",
    "            \n",
    "            cc=cc+1 \n",
    "                \n",
    "    complain_count.append(cc)\n",
    "  \n",
    "vdf['food_poisoning_complains'] = complain_count\n"
   ]
  },
  {
   "cell_type": "code",
   "execution_count": 23,
   "metadata": {
    "collapsed": false
   },
   "outputs": [
    {
     "data": {
      "text/plain": [
       "8584"
      ]
     },
     "execution_count": 23,
     "metadata": {},
     "output_type": "execute_result"
    }
   ],
   "source": [
    "food_establishment=food_establishment[food_establishment['Location Type']=='Restaurant/Bar/Deli/Bakery']\n",
    "len(food_establishment)\n",
    "#food_establishment"
   ]
  },
  {
   "cell_type": "code",
   "execution_count": null,
   "metadata": {
    "collapsed": false
   },
   "outputs": [
    {
     "name": "stderr",
     "output_type": "stream",
     "text": [
      "3it [00:06,  2.08s/it]"
     ]
    }
   ],
   "source": [
    "#food_establishment\n",
    "from tqdm import tqdm \n",
    "\n",
    "#date format for date comparison\n",
    "from datetime import datetime  \n",
    "\n",
    "#initilize arrays\n",
    "complain_count = []\n",
    "lat1 = []\n",
    "lon1 = []\n",
    "lat2 = []\n",
    "lon2 = [] \n",
    "\n",
    "#loop through all the entries in the violation data frame \n",
    "radius = 0.30 # in kilometer, around 3 streets\n",
    "\n",
    "\n",
    "for index, row in tqdm(vdf.iterrows()):\n",
    " \n",
    "    #loop through all the entries in the 311 data frame \n",
    "    cc=0\n",
    "    for index2, row2 in food_establishment.iterrows():\n",
    "        a = haversine(row['longitude'],row['latitude'], row2['Longitude'], row2['Latitude']) \n",
    "         \n",
    "        #check if the complain is inside the circle\n",
    "        if a < radius:  \n",
    "            \n",
    "            cc=cc+1  \n",
    "                \n",
    "    complain_count.append(cc)\n",
    "  \n",
    "vdf['food_establishment_complains'] = complain_count \n"
   ]
  },
  {
   "cell_type": "code",
   "execution_count": null,
   "metadata": {
    "collapsed": true
   },
   "outputs": [],
   "source": [
    "#rodent\n",
    "from tqdm import tqdm \n",
    "\n",
    "#date format for date comparison\n",
    "from datetime import datetime  \n",
    "\n",
    "#initilize arrays\n",
    "complain_count = []\n",
    "lat1 = []\n",
    "lon1 = []\n",
    "lat2 = []\n",
    "lon2 = [] \n",
    "\n",
    "#loop through all the entries in the violation data frame \n",
    "radius = 0.30 # in kilometer, around 3 streets\n",
    "\n",
    "\n",
    "for index, row in tqdm(vdf.iterrows()):\n",
    " \n",
    "    #loop through all the entries in the 311 data frame \n",
    "    cc=0\n",
    "    for index2, row2 in rodent.iterrows():\n",
    "        a = haversine(row['longitude'],row['latitude'], row2['Longitude'], row2['Latitude']) \n",
    "         \n",
    "        #check if the complain is inside the circle\n",
    "        if a < radius:  \n",
    "            \n",
    "            cc=cc+1 \n",
    "                \n",
    "    complain_count.append(cc)\n",
    "  \n",
    "vdf['rodent_complains'] = complain_count \n"
   ]
  },
  {
   "cell_type": "code",
   "execution_count": null,
   "metadata": {
    "collapsed": true
   },
   "outputs": [],
   "source": [
    "#dirty conditions\n",
    "from tqdm import tqdm \n",
    "\n",
    "#date format for date comparison\n",
    "from datetime import datetime  \n",
    "\n",
    "#initilize arrays\n",
    "complain_count = []\n",
    "lat1 = []\n",
    "lon1 = []\n",
    "lat2 = []\n",
    "lon2 = [] \n",
    "\n",
    "#loop through all the entries in the violation data frame \n",
    "radius = 0.30 # in kilometer, around 3 streets\n",
    "\n",
    "\n",
    "for index, row in tqdm(vdf.iterrows()):\n",
    " \n",
    "    #loop through all the entries in the 311 data frame \n",
    "    cc=0\n",
    "    for index2, row2 in dirty_conditions.iterrows():\n",
    "        a = haversine(row['longitude'],row['latitude'], row2['Longitude'], row2['Latitude']) \n",
    "         \n",
    "        #check if the complain is inside the circle\n",
    "        if a < radius:  \n",
    "            \n",
    "            cc=cc+1 \n",
    "                \n",
    "    complain_count.append(cc)\n",
    "  \n",
    "vdf['dirty_conditions_complains'] = complain_count \n"
   ]
  },
  {
   "cell_type": "code",
   "execution_count": null,
   "metadata": {
    "collapsed": true
   },
   "outputs": [],
   "source": [
    "#electric\n",
    "from tqdm import tqdm \n",
    "\n",
    "#date format for date comparison\n",
    "from datetime import datetime  \n",
    "\n",
    "#initilize arrays\n",
    "complain_count = []\n",
    "lat1 = []\n",
    "lon1 = []\n",
    "lat2 = []\n",
    "lon2 = [] \n",
    "\n",
    "#loop through all the entries in the violation data frame \n",
    "radius = 0.30 # in kilometer, around 3 streets\n",
    "\n",
    "\n",
    "for index, row in tqdm(vdf.iterrows()):\n",
    " \n",
    "    #loop through all the entries in the 311 data frame \n",
    "    cc=0\n",
    "    for index2, row2 in electric.iterrows():\n",
    "        a = haversine(row['longitude'],row['latitude'], row2['Longitude'], row2['Latitude']) \n",
    "         \n",
    "        #check if the complain is inside the circle\n",
    "        if a < radius:  \n",
    "            \n",
    "            cc=cc+1  \n",
    "                \n",
    "    complain_count.append(cc)\n",
    "  \n",
    "vdf['electric_complains'] = complain_count \n"
   ]
  },
  {
   "cell_type": "code",
   "execution_count": null,
   "metadata": {
    "collapsed": true
   },
   "outputs": [],
   "source": [
    "#general\n",
    "from tqdm import tqdm \n",
    "\n",
    "#date format for date comparison\n",
    "from datetime import datetime  \n",
    "\n",
    "#initilize arrays\n",
    "complain_count = []\n",
    "lat1 = []\n",
    "lon1 = []\n",
    "lat2 = []\n",
    "lon2 = [] \n",
    "\n",
    "#loop through all the entries in the violation data frame \n",
    "radius = 0.30 # in kilometer, around 3 streets\n",
    "\n",
    "\n",
    "for index, row in tqdm(vdf.iterrows()):\n",
    " \n",
    "    #loop through all the entries in the 311 data frame \n",
    "    cc=0\n",
    "    for index2, row2 in general.iterrows():\n",
    "        a = haversine(row['longitude'],row['latitude'], row2['Longitude'], row2['Latitude']) \n",
    "         \n",
    "        #check if the complain is inside the circle\n",
    "        if a < radius:  \n",
    "            \n",
    "            cc=cc+1 \n",
    "                \n",
    "    complain_count.append(cc)\n",
    "  \n",
    "vdf['general_complains'] = complain_count \n"
   ]
  },
  {
   "cell_type": "code",
   "execution_count": null,
   "metadata": {
    "collapsed": true
   },
   "outputs": [],
   "source": [
    "#missed collection\n",
    "from tqdm import tqdm \n",
    "\n",
    "#date format for date comparison\n",
    "from datetime import datetime  \n",
    "\n",
    "#initilize arrays\n",
    "complain_count = []\n",
    "lat1 = []\n",
    "lon1 = []\n",
    "lat2 = []\n",
    "lon2 = [] \n",
    "\n",
    "#loop through all the entries in the violation data frame \n",
    "radius = 0.30 # in kilometer, around 3 streets\n",
    "\n",
    "\n",
    "for index, row in tqdm(vdf.iterrows()):\n",
    " \n",
    "    #loop through all the entries in the 311 data frame \n",
    "    cc=0\n",
    "    for index2, row2 in missed_collection.iterrows():\n",
    "        a = haversine(row['longitude'],row['latitude'], row2['Longitude'], row2['Latitude']) \n",
    "         \n",
    "        #check if the complain is inside the circle\n",
    "        if a < radius:  \n",
    "            \n",
    "            cc=cc+1  \n",
    "                \n",
    "    complain_count.append(cc)\n",
    "  \n",
    "vdf['missed_collection_complains'] = complain_count \n"
   ]
  },
  {
   "cell_type": "code",
   "execution_count": null,
   "metadata": {
    "collapsed": true
   },
   "outputs": [],
   "source": [
    "#noise\n",
    "from tqdm import tqdm \n",
    "\n",
    "#date format for date comparison\n",
    "from datetime import datetime  \n",
    "\n",
    "#initilize arrays\n",
    "complain_count = []\n",
    "lat1 = []\n",
    "lon1 = []\n",
    "lat2 = []\n",
    "lon2 = [] \n",
    "\n",
    "#loop through all the entries in the violation data frame \n",
    "radius = 0.30 # in kilometer, around 3 streets\n",
    "\n",
    "\n",
    "for index, row in tqdm(vdf.iterrows()):\n",
    " \n",
    "    #loop through all the entries in the 311 data frame \n",
    "    cc=0\n",
    "    for index2, row2 in noise.iterrows():\n",
    "        a = haversine(row['longitude'],row['latitude'], row2['Longitude'], row2['Latitude']) \n",
    "         \n",
    "        #check if the complain is inside the circle\n",
    "        if a < radius:  \n",
    "            \n",
    "            cc=cc+1  \n",
    "                \n",
    "    complain_count.append(cc)\n",
    "  \n",
    "vdf['noise_complains'] = complain_count \n"
   ]
  },
  {
   "cell_type": "code",
   "execution_count": null,
   "metadata": {
    "collapsed": true
   },
   "outputs": [],
   "source": [
    "#police matter\n",
    "from tqdm import tqdm \n",
    "\n",
    "#date format for date comparison\n",
    "from datetime import datetime  \n",
    "\n",
    "#initilize arrays\n",
    "complain_count = []\n",
    "lat1 = []\n",
    "lon1 = []\n",
    "lat2 = []\n",
    "lon2 = [] \n",
    "\n",
    "#loop through all the entries in the violation data frame \n",
    "radius = 0.30 # in kilometer, around 3 streets\n",
    "\n",
    "\n",
    "for index, row in tqdm(vdf.iterrows()):\n",
    " \n",
    "    #loop through all the entries in the 311 data frame \n",
    "    cc=0\n",
    "    for index2, row2 in police_matter.iterrows():\n",
    "        a = haversine(row['longitude'],row['latitude'], row2['Longitude'], row2['Latitude']) \n",
    "         \n",
    "        #check if the complain is inside the circle\n",
    "        if a < radius:  \n",
    "            \n",
    "            cc=cc+1  \n",
    "                \n",
    "    complain_count.append(cc)\n",
    "  \n",
    "vdf['police_matter'] = complain_count \n"
   ]
  },
  {
   "cell_type": "code",
   "execution_count": null,
   "metadata": {
    "collapsed": true
   },
   "outputs": [],
   "source": [
    "#plumbing\n",
    "from tqdm import tqdm \n",
    "\n",
    "#date format for date comparison\n",
    "from datetime import datetime  \n",
    "\n",
    "#initilize arrays\n",
    "complain_count = []\n",
    "lat1 = []\n",
    "lon1 = []\n",
    "lat2 = []\n",
    "lon2 = [] \n",
    "\n",
    "#loop through all the entries in the violation data frame \n",
    "radius = 0.30 # in kilometer, around 3 streets\n",
    "\n",
    "\n",
    "for index, row in tqdm(vdf.iterrows()):\n",
    " \n",
    "    #loop through all the entries in the 311 data frame \n",
    "    cc=0\n",
    "    for index2, row2 in plumbing.iterrows():\n",
    "        a = haversine(row['longitude'],row['latitude'], row2['Longitude'], row2['Latitude']) \n",
    "         \n",
    "        #check if the complain is inside the circle\n",
    "        if a < radius:  \n",
    "            \n",
    "            cc=cc+1  \n",
    "                \n",
    "    complain_count.append(cc)\n",
    "  \n",
    "vdf['plumbing'] = complain_count \n"
   ]
  },
  {
   "cell_type": "code",
   "execution_count": null,
   "metadata": {
    "collapsed": true
   },
   "outputs": [],
   "source": [
    "#safety\n",
    "from tqdm import tqdm \n",
    "\n",
    "#date format for date comparison\n",
    "from datetime import datetime  \n",
    "\n",
    "#initilize arrays\n",
    "complain_count = []\n",
    "lat1 = []\n",
    "lon1 = []\n",
    "lat2 = []\n",
    "lon2 = [] \n",
    "\n",
    "#loop through all the entries in the violation data frame \n",
    "radius = 0.30 # in kilometer, around 3 streets\n",
    "\n",
    "\n",
    "for index, row in tqdm(vdf.iterrows()):\n",
    " \n",
    "    #loop through all the entries in the 311 data frame \n",
    "    cc=0\n",
    "    for index2, row2 in safety.iterrows():\n",
    "        a = haversine(row['longitude'],row['latitude'], row2['Longitude'], row2['Latitude']) \n",
    "         \n",
    "        #check if the complain is inside the circle\n",
    "        if a < radius:  \n",
    "            \n",
    "            cc=cc+1 \n",
    "                \n",
    "    complain_count.append(cc)\n",
    "  \n",
    "vdf['safety'] = complain_count \n"
   ]
  },
  {
   "cell_type": "code",
   "execution_count": null,
   "metadata": {
    "collapsed": true
   },
   "outputs": [],
   "source": [
    "#sanitary\n",
    "from tqdm import tqdm \n",
    "\n",
    "#date format for date comparison\n",
    "from datetime import datetime  \n",
    "\n",
    "#initilize arrays\n",
    "complain_count = []\n",
    "lat1 = []\n",
    "lon1 = []\n",
    "lat2 = []\n",
    "lon2 = [] \n",
    "\n",
    "#loop through all the entries in the violation data frame \n",
    "radius = 0.30 # in kilometer, around 3 streets\n",
    "\n",
    "\n",
    "for index, row in tqdm(vdf.iterrows()):\n",
    " \n",
    "    #loop through all the entries in the 311 data frame \n",
    "    cc=0\n",
    "    for index2, row2 in sanitary.iterrows():\n",
    "        a = haversine(row['longitude'],row['latitude'], row2['Longitude'], row2['Latitude']) \n",
    "         \n",
    "        #check if the complain is inside the circle\n",
    "        if a < radius:  \n",
    "            \n",
    "            cc=cc+1  \n",
    "                \n",
    "    complain_count.append(cc)\n",
    "  \n",
    "vdf['sanitary'] = complain_count \n"
   ]
  },
  {
   "cell_type": "code",
   "execution_count": null,
   "metadata": {
    "collapsed": true
   },
   "outputs": [],
   "source": [
    "vdf.to_csv('vdf_complains_added.csv')"
   ]
  }
 ],
 "metadata": {
  "anaconda-cloud": {},
  "kernelspec": {
   "display_name": "Python 2",
   "language": "python",
   "name": "python2"
  },
  "language_info": {
   "codemirror_mode": {
    "name": "ipython",
    "version": 2
   },
   "file_extension": ".py",
   "mimetype": "text/x-python",
   "name": "python",
   "nbconvert_exporter": "python",
   "pygments_lexer": "ipython2",
   "version": "2.7.13"
  }
 },
 "nbformat": 4,
 "nbformat_minor": 1
}
