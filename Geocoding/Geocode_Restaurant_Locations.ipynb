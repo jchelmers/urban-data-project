{
 "cells": [
  {
   "cell_type": "code",
   "execution_count": 13,
   "metadata": {
    "collapsed": true
   },
   "outputs": [],
   "source": [
    "import numpy as np\n",
    "import pandas as pd\n",
    "import matplotlib.pyplot as plt\n",
    "import sklearn\n",
    "from sklearn import preprocessing\n",
    "from sklearn import linear_model\n",
    "from sklearn import svm\n",
    "from sklearn import metrics\n",
    "from sklearn.model_selection import train_test_split\n",
    "from sklearn.naive_bayes import BernoulliNB\n",
    "from sklearn.ensemble import RandomForestClassifier\n",
    "%matplotlib inline"
   ]
  },
  {
   "cell_type": "code",
   "execution_count": 33,
   "metadata": {
    "collapsed": false
   },
   "outputs": [],
   "source": [
    "#load the data\n",
    "violations_df = pd.read_csv('../health_inspect_cleaned.csv', index_col=0) # file is in GitHub \n",
    "violations_df[\"address2\"] = violations_df[\"address\"].map(str) + \", NY\""
   ]
  },
  {
   "cell_type": "code",
   "execution_count": null,
   "metadata": {
    "collapsed": true
   },
   "outputs": [],
   "source": [
    "#This script converts the adress column of the health_inspect.csv file into\n",
    "#X Coordinate (State Plane); Geo validated, X coordinate of the incident location\n",
    "#Y Coordinate (State Plane); Geo validated, Y coordinate of the incident location.\n",
    "\n",
    "from geopy.geocoders import Nominatim\n",
    "geolocator = Nominatim() \n",
    "\n",
    "#run the first part\n",
    "from tqdm import tqdm \n",
    "import time \n",
    "\n",
    "# Create two lists for the loop results to be placed\n",
    "lat = []\n",
    "lon = []\n",
    "\n",
    "# For each row in a varible,\n",
    "for row in tqdm(violations_df['address2']): \n",
    "    time.sleep(1) \n",
    "    # Try to,\n",
    "    try: \n",
    "        location = geolocator.geocode(row)\n",
    "        lat.append(location.latitude)\n",
    "        lon.append(location.longitude)        \n",
    "    # But if you get an error\n",
    "    except:\n",
    "        # append a missing value to lat\n",
    "        lat.append(np.NaN)\n",
    "        # append a missing value to lon\n",
    "        lon.append(np.NaN)\n",
    "\n",
    "# Create two new columns from lat and lon\n",
    "violations_df['latitude'] = lat\n",
    "violations_df['longitude'] = lon \n",
    "\n",
    "#save the data\n",
    "violations_df.to_csv('violations_converted.csv')"
   ]
  },
  {
   "cell_type": "code",
   "execution_count": 3,
   "metadata": {
    "collapsed": false
   },
   "outputs": [],
   "source": [
    "#install previously converted data; note that Nominatim failed to convert almost half of the  \n",
    "#entries, below we are rerunning those failed ones in sections (because it takes long term  \n",
    "#to run each chunk)\n",
    "violations_converted = pd.read_csv('violations_converted.csv', index_col=0) # file is in GitHub \n",
    "failed_entries=pd.isnull(violations_converted['latitude'])  \n",
    "fe=violations_converted[failed_entries]"
   ]
  },
  {
   "cell_type": "code",
   "execution_count": 4,
   "metadata": {
    "collapsed": false
   },
   "outputs": [],
   "source": [
    "#divide the failed entries into chunks, around 11000 rows weren't converted\n",
    "#first chunk\n",
    "fe_p1=fe[:5000]  \n",
    "#second chunk\n",
    "fe_p2=fe[5000:]"
   ]
  },
  {
   "cell_type": "code",
   "execution_count": 5,
   "metadata": {
    "collapsed": false
   },
   "outputs": [
    {
     "name": "stderr",
     "output_type": "stream",
     "text": [
      "100%|██████████| 5000/5000 [2:08:12<00:00,  1.50s/it]\n",
      "/Users/motorrecoveryresearchlab/anaconda/envs/py27/lib/python2.7/site-packages/ipykernel_launcher.py:25: SettingWithCopyWarning: \n",
      "A value is trying to be set on a copy of a slice from a DataFrame.\n",
      "Try using .loc[row_indexer,col_indexer] = value instead\n",
      "\n",
      "See the caveats in the documentation: http://pandas.pydata.org/pandas-docs/stable/indexing.html#indexing-view-versus-copy\n",
      "/Users/motorrecoveryresearchlab/anaconda/envs/py27/lib/python2.7/site-packages/ipykernel_launcher.py:26: SettingWithCopyWarning: \n",
      "A value is trying to be set on a copy of a slice from a DataFrame.\n",
      "Try using .loc[row_indexer,col_indexer] = value instead\n",
      "\n",
      "See the caveats in the documentation: http://pandas.pydata.org/pandas-docs/stable/indexing.html#indexing-view-versus-copy\n"
     ]
    }
   ],
   "source": [
    "#This script converts the adress column of the health_inspect.csv file into\n",
    "#X Coordinate (State Plane); Geo validated, X coordinate of the incident location\n",
    "#Y Coordinate (State Plane); Geo validated, Y coordinate of the incident location.\n",
    "\n",
    "from geopy.geocoders import Nominatim\n",
    "geolocator = Nominatim() \n",
    "\n",
    "#run the first part\n",
    "from tqdm import tqdm \n",
    "import time \n",
    "\n",
    "# Create two lists for the loop results to be placed\n",
    "lat = []\n",
    "lon = []\n",
    "\n",
    "# For each row in a varible,\n",
    "for row in tqdm(fe_p1['address2']): \n",
    "    time.sleep(1) \n",
    "    # Try to,\n",
    "    try: \n",
    "        location = geolocator.geocode(row)\n",
    "        lat.append(location.latitude)\n",
    "        lon.append(location.longitude)        \n",
    "    # But if you get an error\n",
    "    except:\n",
    "        # append a missing value to lat\n",
    "        lat.append(np.NaN)\n",
    "        # append a missing value to lon\n",
    "        lon.append(np.NaN)\n",
    "\n",
    "# Create two new columns from lat and lon\n",
    "fe_p1['latitude'] = lat\n",
    "fe_p1['longitude'] = lon\n"
   ]
  },
  {
   "cell_type": "code",
   "execution_count": 8,
   "metadata": {
    "collapsed": false
   },
   "outputs": [],
   "source": [
    "#number of nans\n",
    "sum(pd.isnull(fe_p1['latitude']))\n",
    "\n",
    "#save \n",
    "fe_p1.to_csv('violations_converted_fe_p1.csv')"
   ]
  },
  {
   "cell_type": "code",
   "execution_count": 13,
   "metadata": {
    "collapsed": false
   },
   "outputs": [
    {
     "name": "stderr",
     "output_type": "stream",
     "text": [
      "100%|██████████| 6261/6261 [2:45:31<00:00,  1.53s/it]\n",
      "/Users/motorrecoveryresearchlab/anaconda/envs/py27/lib/python2.7/site-packages/ipykernel_launcher.py:32: SettingWithCopyWarning: \n",
      "A value is trying to be set on a copy of a slice from a DataFrame.\n",
      "Try using .loc[row_indexer,col_indexer] = value instead\n",
      "\n",
      "See the caveats in the documentation: http://pandas.pydata.org/pandas-docs/stable/indexing.html#indexing-view-versus-copy\n",
      "/Users/motorrecoveryresearchlab/anaconda/envs/py27/lib/python2.7/site-packages/ipykernel_launcher.py:33: SettingWithCopyWarning: \n",
      "A value is trying to be set on a copy of a slice from a DataFrame.\n",
      "Try using .loc[row_indexer,col_indexer] = value instead\n",
      "\n",
      "See the caveats in the documentation: http://pandas.pydata.org/pandas-docs/stable/indexing.html#indexing-view-versus-copy\n"
     ]
    }
   ],
   "source": [
    "#This script converts the adress column of the health_inspect.csv file into\n",
    "#X Coordinate (State Plane); Geo validated, X coordinate of the incident location\n",
    "#Y Coordinate (State Plane); Geo validated, Y coordinate of the incident location.\n",
    "\n",
    "from geopy.geocoders import Nominatim\n",
    "geolocator = Nominatim() \n",
    "\n",
    "#run the first part\n",
    "from tqdm import tqdm \n",
    "import time \n",
    "\n",
    "# Create two lists for the loop results to be placed\n",
    "lat = []\n",
    "lon = []\n",
    "\n",
    "# For each row in a varible,\n",
    "for row in tqdm(fe_p2['address2']): \n",
    "    time.sleep(1) \n",
    "    # Try to,\n",
    "    try: \n",
    "        location = geolocator.geocode(row)\n",
    "        lat.append(location.latitude)\n",
    "        lon.append(location.longitude)        \n",
    "    # But if you get an error\n",
    "    except:\n",
    "        # append a missing value to lat\n",
    "        lat.append(np.NaN)\n",
    "        # append a missing value to lon\n",
    "        lon.append(np.NaN)\n",
    "\n",
    "# Create two new columns from lat and lon\n",
    "fe_p2['latitude'] = lat\n",
    "fe_p2['longitude'] = lon"
   ]
  },
  {
   "cell_type": "code",
   "execution_count": 15,
   "metadata": {
    "collapsed": false
   },
   "outputs": [],
   "source": [
    "#number of nans\n",
    "sum(pd.isnull(fe_p2['latitude']))\n",
    "\n",
    "#seperate the nans and converted ones \n",
    "fe_p2.to_csv('violations_converted_fe_p2.csv')"
   ]
  },
  {
   "cell_type": "markdown",
   "metadata": {},
   "source": [
    "### Prepare the failed data for google api"
   ]
  },
  {
   "cell_type": "code",
   "execution_count": 2,
   "metadata": {
    "collapsed": false
   },
   "outputs": [],
   "source": [
    "#combine failed and converted entries here   \n",
    "#reload the data \n",
    "\n",
    "first_run = pd.read_csv('violations_converted.csv', index_col=0) # file is in GitHub \n",
    "fe_p1 = pd.read_csv('violations_converted_fe_p1.csv', index_col=0) # file is in GitHub \n",
    "fe_p2 = pd.read_csv('violations_converted_fe_p2.csv', index_col=0) # file is in GitHub \n",
    "\n",
    "#combine successfully converted entries and nans\n",
    "failed_entries=pd.isnull(first_run['latitude']) \n",
    "failed_entries2=pd.isnull(fe_p1['latitude'])  \n",
    "failed_entries3=pd.isnull(fe_p2['latitude'])  \n",
    "\n",
    "c1=first_run[~failed_entries]#main converted \n",
    "c2=fe_p1[~failed_entries2]#converted from fe_p1 \n",
    "c3=fe_p2[~failed_entries3]#converted from fe_p2  \n",
    "\n",
    "frames = [c1, c2, c3]\n",
    "converted_nominatim = pd.concat(frames)\n",
    " \n",
    "#failed entries \n",
    "f1=fe_p1[failed_entries2]#failed from fe_p1 \n",
    "f2=fe_p2[failed_entries3]#failed from fe_p2  \n",
    "\n",
    "frames2 = [f1, f2]\n",
    "for_google_api = pd.concat(frames2)"
   ]
  },
  {
   "cell_type": "code",
   "execution_count": 3,
   "metadata": {
    "collapsed": true
   },
   "outputs": [],
   "source": [
    "#divide the failed entries into chunks of 2500\n",
    "#first chunk\n",
    "g1=for_google_api[:2500]  \n",
    "#second chunk\n",
    "g2=for_google_api[2500:]  "
   ]
  },
  {
   "cell_type": "markdown",
   "metadata": {},
   "source": [
    "### Use Google API for entries which returned Null"
   ]
  },
  {
   "cell_type": "code",
   "execution_count": 19,
   "metadata": {
    "collapsed": false
   },
   "outputs": [
    {
     "name": "stderr",
     "output_type": "stream",
     "text": [
      "100%|██████████| 2500/2500 [38:52<00:00,  1.51it/s]\n",
      "/Users/motorrecoveryresearchlab/anaconda/envs/py27/lib/python2.7/site-packages/ipykernel_launcher.py:27: SettingWithCopyWarning: \n",
      "A value is trying to be set on a copy of a slice from a DataFrame.\n",
      "Try using .loc[row_indexer,col_indexer] = value instead\n",
      "\n",
      "See the caveats in the documentation: http://pandas.pydata.org/pandas-docs/stable/indexing.html#indexing-view-versus-copy\n",
      "/Users/motorrecoveryresearchlab/anaconda/envs/py27/lib/python2.7/site-packages/ipykernel_launcher.py:28: SettingWithCopyWarning: \n",
      "A value is trying to be set on a copy of a slice from a DataFrame.\n",
      "Try using .loc[row_indexer,col_indexer] = value instead\n",
      "\n",
      "See the caveats in the documentation: http://pandas.pydata.org/pandas-docs/stable/indexing.html#indexing-view-versus-copy\n"
     ]
    }
   ],
   "source": [
    "from geopy.geocoders import GoogleV3\n",
    "       \n",
    "geolocator = GoogleV3() \n",
    "\n",
    "from tqdm import tqdm \n",
    "import time \n",
    "\n",
    "# Create two lists for the loop results to be placed\n",
    "lat = []\n",
    "lon = []\n",
    "\n",
    "# For each row in a varible,\n",
    "for row in tqdm(g1['address2']): \n",
    "    # Try to,\n",
    "    try: \n",
    "        location = geolocator.geocode(row)\n",
    "        lat.append(location.latitude)\n",
    "        lon.append(location.longitude)        \n",
    "    # But if you get an error\n",
    "    except:\n",
    "        # append a missing value to lat\n",
    "        lat.append(np.NaN)\n",
    "        # append a missing value to lon\n",
    "        lon.append(np.NaN)\n",
    "\n",
    "# Create two new columns from lat and lon\n",
    "g1['latitude'] = lat\n",
    "g1['longitude'] = lon\n"
   ]
  },
  {
   "cell_type": "code",
   "execution_count": 21,
   "metadata": {
    "collapsed": false
   },
   "outputs": [],
   "source": [
    "#number of nans\n",
    "sum(pd.isnull(g1['latitude']))\n",
    "\n",
    "#seperate the nans and converted ones \n",
    "g1.to_csv('g1.csv')"
   ]
  },
  {
   "cell_type": "code",
   "execution_count": 4,
   "metadata": {
    "collapsed": false
   },
   "outputs": [
    {
     "name": "stderr",
     "output_type": "stream",
     "text": [
      "100%|██████████| 1803/1803 [19:34<00:00,  1.58it/s]\n",
      "/Users/motorrecoveryresearchlab/anaconda/envs/py27/lib/python2.7/site-packages/ipykernel_launcher.py:27: SettingWithCopyWarning: \n",
      "A value is trying to be set on a copy of a slice from a DataFrame.\n",
      "Try using .loc[row_indexer,col_indexer] = value instead\n",
      "\n",
      "See the caveats in the documentation: http://pandas.pydata.org/pandas-docs/stable/indexing.html#indexing-view-versus-copy\n",
      "/Users/motorrecoveryresearchlab/anaconda/envs/py27/lib/python2.7/site-packages/ipykernel_launcher.py:28: SettingWithCopyWarning: \n",
      "A value is trying to be set on a copy of a slice from a DataFrame.\n",
      "Try using .loc[row_indexer,col_indexer] = value instead\n",
      "\n",
      "See the caveats in the documentation: http://pandas.pydata.org/pandas-docs/stable/indexing.html#indexing-view-versus-copy\n"
     ]
    }
   ],
   "source": [
    "from geopy.geocoders import GoogleV3\n",
    "       \n",
    "geolocator = GoogleV3() \n",
    "\n",
    "from tqdm import tqdm \n",
    "import time \n",
    "\n",
    "# Create two lists for the loop results to be placed\n",
    "lat = []\n",
    "lon = []\n",
    "\n",
    "# For each row in a varible,\n",
    "for row in tqdm(g2['address2']): \n",
    "    # Try to,\n",
    "    try: \n",
    "        location = geolocator.geocode(row)\n",
    "        lat.append(location.latitude)\n",
    "        lon.append(location.longitude)        \n",
    "    # But if you get an error\n",
    "    except:\n",
    "        # append a missing value to lat\n",
    "        lat.append(np.NaN)\n",
    "        # append a missing value to lon\n",
    "        lon.append(np.NaN)\n",
    "\n",
    "# Create two new columns from lat and lon\n",
    "g2['latitude'] = lat\n",
    "g2['longitude'] = lon\n"
   ]
  },
  {
   "cell_type": "code",
   "execution_count": 7,
   "metadata": {
    "collapsed": false
   },
   "outputs": [],
   "source": [
    "#number of nans\n",
    "sum(pd.isnull(g2['latitude']))\n",
    "\n",
    "#len(g2)\n",
    "#seperate the nans and converted ones \n",
    "g2.to_csv('g2.csv')\n"
   ]
  },
  {
   "cell_type": "code",
   "execution_count": 14,
   "metadata": {
    "collapsed": true
   },
   "outputs": [],
   "source": [
    "#delete this later \n",
    "g1 = pd.read_csv('g1.csv', index_col=0) # file is in GitHub \n",
    "g2 = pd.read_csv('g2.csv', index_col=0) # file is in GitHub "
   ]
  },
  {
   "cell_type": "code",
   "execution_count": 29,
   "metadata": {
    "collapsed": false
   },
   "outputs": [
    {
     "data": {
      "text/plain": [
       "339"
      ]
     },
     "execution_count": 29,
     "metadata": {},
     "output_type": "execute_result"
    }
   ],
   "source": [
    "gcomb = pd.concat([g1,g2]) \n",
    "g_fail=gcomb[pd.isnull(gcomb['latitude']) ]#failed from fe_p1 \n",
    "g_pass=gcomb[~pd.isnull(gcomb['latitude']) ]#failed from fe_p1 \n",
    "\n",
    "sum(pd.isnull(g_fail['latitude']))"
   ]
  },
  {
   "cell_type": "code",
   "execution_count": 18,
   "metadata": {
    "collapsed": false
   },
   "outputs": [
    {
     "name": "stderr",
     "output_type": "stream",
     "text": [
      "100%|██████████| 339/339 [04:04<00:00,  1.39it/s]\n",
      "/Users/motorrecoveryresearchlab/anaconda/envs/py27/lib/python2.7/site-packages/ipykernel_launcher.py:27: SettingWithCopyWarning: \n",
      "A value is trying to be set on a copy of a slice from a DataFrame.\n",
      "Try using .loc[row_indexer,col_indexer] = value instead\n",
      "\n",
      "See the caveats in the documentation: http://pandas.pydata.org/pandas-docs/stable/indexing.html#indexing-view-versus-copy\n",
      "/Users/motorrecoveryresearchlab/anaconda/envs/py27/lib/python2.7/site-packages/ipykernel_launcher.py:28: SettingWithCopyWarning: \n",
      "A value is trying to be set on a copy of a slice from a DataFrame.\n",
      "Try using .loc[row_indexer,col_indexer] = value instead\n",
      "\n",
      "See the caveats in the documentation: http://pandas.pydata.org/pandas-docs/stable/indexing.html#indexing-view-versus-copy\n"
     ]
    }
   ],
   "source": [
    "from geopy.geocoders import GoogleV3\n",
    "       \n",
    "geolocator = GoogleV3() \n",
    "\n",
    "from tqdm import tqdm \n",
    "import time \n",
    "\n",
    "# Create two lists for the loop results to be placed\n",
    "lat = []\n",
    "lon = []\n",
    "\n",
    "# For each row in a varible,\n",
    "for row in tqdm(g_fail['address2']): \n",
    "    # Try to,\n",
    "    try: \n",
    "        location = geolocator.geocode(row)\n",
    "        lat.append(location.latitude)\n",
    "        lon.append(location.longitude)        \n",
    "    # But if you get an error\n",
    "    except:\n",
    "        # append a missing value to lat\n",
    "        lat.append(np.NaN)\n",
    "        # append a missing value to lon\n",
    "        lon.append(np.NaN)\n",
    "\n",
    "# Create two new columns from lat and lon\n",
    "g_fail['latitude'] = lat\n",
    "g_fail['longitude'] = lon\n"
   ]
  },
  {
   "cell_type": "code",
   "execution_count": 27,
   "metadata": {
    "collapsed": false
   },
   "outputs": [],
   "source": [
    "g_fail2=g_fail[pd.isnull(g_fail['latitude']) ]#failed from fe_p1  \n",
    "g_pass2=g_fail[~pd.isnull(g_fail['latitude']) ]#failed from fe_p1 \n",
    "\n",
    "#sum(pd.isnull(g_fail['latitude'])) \n"
   ]
  },
  {
   "cell_type": "code",
   "execution_count": 24,
   "metadata": {
    "collapsed": false
   },
   "outputs": [
    {
     "name": "stderr",
     "output_type": "stream",
     "text": [
      "100%|██████████| 33/33 [00:12<00:00,  1.93it/s]\n",
      "/Users/motorrecoveryresearchlab/anaconda/envs/py27/lib/python2.7/site-packages/ipykernel_launcher.py:27: SettingWithCopyWarning: \n",
      "A value is trying to be set on a copy of a slice from a DataFrame.\n",
      "Try using .loc[row_indexer,col_indexer] = value instead\n",
      "\n",
      "See the caveats in the documentation: http://pandas.pydata.org/pandas-docs/stable/indexing.html#indexing-view-versus-copy\n",
      "/Users/motorrecoveryresearchlab/anaconda/envs/py27/lib/python2.7/site-packages/ipykernel_launcher.py:28: SettingWithCopyWarning: \n",
      "A value is trying to be set on a copy of a slice from a DataFrame.\n",
      "Try using .loc[row_indexer,col_indexer] = value instead\n",
      "\n",
      "See the caveats in the documentation: http://pandas.pydata.org/pandas-docs/stable/indexing.html#indexing-view-versus-copy\n"
     ]
    }
   ],
   "source": [
    "from geopy.geocoders import GoogleV3\n",
    "       \n",
    "geolocator = GoogleV3() \n",
    "\n",
    "from tqdm import tqdm \n",
    "import time \n",
    "\n",
    "# Create two lists for the loop results to be placed\n",
    "lat = []\n",
    "lon = []\n",
    "\n",
    "# For each row in a varible,\n",
    "for row in tqdm(g_fail2['address2']): \n",
    "    # Try to,\n",
    "    try: \n",
    "        location = geolocator.geocode(row)\n",
    "        lat.append(location.latitude)\n",
    "        lon.append(location.longitude)        \n",
    "    # But if you get an error\n",
    "    except:\n",
    "        # append a missing value to lat\n",
    "        lat.append(np.NaN)\n",
    "        # append a missing value to lon\n",
    "        lon.append(np.NaN)\n",
    "\n",
    "# Create two new columns from lat and lon\n",
    "g_fail2['latitude'] = lat\n",
    "g_fail2['longitude'] = lon"
   ]
  },
  {
   "cell_type": "code",
   "execution_count": 32,
   "metadata": {
    "collapsed": false
   },
   "outputs": [
    {
     "data": {
      "text/plain": [
       "33"
      ]
     },
     "execution_count": 32,
     "metadata": {},
     "output_type": "execute_result"
    }
   ],
   "source": [
    "#combine datasets \n",
    "result = pd.concat([converted_nominatim, g_pass,g_fail2, g_pass2]) \n",
    "len(result)\n",
    "sum(pd.isnull(result['latitude'])) \n"
   ]
  },
  {
   "cell_type": "code",
   "execution_count": 33,
   "metadata": {
    "collapsed": true
   },
   "outputs": [],
   "source": [
    "#save the data \n",
    "result.to_csv('health_inspect_cleaned_loc_added.csv')"
   ]
  }
 ],
 "metadata": {
  "anaconda-cloud": {},
  "kernelspec": {
   "display_name": "Python [py27]",
   "language": "python",
   "name": "Python [py27]"
  },
  "language_info": {
   "codemirror_mode": {
    "name": "ipython",
    "version": 2
   },
   "file_extension": ".py",
   "mimetype": "text/x-python",
   "name": "python",
   "nbconvert_exporter": "python",
   "pygments_lexer": "ipython2",
   "version": "2.7.12"
  }
 },
 "nbformat": 4,
 "nbformat_minor": 1
}
