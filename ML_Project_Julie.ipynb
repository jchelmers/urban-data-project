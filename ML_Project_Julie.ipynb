{
 "cells": [
  {
   "cell_type": "markdown",
   "metadata": {},
   "source": [
    "# Work In Progress\n",
    "## See also scrape_weather.ipynb"
   ]
  },
  {
   "cell_type": "code",
   "execution_count": 1,
   "metadata": {
    "collapsed": false
   },
   "outputs": [],
   "source": [
    "import numpy as np\n",
    "import pandas as pd\n",
    "import matplotlib.pyplot as plt\n",
    "import sklearn\n",
    "from sklearn import preprocessing\n",
    "from sklearn import linear_model\n",
    "from sklearn import svm\n",
    "from sklearn import metrics\n",
    "from sklearn.model_selection import train_test_split\n",
    "from sklearn.naive_bayes import BernoulliNB\n",
    "from sklearn.ensemble import RandomForestClassifier\n",
    "from scrape_weather import scrape_weather\n",
    "%matplotlib inline"
   ]
  },
  {
   "cell_type": "code",
   "execution_count": 2,
   "metadata": {
    "collapsed": false
   },
   "outputs": [],
   "source": [
    "inspect_df = pd.read_csv('../../health_inspect.csv') # CHANGE PATH AS NEEDED"
   ]
  },
  {
   "cell_type": "code",
   "execution_count": 3,
   "metadata": {
    "collapsed": false
   },
   "outputs": [
    {
     "data": {
      "text/plain": [
       "Index(['CAMIS', 'DBA', 'BORO', 'BUILDING', 'STREET', 'ZIPCODE', 'PHONE',\n",
       "       'CUISINE DESCRIPTION', 'INSPECTION DATE', 'ACTION', 'VIOLATION CODE',\n",
       "       'VIOLATION DESCRIPTION', 'CRITICAL FLAG', 'SCORE', 'GRADE',\n",
       "       'GRADE DATE', 'RECORD DATE', 'INSPECTION TYPE'],\n",
       "      dtype='object')"
      ]
     },
     "execution_count": 3,
     "metadata": {},
     "output_type": "execute_result"
    }
   ],
   "source": [
    "inspect_df.columns"
   ]
  },
  {
   "cell_type": "code",
   "execution_count": 4,
   "metadata": {
    "collapsed": false
   },
   "outputs": [
    {
     "data": {
      "text/html": [
       "<div>\n",
       "<table border=\"1\" class=\"dataframe\">\n",
       "  <thead>\n",
       "    <tr style=\"text-align: right;\">\n",
       "      <th></th>\n",
       "      <th>CAMIS</th>\n",
       "      <th>DBA</th>\n",
       "      <th>BORO</th>\n",
       "      <th>BUILDING</th>\n",
       "      <th>STREET</th>\n",
       "      <th>ZIPCODE</th>\n",
       "      <th>PHONE</th>\n",
       "      <th>CUISINE DESCRIPTION</th>\n",
       "      <th>INSPECTION DATE</th>\n",
       "      <th>ACTION</th>\n",
       "      <th>VIOLATION CODE</th>\n",
       "      <th>VIOLATION DESCRIPTION</th>\n",
       "      <th>CRITICAL FLAG</th>\n",
       "      <th>SCORE</th>\n",
       "      <th>GRADE</th>\n",
       "      <th>GRADE DATE</th>\n",
       "      <th>RECORD DATE</th>\n",
       "      <th>INSPECTION TYPE</th>\n",
       "    </tr>\n",
       "  </thead>\n",
       "  <tbody>\n",
       "    <tr>\n",
       "      <th>0</th>\n",
       "      <td>41610929</td>\n",
       "      <td>DOS TOROS TAQUERIA</td>\n",
       "      <td>MANHATTAN</td>\n",
       "      <td>1111</td>\n",
       "      <td>LEXINGTON AVENUE</td>\n",
       "      <td>10075.0</td>\n",
       "      <td>2125354658</td>\n",
       "      <td>Tex-Mex</td>\n",
       "      <td>06/18/2015</td>\n",
       "      <td>Violations were cited in the following area(s).</td>\n",
       "      <td>10F</td>\n",
       "      <td>Non-food contact surface improperly constructe...</td>\n",
       "      <td>Not Critical</td>\n",
       "      <td>17.0</td>\n",
       "      <td>NaN</td>\n",
       "      <td>NaN</td>\n",
       "      <td>04/13/2017</td>\n",
       "      <td>Cycle Inspection / Initial Inspection</td>\n",
       "    </tr>\n",
       "    <tr>\n",
       "      <th>1</th>\n",
       "      <td>50003973</td>\n",
       "      <td>MOREIRA RESTAURANT</td>\n",
       "      <td>QUEENS</td>\n",
       "      <td>8716</td>\n",
       "      <td>LEFFERTS BLVD</td>\n",
       "      <td>11418.0</td>\n",
       "      <td>7184417490</td>\n",
       "      <td>Spanish</td>\n",
       "      <td>10/08/2016</td>\n",
       "      <td>Violations were cited in the following area(s).</td>\n",
       "      <td>08A</td>\n",
       "      <td>Facility not vermin proof. Harborage or condit...</td>\n",
       "      <td>Not Critical</td>\n",
       "      <td>26.0</td>\n",
       "      <td>NaN</td>\n",
       "      <td>NaN</td>\n",
       "      <td>04/13/2017</td>\n",
       "      <td>Cycle Inspection / Initial Inspection</td>\n",
       "    </tr>\n",
       "    <tr>\n",
       "      <th>2</th>\n",
       "      <td>41586885</td>\n",
       "      <td>CENTRAL MARKET ALL AMERICAN GRILL</td>\n",
       "      <td>MANHATTAN</td>\n",
       "      <td>4</td>\n",
       "      <td>SOUTH STREET</td>\n",
       "      <td>10004.0</td>\n",
       "      <td>2125145220</td>\n",
       "      <td>American</td>\n",
       "      <td>01/16/2015</td>\n",
       "      <td>Violations were cited in the following area(s).</td>\n",
       "      <td>10F</td>\n",
       "      <td>Non-food contact surface improperly constructe...</td>\n",
       "      <td>Not Critical</td>\n",
       "      <td>24.0</td>\n",
       "      <td>NaN</td>\n",
       "      <td>NaN</td>\n",
       "      <td>04/13/2017</td>\n",
       "      <td>Cycle Inspection / Initial Inspection</td>\n",
       "    </tr>\n",
       "    <tr>\n",
       "      <th>3</th>\n",
       "      <td>50005951</td>\n",
       "      <td>HOUSE OF INASAL</td>\n",
       "      <td>QUEENS</td>\n",
       "      <td>6514</td>\n",
       "      <td>ROOSEVELT AVE</td>\n",
       "      <td>11377.0</td>\n",
       "      <td>7184290709</td>\n",
       "      <td>Filipino</td>\n",
       "      <td>01/22/2016</td>\n",
       "      <td>Violations were cited in the following area(s).</td>\n",
       "      <td>04A</td>\n",
       "      <td>Food Protection Certificate not held by superv...</td>\n",
       "      <td>Critical</td>\n",
       "      <td>24.0</td>\n",
       "      <td>B</td>\n",
       "      <td>01/22/2016</td>\n",
       "      <td>04/13/2017</td>\n",
       "      <td>Cycle Inspection / Re-inspection</td>\n",
       "    </tr>\n",
       "    <tr>\n",
       "      <th>4</th>\n",
       "      <td>40400483</td>\n",
       "      <td>STARBUCKS</td>\n",
       "      <td>MANHATTAN</td>\n",
       "      <td>2252</td>\n",
       "      <td>BROADWAY</td>\n",
       "      <td>10024.0</td>\n",
       "      <td>2127211267</td>\n",
       "      <td>CafÃ©/Coffee/Tea</td>\n",
       "      <td>05/17/2013</td>\n",
       "      <td>Violations were cited in the following area(s).</td>\n",
       "      <td>10F</td>\n",
       "      <td>Non-food contact surface improperly constructe...</td>\n",
       "      <td>Not Critical</td>\n",
       "      <td>4.0</td>\n",
       "      <td>A</td>\n",
       "      <td>05/17/2013</td>\n",
       "      <td>04/13/2017</td>\n",
       "      <td>Cycle Inspection / Initial Inspection</td>\n",
       "    </tr>\n",
       "  </tbody>\n",
       "</table>\n",
       "</div>"
      ],
      "text/plain": [
       "      CAMIS                                DBA       BORO BUILDING  \\\n",
       "0  41610929                 DOS TOROS TAQUERIA  MANHATTAN     1111   \n",
       "1  50003973                 MOREIRA RESTAURANT     QUEENS     8716   \n",
       "2  41586885  CENTRAL MARKET ALL AMERICAN GRILL  MANHATTAN        4   \n",
       "3  50005951                    HOUSE OF INASAL     QUEENS     6514   \n",
       "4  40400483                          STARBUCKS  MANHATTAN     2252   \n",
       "\n",
       "             STREET  ZIPCODE       PHONE CUISINE DESCRIPTION INSPECTION DATE  \\\n",
       "0  LEXINGTON AVENUE  10075.0  2125354658             Tex-Mex      06/18/2015   \n",
       "1     LEFFERTS BLVD  11418.0  7184417490             Spanish      10/08/2016   \n",
       "2      SOUTH STREET  10004.0  2125145220            American      01/16/2015   \n",
       "3     ROOSEVELT AVE  11377.0  7184290709            Filipino      01/22/2016   \n",
       "4          BROADWAY  10024.0  2127211267    CafÃ©/Coffee/Tea      05/17/2013   \n",
       "\n",
       "                                            ACTION VIOLATION CODE  \\\n",
       "0  Violations were cited in the following area(s).            10F   \n",
       "1  Violations were cited in the following area(s).            08A   \n",
       "2  Violations were cited in the following area(s).            10F   \n",
       "3  Violations were cited in the following area(s).            04A   \n",
       "4  Violations were cited in the following area(s).            10F   \n",
       "\n",
       "                               VIOLATION DESCRIPTION CRITICAL FLAG  SCORE  \\\n",
       "0  Non-food contact surface improperly constructe...  Not Critical   17.0   \n",
       "1  Facility not vermin proof. Harborage or condit...  Not Critical   26.0   \n",
       "2  Non-food contact surface improperly constructe...  Not Critical   24.0   \n",
       "3  Food Protection Certificate not held by superv...      Critical   24.0   \n",
       "4  Non-food contact surface improperly constructe...  Not Critical    4.0   \n",
       "\n",
       "  GRADE  GRADE DATE RECORD DATE                        INSPECTION TYPE  \n",
       "0   NaN         NaN  04/13/2017  Cycle Inspection / Initial Inspection  \n",
       "1   NaN         NaN  04/13/2017  Cycle Inspection / Initial Inspection  \n",
       "2   NaN         NaN  04/13/2017  Cycle Inspection / Initial Inspection  \n",
       "3     B  01/22/2016  04/13/2017       Cycle Inspection / Re-inspection  \n",
       "4     A  05/17/2013  04/13/2017  Cycle Inspection / Initial Inspection  "
      ]
     },
     "execution_count": 4,
     "metadata": {},
     "output_type": "execute_result"
    }
   ],
   "source": [
    "inspect_df.head()"
   ]
  },
  {
   "cell_type": "markdown",
   "metadata": {},
   "source": [
    "#### Convert dates to datetime rather than string to order by date"
   ]
  },
  {
   "cell_type": "code",
   "execution_count": 5,
   "metadata": {
    "collapsed": false
   },
   "outputs": [],
   "source": [
    "inspect_df['INSPECTION DATE'] = pd.to_datetime(inspect_df['INSPECTION DATE'])"
   ]
  },
  {
   "cell_type": "code",
   "execution_count": 6,
   "metadata": {
    "collapsed": false
   },
   "outputs": [
    {
     "name": "stderr",
     "output_type": "stream",
     "text": [
      "C:\\Users\\Julie\\Anaconda2\\envs\\py35\\lib\\site-packages\\ipykernel\\__main__.py:1: FutureWarning: sort(columns=....) is deprecated, use sort_values(by=.....)\n",
      "  if __name__ == '__main__':\n"
     ]
    }
   ],
   "source": [
    "inspect_df.sort(columns=['CAMIS','INSPECTION DATE'],ascending=[True,False],inplace=True)"
   ]
  },
  {
   "cell_type": "markdown",
   "metadata": {},
   "source": [
    "#### Drop inspections unrelated to food quality"
   ]
  },
  {
   "cell_type": "code",
   "execution_count": 7,
   "metadata": {
    "collapsed": false
   },
   "outputs": [],
   "source": [
    "inspect_df = inspect_df[inspect_df['INSPECTION TYPE'].isnull() == False]\n",
    "inspect_df = inspect_df[~inspect_df['INSPECTION TYPE'].str.contains('Calorie')]\n",
    "inspect_df = inspect_df[~inspect_df['INSPECTION TYPE'].str.contains('Smoke')]\n",
    "inspect_df = inspect_df[~inspect_df['INSPECTION TYPE'].str.contains('Trans Fat')]\n",
    "inspect_df = inspect_df[~inspect_df['INSPECTION TYPE'].str.contains('Administrative')]\n",
    "inspect_df = inspect_df[~inspect_df['INSPECTION TYPE'].str.contains('Non-operational')]"
   ]
  },
  {
   "cell_type": "markdown",
   "metadata": {},
   "source": [
    "#### Extract aggregate information on business by CAMIS number"
   ]
  },
  {
   "cell_type": "code",
   "execution_count": 8,
   "metadata": {
    "collapsed": false
   },
   "outputs": [
    {
     "name": "stderr",
     "output_type": "stream",
     "text": [
      "C:\\Users\\Julie\\Anaconda2\\envs\\py35\\lib\\site-packages\\ipykernel\\__main__.py:5: FutureWarning: sort(columns=....) is deprecated, use sort_values(by=.....)\n"
     ]
    },
    {
     "data": {
      "text/html": [
       "<div>\n",
       "<table border=\"1\" class=\"dataframe\">\n",
       "  <thead>\n",
       "    <tr style=\"text-align: right;\">\n",
       "      <th></th>\n",
       "      <th>latest_inspection</th>\n",
       "    </tr>\n",
       "  </thead>\n",
       "  <tbody>\n",
       "    <tr>\n",
       "      <th>30075445</th>\n",
       "      <td>2016-02-18</td>\n",
       "    </tr>\n",
       "    <tr>\n",
       "      <th>30112340</th>\n",
       "      <td>2016-10-27</td>\n",
       "    </tr>\n",
       "    <tr>\n",
       "      <th>30191841</th>\n",
       "      <td>2016-05-31</td>\n",
       "    </tr>\n",
       "    <tr>\n",
       "      <th>40356018</th>\n",
       "      <td>2016-05-16</td>\n",
       "    </tr>\n",
       "    <tr>\n",
       "      <th>40356151</th>\n",
       "      <td>2016-05-14</td>\n",
       "    </tr>\n",
       "  </tbody>\n",
       "</table>\n",
       "</div>"
      ],
      "text/plain": [
       "         latest_inspection\n",
       "30075445        2016-02-18\n",
       "30112340        2016-10-27\n",
       "30191841        2016-05-31\n",
       "40356018        2016-05-16\n",
       "40356151        2016-05-14"
      ]
     },
     "execution_count": 8,
     "metadata": {},
     "output_type": "execute_result"
    }
   ],
   "source": [
    "df2 = inspect_df.groupby(['CAMIS','INSPECTION DATE']).count()['DBA']\n",
    "ids = [(x[0],x[1]) for x in df2.index]\n",
    "df3 = pd.DataFrame(ids)\n",
    "df3 = df3.rename(index=str, columns={0: 'CAMIS',1:'Date'})\n",
    "df3.sort(columns=['CAMIS','Date'],ascending=[True,False],inplace=True)\n",
    "\n",
    "first_inspect = df3.groupby('CAMIS').nth(-1)\n",
    "first_inspect = first_inspect.rename(index=str, columns={'Date':'earliest_inspection'})\n",
    "first_inspect.index = first_inspect.index.map(str)\n",
    "first_inspect.head()\n",
    "sec_last_inspect = df3.groupby('CAMIS').nth(1)\n",
    "sec_last_inspect = sec_last_inspect.rename(index=str, columns={'Date':'second_latest_inspection'})\n",
    "sec_last_inspect.index = sec_last_inspect.index.map(str)\n",
    "last_inspect = df3.groupby('CAMIS').nth(0)\n",
    "last_inspect = last_inspect.rename(index=str, columns={'Date':'latest_inspection'})\n",
    "last_inspect.index = last_inspect.index.map(str)\n",
    "last_inspect.head()"
   ]
  },
  {
   "cell_type": "code",
   "execution_count": 9,
   "metadata": {
    "collapsed": false
   },
   "outputs": [],
   "source": [
    "zips = pd.DataFrame(inspect_df.groupby('CAMIS').first()['ZIPCODE'])\n",
    "boros = pd.DataFrame(inspect_df.groupby('CAMIS').first()['BORO'])\n",
    "cuisine = pd.DataFrame(inspect_df.groupby('CAMIS').first()['CUISINE DESCRIPTION'])\n",
    "build = pd.DataFrame(inspect_df.groupby('CAMIS').first()['BUILDING'])\n",
    "street = pd.DataFrame(inspect_df.groupby('CAMIS').first()['STREET'])\n",
    "address = pd.DataFrame(build.BUILDING.str.cat(street.STREET, sep=' '))\n",
    "num_inspects = pd.DataFrame(inspect_df.groupby('CAMIS')['INSPECTION DATE'].nunique())\n",
    "\n",
    "zips.index = zips.index.map(str)\n",
    "zips = zips.rename(index=str, columns={'ZIPCODE': 'zipcode'})\n",
    "boros.index = boros.index.map(str)\n",
    "boros = boros.rename(index=str, columns={'BORO': 'boro'})\n",
    "cuisine.index = cuisine.index.map(str)\n",
    "cuisine = cuisine.rename(index=str, columns={'CUISINE DESCRIPTION': 'cuisine'})\n",
    "address.index = address.index.map(str)\n",
    "address = address.rename(index=str, columns={'BUILDING': 'address'})\n",
    "num_inspects = num_inspects.rename(index=str, columns={'INSPECTION DATE': 'num_inspections'})"
   ]
  },
  {
   "cell_type": "markdown",
   "metadata": {},
   "source": [
    "#### Group by Critical & Non-Critical violations, extract counts of most recent inspection"
   ]
  },
  {
   "cell_type": "code",
   "execution_count": 10,
   "metadata": {
    "collapsed": false
   },
   "outputs": [],
   "source": [
    "not_crit_df = inspect_df[inspect_df['CRITICAL FLAG']== 'Not Critical']\n",
    "crit_df = inspect_df[inspect_df['CRITICAL FLAG']== 'Critical']\n",
    "\n",
    "df = crit_df.groupby(['CAMIS','INSPECTION DATE']).count()['DBA']\n",
    "ids = [x[0] for x in df.index]\n",
    "last_inspect_crit = pd.DataFrame(df.groupby(ids).last())\n",
    "last_inspect_crit = last_inspect_crit.rename(index=str, columns={'DBA': 'crit_violations_recent_inspect'})\n",
    "\n",
    "df = not_crit_df.groupby(['CAMIS','INSPECTION DATE']).count()['DBA']\n",
    "ids = [x[0] for x in df.index]\n",
    "last_inspect_non_crit = pd.DataFrame(df.groupby(ids).last())\n",
    "last_inspect_non_crit = last_inspect_non_crit.rename(index=str, columns={'DBA': 'non_crit_violations_recent_inspect'})"
   ]
  },
  {
   "cell_type": "markdown",
   "metadata": {},
   "source": [
    "#### Extract overall total number of violations in each category"
   ]
  },
  {
   "cell_type": "code",
   "execution_count": 11,
   "metadata": {
    "collapsed": false
   },
   "outputs": [],
   "source": [
    "non_crit_num = pd.DataFrame(not_crit_df.groupby('CAMIS').count()['CRITICAL FLAG'])\n",
    "non_crit_num = non_crit_num.rename(index=str, columns={'CRITICAL FLAG': 'non_crit_violations'})\n",
    "crit_num = pd.DataFrame(crit_df.groupby('CAMIS').count()['CRITICAL FLAG'])\n",
    "crit_num = crit_num.rename(index=str, columns={'CRITICAL FLAG': 'crit_violations'})"
   ]
  },
  {
   "cell_type": "markdown",
   "metadata": {},
   "source": [
    "#### Combine dataframes for each piece of aggregate information"
   ]
  },
  {
   "cell_type": "code",
   "execution_count": 12,
   "metadata": {
    "collapsed": false
   },
   "outputs": [
    {
     "data": {
      "text/html": [
       "<div>\n",
       "<table border=\"1\" class=\"dataframe\">\n",
       "  <thead>\n",
       "    <tr style=\"text-align: right;\">\n",
       "      <th></th>\n",
       "      <th>crit_violations</th>\n",
       "      <th>non_crit_violations</th>\n",
       "      <th>earliest_inspection</th>\n",
       "      <th>latest_inspection</th>\n",
       "      <th>second_latest_inspection</th>\n",
       "      <th>zipcode</th>\n",
       "      <th>boro</th>\n",
       "      <th>cuisine</th>\n",
       "      <th>address</th>\n",
       "      <th>num_inspections</th>\n",
       "      <th>crit_violations_recent_inspect</th>\n",
       "      <th>non_crit_violations_recent_inspect</th>\n",
       "    </tr>\n",
       "  </thead>\n",
       "  <tbody>\n",
       "    <tr>\n",
       "      <th>30075445</th>\n",
       "      <td>8.0</td>\n",
       "      <td>4.0</td>\n",
       "      <td>2013-08-14</td>\n",
       "      <td>2016-02-18</td>\n",
       "      <td>2015-02-09</td>\n",
       "      <td>10462</td>\n",
       "      <td>BRONX</td>\n",
       "      <td>Bakery</td>\n",
       "      <td>1007 MORRIS PARK AVE</td>\n",
       "      <td>5</td>\n",
       "      <td>1</td>\n",
       "      <td>1</td>\n",
       "    </tr>\n",
       "    <tr>\n",
       "      <th>30112340</th>\n",
       "      <td>14.0</td>\n",
       "      <td>10.0</td>\n",
       "      <td>2014-06-05</td>\n",
       "      <td>2016-10-27</td>\n",
       "      <td>2016-10-03</td>\n",
       "      <td>11225</td>\n",
       "      <td>BROOKLYN</td>\n",
       "      <td>Hamburgers</td>\n",
       "      <td>469 FLATBUSH AVENUE</td>\n",
       "      <td>9</td>\n",
       "      <td>1</td>\n",
       "      <td>1</td>\n",
       "    </tr>\n",
       "    <tr>\n",
       "      <th>30191841</th>\n",
       "      <td>4.0</td>\n",
       "      <td>7.0</td>\n",
       "      <td>2013-07-22</td>\n",
       "      <td>2016-05-31</td>\n",
       "      <td>2015-09-21</td>\n",
       "      <td>10019</td>\n",
       "      <td>MANHATTAN</td>\n",
       "      <td>Irish</td>\n",
       "      <td>351 WEST   57 STREET</td>\n",
       "      <td>5</td>\n",
       "      <td>1</td>\n",
       "      <td>1</td>\n",
       "    </tr>\n",
       "    <tr>\n",
       "      <th>40356018</th>\n",
       "      <td>1.0</td>\n",
       "      <td>7.0</td>\n",
       "      <td>2013-06-05</td>\n",
       "      <td>2016-05-16</td>\n",
       "      <td>2015-06-05</td>\n",
       "      <td>11224</td>\n",
       "      <td>BROOKLYN</td>\n",
       "      <td>American</td>\n",
       "      <td>2780 STILLWELL AVENUE</td>\n",
       "      <td>4</td>\n",
       "      <td>1</td>\n",
       "      <td>1</td>\n",
       "    </tr>\n",
       "    <tr>\n",
       "      <th>40356151</th>\n",
       "      <td>13.0</td>\n",
       "      <td>5.0</td>\n",
       "      <td>2014-04-11</td>\n",
       "      <td>2016-05-14</td>\n",
       "      <td>2015-05-29</td>\n",
       "      <td>11369</td>\n",
       "      <td>QUEENS</td>\n",
       "      <td>American</td>\n",
       "      <td>8825 ASTORIA BOULEVARD</td>\n",
       "      <td>7</td>\n",
       "      <td>1</td>\n",
       "      <td>1</td>\n",
       "    </tr>\n",
       "  </tbody>\n",
       "</table>\n",
       "</div>"
      ],
      "text/plain": [
       "          crit_violations  non_crit_violations earliest_inspection  \\\n",
       "30075445              8.0                  4.0          2013-08-14   \n",
       "30112340             14.0                 10.0          2014-06-05   \n",
       "30191841              4.0                  7.0          2013-07-22   \n",
       "40356018              1.0                  7.0          2013-06-05   \n",
       "40356151             13.0                  5.0          2014-04-11   \n",
       "\n",
       "         latest_inspection second_latest_inspection zipcode       boro  \\\n",
       "30075445        2016-02-18               2015-02-09   10462      BRONX   \n",
       "30112340        2016-10-27               2016-10-03   11225   BROOKLYN   \n",
       "30191841        2016-05-31               2015-09-21   10019  MANHATTAN   \n",
       "40356018        2016-05-16               2015-06-05   11224   BROOKLYN   \n",
       "40356151        2016-05-14               2015-05-29   11369     QUEENS   \n",
       "\n",
       "             cuisine                 address  num_inspections  \\\n",
       "30075445      Bakery    1007 MORRIS PARK AVE                5   \n",
       "30112340  Hamburgers     469 FLATBUSH AVENUE                9   \n",
       "30191841       Irish    351 WEST   57 STREET                5   \n",
       "40356018    American   2780 STILLWELL AVENUE                4   \n",
       "40356151    American  8825 ASTORIA BOULEVARD                7   \n",
       "\n",
       "          crit_violations_recent_inspect  non_crit_violations_recent_inspect  \n",
       "30075445                               1                                   1  \n",
       "30112340                               1                                   1  \n",
       "30191841                               1                                   1  \n",
       "40356018                               1                                   1  \n",
       "40356151                               1                                   1  "
      ]
     },
     "execution_count": 12,
     "metadata": {},
     "output_type": "execute_result"
    }
   ],
   "source": [
    "violations_df = pd.merge(crit_num,non_crit_num, how='outer', left_index=True, right_index = True)\n",
    "violations_df.index = violations_df.index.map(str)\n",
    "violations_df = violations_df.fillna(value=0)\n",
    "violations_df = violations_df.merge(first_inspect, how='inner', left_index=True, right_index = True)\n",
    "violations_df = violations_df.merge(last_inspect, how='inner', left_index=True, right_index = True)\n",
    "violations_df = violations_df.merge(sec_last_inspect, how='inner', left_index=True, right_index = True)\n",
    "violations_df = violations_df.merge(zips, how='inner', left_index=True, right_index = True)\n",
    "violations_df['zipcode'] = violations_df['zipcode'].map(int).map(str)\n",
    "violations_df = violations_df.merge(boros, how='inner', left_index=True, right_index = True)\n",
    "violations_df = violations_df.merge(cuisine, how='inner', left_index=True, right_index = True)\n",
    "violations_df = violations_df.merge(address, how='inner', left_index=True, right_index = True)\n",
    "violations_df = violations_df.merge(num_inspects, how='inner', left_index=True, right_index = True)\n",
    "violations_df = violations_df.merge(last_inspect_crit, how='inner', left_index=True, right_index = True)\n",
    "violations_df = violations_df.merge(last_inspect_non_crit, how='inner', left_index=True, right_index = True)\n",
    "violations_df.head()"
   ]
  },
  {
   "cell_type": "markdown",
   "metadata": {},
   "source": [
    "#### Ignore businesses that only have 1 inspection (no prior history)"
   ]
  },
  {
   "cell_type": "code",
   "execution_count": 13,
   "metadata": {
    "collapsed": true
   },
   "outputs": [],
   "source": [
    "violations_df = violations_df[violations_df.num_inspections > 1]"
   ]
  },
  {
   "cell_type": "markdown",
   "metadata": {},
   "source": [
    "#### Reduce data leakage by reversing each business to the state just prior to its most recent inspection; \n",
    "#### The results of the most recent inspection (2+ critical violations) will form the target variable"
   ]
  },
  {
   "cell_type": "code",
   "execution_count": 14,
   "metadata": {
    "collapsed": false
   },
   "outputs": [
    {
     "data": {
      "text/html": [
       "<div>\n",
       "<table border=\"1\" class=\"dataframe\">\n",
       "  <thead>\n",
       "    <tr style=\"text-align: right;\">\n",
       "      <th></th>\n",
       "      <th>crit_violations</th>\n",
       "      <th>non_crit_violations</th>\n",
       "      <th>earliest_inspection</th>\n",
       "      <th>latest_inspection</th>\n",
       "      <th>second_latest_inspection</th>\n",
       "      <th>zipcode</th>\n",
       "      <th>boro</th>\n",
       "      <th>cuisine</th>\n",
       "      <th>address</th>\n",
       "      <th>num_inspections</th>\n",
       "      <th>crit_violations_recent_inspect</th>\n",
       "      <th>non_crit_violations_recent_inspect</th>\n",
       "      <th>crit_violations_train</th>\n",
       "      <th>non_crit_violations_train</th>\n",
       "      <th>num_inspections_train</th>\n",
       "      <th>average_crit_v_train</th>\n",
       "      <th>average_non_crit_v_train</th>\n",
       "      <th>time_since_last_inspection</th>\n",
       "      <th>time_since_first_inspection</th>\n",
       "      <th>crit_v_2plus</th>\n",
       "    </tr>\n",
       "  </thead>\n",
       "  <tbody>\n",
       "    <tr>\n",
       "      <th>30075445</th>\n",
       "      <td>8.0</td>\n",
       "      <td>4.0</td>\n",
       "      <td>2013-08-14</td>\n",
       "      <td>2016-02-18</td>\n",
       "      <td>2015-02-09</td>\n",
       "      <td>10462</td>\n",
       "      <td>BRONX</td>\n",
       "      <td>Bakery</td>\n",
       "      <td>1007 MORRIS PARK AVE</td>\n",
       "      <td>5</td>\n",
       "      <td>1</td>\n",
       "      <td>1</td>\n",
       "      <td>7.0</td>\n",
       "      <td>3.0</td>\n",
       "      <td>4</td>\n",
       "      <td>1.750</td>\n",
       "      <td>0.750000</td>\n",
       "      <td>374</td>\n",
       "      <td>918</td>\n",
       "      <td>0</td>\n",
       "    </tr>\n",
       "    <tr>\n",
       "      <th>30112340</th>\n",
       "      <td>14.0</td>\n",
       "      <td>10.0</td>\n",
       "      <td>2014-06-05</td>\n",
       "      <td>2016-10-27</td>\n",
       "      <td>2016-10-03</td>\n",
       "      <td>11225</td>\n",
       "      <td>BROOKLYN</td>\n",
       "      <td>Hamburgers</td>\n",
       "      <td>469 FLATBUSH AVENUE</td>\n",
       "      <td>9</td>\n",
       "      <td>1</td>\n",
       "      <td>1</td>\n",
       "      <td>13.0</td>\n",
       "      <td>9.0</td>\n",
       "      <td>8</td>\n",
       "      <td>1.625</td>\n",
       "      <td>1.125000</td>\n",
       "      <td>24</td>\n",
       "      <td>875</td>\n",
       "      <td>0</td>\n",
       "    </tr>\n",
       "    <tr>\n",
       "      <th>30191841</th>\n",
       "      <td>4.0</td>\n",
       "      <td>7.0</td>\n",
       "      <td>2013-07-22</td>\n",
       "      <td>2016-05-31</td>\n",
       "      <td>2015-09-21</td>\n",
       "      <td>10019</td>\n",
       "      <td>MANHATTAN</td>\n",
       "      <td>Irish</td>\n",
       "      <td>351 WEST   57 STREET</td>\n",
       "      <td>5</td>\n",
       "      <td>1</td>\n",
       "      <td>1</td>\n",
       "      <td>3.0</td>\n",
       "      <td>6.0</td>\n",
       "      <td>4</td>\n",
       "      <td>0.750</td>\n",
       "      <td>1.500000</td>\n",
       "      <td>253</td>\n",
       "      <td>1044</td>\n",
       "      <td>0</td>\n",
       "    </tr>\n",
       "    <tr>\n",
       "      <th>40356018</th>\n",
       "      <td>1.0</td>\n",
       "      <td>7.0</td>\n",
       "      <td>2013-06-05</td>\n",
       "      <td>2016-05-16</td>\n",
       "      <td>2015-06-05</td>\n",
       "      <td>11224</td>\n",
       "      <td>BROOKLYN</td>\n",
       "      <td>American</td>\n",
       "      <td>2780 STILLWELL AVENUE</td>\n",
       "      <td>4</td>\n",
       "      <td>1</td>\n",
       "      <td>1</td>\n",
       "      <td>0.0</td>\n",
       "      <td>6.0</td>\n",
       "      <td>3</td>\n",
       "      <td>0.000</td>\n",
       "      <td>2.000000</td>\n",
       "      <td>346</td>\n",
       "      <td>1076</td>\n",
       "      <td>0</td>\n",
       "    </tr>\n",
       "    <tr>\n",
       "      <th>40356151</th>\n",
       "      <td>13.0</td>\n",
       "      <td>5.0</td>\n",
       "      <td>2014-04-11</td>\n",
       "      <td>2016-05-14</td>\n",
       "      <td>2015-05-29</td>\n",
       "      <td>11369</td>\n",
       "      <td>QUEENS</td>\n",
       "      <td>American</td>\n",
       "      <td>8825 ASTORIA BOULEVARD</td>\n",
       "      <td>7</td>\n",
       "      <td>1</td>\n",
       "      <td>1</td>\n",
       "      <td>12.0</td>\n",
       "      <td>4.0</td>\n",
       "      <td>6</td>\n",
       "      <td>2.000</td>\n",
       "      <td>0.666667</td>\n",
       "      <td>351</td>\n",
       "      <td>764</td>\n",
       "      <td>0</td>\n",
       "    </tr>\n",
       "  </tbody>\n",
       "</table>\n",
       "</div>"
      ],
      "text/plain": [
       "          crit_violations  non_crit_violations earliest_inspection  \\\n",
       "30075445              8.0                  4.0          2013-08-14   \n",
       "30112340             14.0                 10.0          2014-06-05   \n",
       "30191841              4.0                  7.0          2013-07-22   \n",
       "40356018              1.0                  7.0          2013-06-05   \n",
       "40356151             13.0                  5.0          2014-04-11   \n",
       "\n",
       "         latest_inspection second_latest_inspection zipcode       boro  \\\n",
       "30075445        2016-02-18               2015-02-09   10462      BRONX   \n",
       "30112340        2016-10-27               2016-10-03   11225   BROOKLYN   \n",
       "30191841        2016-05-31               2015-09-21   10019  MANHATTAN   \n",
       "40356018        2016-05-16               2015-06-05   11224   BROOKLYN   \n",
       "40356151        2016-05-14               2015-05-29   11369     QUEENS   \n",
       "\n",
       "             cuisine                 address  num_inspections  \\\n",
       "30075445      Bakery    1007 MORRIS PARK AVE                5   \n",
       "30112340  Hamburgers     469 FLATBUSH AVENUE                9   \n",
       "30191841       Irish    351 WEST   57 STREET                5   \n",
       "40356018    American   2780 STILLWELL AVENUE                4   \n",
       "40356151    American  8825 ASTORIA BOULEVARD                7   \n",
       "\n",
       "          crit_violations_recent_inspect  non_crit_violations_recent_inspect  \\\n",
       "30075445                               1                                   1   \n",
       "30112340                               1                                   1   \n",
       "30191841                               1                                   1   \n",
       "40356018                               1                                   1   \n",
       "40356151                               1                                   1   \n",
       "\n",
       "          crit_violations_train  non_crit_violations_train  \\\n",
       "30075445                    7.0                        3.0   \n",
       "30112340                   13.0                        9.0   \n",
       "30191841                    3.0                        6.0   \n",
       "40356018                    0.0                        6.0   \n",
       "40356151                   12.0                        4.0   \n",
       "\n",
       "          num_inspections_train  average_crit_v_train  \\\n",
       "30075445                      4                 1.750   \n",
       "30112340                      8                 1.625   \n",
       "30191841                      4                 0.750   \n",
       "40356018                      3                 0.000   \n",
       "40356151                      6                 2.000   \n",
       "\n",
       "          average_non_crit_v_train  time_since_last_inspection  \\\n",
       "30075445                  0.750000                         374   \n",
       "30112340                  1.125000                          24   \n",
       "30191841                  1.500000                         253   \n",
       "40356018                  2.000000                         346   \n",
       "40356151                  0.666667                         351   \n",
       "\n",
       "          time_since_first_inspection  crit_v_2plus  \n",
       "30075445                          918             0  \n",
       "30112340                          875             0  \n",
       "30191841                         1044             0  \n",
       "40356018                         1076             0  \n",
       "40356151                          764             0  "
      ]
     },
     "execution_count": 14,
     "metadata": {},
     "output_type": "execute_result"
    }
   ],
   "source": [
    "violations_df['crit_violations_train'] = violations_df['crit_violations'] - violations_df['crit_violations_recent_inspect']\n",
    "violations_df['non_crit_violations_train'] = violations_df['non_crit_violations'] - violations_df['non_crit_violations_recent_inspect']\n",
    "violations_df['num_inspections_train'] = violations_df['num_inspections'] - 1\n",
    "violations_df['average_crit_v_train'] = violations_df['crit_violations_train'] / violations_df['num_inspections_train']\n",
    "violations_df['average_non_crit_v_train'] = violations_df['non_crit_violations_train'] / violations_df['num_inspections_train']\n",
    "violations_df['time_since_last_inspection'] = (violations_df['latest_inspection'] - violations_df['second_latest_inspection'])\n",
    "violations_df['time_since_last_inspection'] = (violations_df['time_since_last_inspection'] / np.timedelta64(1, 'D')).astype(int)\n",
    "violations_df['time_since_first_inspection'] = (violations_df['latest_inspection'] - violations_df['earliest_inspection'])\n",
    "violations_df['time_since_first_inspection'] = (violations_df['time_since_first_inspection'] / np.timedelta64(1, 'D')).astype(int)\n",
    "violations_df['crit_v_2plus'] = (violations_df['crit_violations_recent_inspect'] > 1)*1\n",
    "violations_df.head()"
   ]
  },
  {
   "cell_type": "code",
   "execution_count": 16,
   "metadata": {
    "collapsed": true
   },
   "outputs": [],
   "source": [
    "violations_df.to_csv('../../health_inspect_cleaned.csv')  # CHANGE PATH AS NEEDED"
   ]
  },
  {
   "cell_type": "markdown",
   "metadata": {},
   "source": [
    "### Use scrape_weather.py function to add 3-day averages for temperature and humidity"
   ]
  },
  {
   "cell_type": "code",
   "execution_count": null,
   "metadata": {
    "collapsed": false
   },
   "outputs": [],
   "source": [
    "violations_df['3-day temp'] = violations_df.apply(lambda x: scrape_weather(x['zipcode'], x['latest_inspection']), axis=1)\n",
    "\n",
    "violations_df['3-day temp'].head()\n",
    "\n",
    "BOOOOOOOOOOOOOOM # Meant to break code so can examine intermediate results\n",
    "\n",
    "# work in progress"
   ]
  },
  {
   "cell_type": "markdown",
   "metadata": {},
   "source": [
    "### Remove columns we don't want in our training set"
   ]
  },
  {
   "cell_type": "code",
   "execution_count": null,
   "metadata": {
    "collapsed": false
   },
   "outputs": [],
   "source": [
    "violations_df2 = violations_df.drop(['address', 'crit_violations', 'earliest_inspection',\n",
    "                                     'latest_inspection', 'second_latest_inspection',\n",
    "                                     'non_crit_violations', 'num_inspections',\n",
    "                                     'crit_violations_recent_inspect', 'non_crit_violations_recent_inspect'],axis=1)\n",
    "violations_df2.head()"
   ]
  },
  {
   "cell_type": "markdown",
   "metadata": {},
   "source": [
    "### Convert categorical variables to dummy variables"
   ]
  },
  {
   "cell_type": "code",
   "execution_count": null,
   "metadata": {
    "collapsed": false
   },
   "outputs": [],
   "source": [
    "violations_df3 = pd.get_dummies(violations_df2)"
   ]
  },
  {
   "cell_type": "code",
   "execution_count": null,
   "metadata": {
    "collapsed": false
   },
   "outputs": [],
   "source": [
    "X = violations_df3.drop(['crit_v_2plus'],axis=1)\n",
    "y = violations_df3['crit_v_2plus']"
   ]
  },
  {
   "cell_type": "markdown",
   "metadata": {},
   "source": [
    "### Split into training and test sets"
   ]
  },
  {
   "cell_type": "code",
   "execution_count": null,
   "metadata": {
    "collapsed": false
   },
   "outputs": [],
   "source": [
    "X_train, X_test, y_train, y_test = train_test_split(X, y, test_size=0.2, random_state=42)"
   ]
  },
  {
   "cell_type": "markdown",
   "metadata": {},
   "source": [
    "#### Calculate metrics of predicting 0 class for all"
   ]
  },
  {
   "cell_type": "code",
   "execution_count": null,
   "metadata": {
    "collapsed": false
   },
   "outputs": [],
   "source": [
    "pred_zero = np.zeros(len(y_test))\n",
    "print('accuracy = ' + str(sklearn.metrics.accuracy_score(y_test, pred_zero)))\n",
    "print('recall = ' + str(sklearn.metrics.recall_score(y_test, pred_zero)))\n",
    "print('precision = ' + str(sklearn.metrics.precision_score(y_test, pred_zero)))\n",
    "print('f1 = ' + str(sklearn.metrics.f1_score(y_test, pred_zero)))"
   ]
  },
  {
   "cell_type": "markdown",
   "metadata": {},
   "source": [
    "### Logistic Regression"
   ]
  },
  {
   "cell_type": "markdown",
   "metadata": {},
   "source": [
    "w/ L2-regularization"
   ]
  },
  {
   "cell_type": "code",
   "execution_count": null,
   "metadata": {
    "collapsed": false
   },
   "outputs": [],
   "source": [
    "lr = linear_model.LogisticRegression(penalty = 'l2',C=1e20)\n",
    "lr.fit(X_train, y_train)\n",
    "pred_lr = lr.predict(X_test)\n",
    "print('accuracy = ' + str(sklearn.metrics.accuracy_score(y_test, pred_lr)))\n",
    "print('recall = ' + str(sklearn.metrics.recall_score(y_test, pred_lr)))\n",
    "print('precision = ' + str(sklearn.metrics.precision_score(y_test, pred_lr)))\n",
    "print('f1 = ' + str(sklearn.metrics.f1_score(y_test, pred_lr)))"
   ]
  },
  {
   "cell_type": "markdown",
   "metadata": {},
   "source": [
    "w/ L1-regularization"
   ]
  },
  {
   "cell_type": "code",
   "execution_count": null,
   "metadata": {
    "collapsed": false
   },
   "outputs": [],
   "source": [
    "lr = linear_model.LogisticRegression(penalty = 'l1',C=1e20)\n",
    "lr.fit(X_train, y_train)\n",
    "pred_lr = lr.predict(X_test)\n",
    "print('accuracy = ' + str(sklearn.metrics.accuracy_score(y_test, pred_lr)))\n",
    "print('recall = ' + str(sklearn.metrics.recall_score(y_test, pred_lr)))\n",
    "print('precision = ' + str(sklearn.metrics.precision_score(y_test, pred_lr)))\n",
    "print('f1 = ' + str(sklearn.metrics.f1_score(y_test, pred_lr)))"
   ]
  },
  {
   "cell_type": "markdown",
   "metadata": {},
   "source": [
    "### Naive Bayes"
   ]
  },
  {
   "cell_type": "markdown",
   "metadata": {},
   "source": [
    "#### w/ fit prior:"
   ]
  },
  {
   "cell_type": "code",
   "execution_count": null,
   "metadata": {
    "collapsed": false
   },
   "outputs": [],
   "source": [
    "nb = BernoulliNB(alpha=1,fit_prior=True)\n",
    "nb.fit(X_train, y_train)\n",
    "pred_nb = nb.predict(X_test)\n",
    "print('accuracy = ' + str(sklearn.metrics.accuracy_score(y_test, pred_nb)))\n",
    "print('recall = ' + str(sklearn.metrics.recall_score(y_test, pred_nb)))\n",
    "print('precision = ' + str(sklearn.metrics.precision_score(y_test, pred_nb)))\n",
    "print('f1 = ' + str(sklearn.metrics.f1_score(y_test, pred_nb)))"
   ]
  },
  {
   "cell_type": "markdown",
   "metadata": {},
   "source": [
    "#### w/ uniform prior"
   ]
  },
  {
   "cell_type": "code",
   "execution_count": null,
   "metadata": {
    "collapsed": false
   },
   "outputs": [],
   "source": [
    "nb = BernoulliNB(alpha=1,fit_prior=False)\n",
    "nb.fit(X_train, y_train)\n",
    "pred_nb = nb.predict(X_test)\n",
    "print('accuracy = ' + str(sklearn.metrics.accuracy_score(y_test, pred_nb)))\n",
    "print('recall = ' + str(sklearn.metrics.recall_score(y_test, pred_nb)))\n",
    "print('precision = ' + str(sklearn.metrics.precision_score(y_test, pred_nb)))\n",
    "print('f1 = ' + str(sklearn.metrics.f1_score(y_test, pred_nb)))"
   ]
  },
  {
   "cell_type": "markdown",
   "metadata": {},
   "source": [
    "### Random Forest"
   ]
  },
  {
   "cell_type": "markdown",
   "metadata": {},
   "source": [
    "#### 10 trees"
   ]
  },
  {
   "cell_type": "code",
   "execution_count": null,
   "metadata": {
    "collapsed": false
   },
   "outputs": [],
   "source": [
    "rf = RandomForestClassifier(n_estimators=10)\n",
    "rf.fit(X_train, y_train)\n",
    "pred_rf = rf.predict(X_test)\n",
    "print('accuracy = ' + str(sklearn.metrics.accuracy_score(y_test, pred_rf)))\n",
    "print('recall = ' + str(sklearn.metrics.recall_score(y_test, pred_rf)))\n",
    "print('precision = ' + str(sklearn.metrics.precision_score(y_test, pred_rf)))\n",
    "print('f1 = ' + str(sklearn.metrics.f1_score(y_test, pred_rf)))"
   ]
  },
  {
   "cell_type": "markdown",
   "metadata": {},
   "source": [
    "#### 20 trees"
   ]
  },
  {
   "cell_type": "code",
   "execution_count": null,
   "metadata": {
    "collapsed": false
   },
   "outputs": [],
   "source": [
    "rf = RandomForestClassifier(n_estimators=20)\n",
    "rf.fit(X_train, y_train)\n",
    "pred_rf = rf.predict(X_test)\n",
    "print('accuracy = ' + str(sklearn.metrics.accuracy_score(y_test, pred_rf)))\n",
    "print('recall = ' + str(sklearn.metrics.recall_score(y_test, pred_rf)))\n",
    "print('precision = ' + str(sklearn.metrics.precision_score(y_test, pred_rf)))\n",
    "print('f1 = ' + str(sklearn.metrics.f1_score(y_test, pred_rf)))"
   ]
  }
 ],
 "metadata": {
  "anaconda-cloud": {},
  "kernelspec": {
   "display_name": "Python [py35]",
   "language": "python",
   "name": "Python [py35]"
  },
  "language_info": {
   "codemirror_mode": {
    "name": "ipython",
    "version": 3
   },
   "file_extension": ".py",
   "mimetype": "text/x-python",
   "name": "python",
   "nbconvert_exporter": "python",
   "pygments_lexer": "ipython3",
   "version": "3.5.2"
  }
 },
 "nbformat": 4,
 "nbformat_minor": 0
}
