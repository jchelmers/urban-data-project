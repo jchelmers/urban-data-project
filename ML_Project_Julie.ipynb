{
 "cells": [
  {
   "cell_type": "markdown",
   "metadata": {},
   "source": [
    "# Builds off of ML_Project_Jon but incorporates weather data\n",
    "## See also scrape_weather.ipynb"
   ]
  },
  {
   "cell_type": "code",
   "execution_count": 1,
   "metadata": {
    "collapsed": false
   },
   "outputs": [],
   "source": [
    "import numpy as np\n",
    "import pandas as pd\n",
    "import matplotlib.pyplot as plt\n",
    "import sklearn\n",
    "from sklearn import preprocessing\n",
    "from sklearn import linear_model\n",
    "from sklearn import svm\n",
    "from sklearn import metrics\n",
    "from sklearn.model_selection import train_test_split\n",
    "from sklearn.naive_bayes import BernoulliNB\n",
    "from sklearn.ensemble import RandomForestClassifier\n",
    "%matplotlib inline"
   ]
  },
  {
   "cell_type": "code",
   "execution_count": 2,
   "metadata": {
    "collapsed": true
   },
   "outputs": [],
   "source": [
    "pd.set_option('max_rows', 10)"
   ]
  },
  {
   "cell_type": "markdown",
   "metadata": {},
   "source": [
    "## Load health inspection and weather data"
   ]
  },
  {
   "cell_type": "code",
   "execution_count": 3,
   "metadata": {
    "collapsed": false
   },
   "outputs": [],
   "source": [
    "violations_df = pd.read_csv('health_inspect_cleaned.csv', index_col=0) # file is in GitHub\n",
    "weather_df = pd.read_csv('weather_data.csv') # file is in GitHub"
   ]
  },
  {
   "cell_type": "markdown",
   "metadata": {},
   "source": [
    "### Add temperature and humidity columns to health inspection data"
   ]
  },
  {
   "cell_type": "code",
   "execution_count": 4,
   "metadata": {
    "collapsed": false
   },
   "outputs": [
    {
     "data": {
      "text/html": [
       "<div>\n",
       "<table border=\"1\" class=\"dataframe\">\n",
       "  <thead>\n",
       "    <tr style=\"text-align: right;\">\n",
       "      <th></th>\n",
       "      <th>crit_violations</th>\n",
       "      <th>non_crit_violations</th>\n",
       "      <th>earliest_inspection</th>\n",
       "      <th>latest_inspection</th>\n",
       "      <th>second_latest_inspection</th>\n",
       "      <th>zipcode</th>\n",
       "      <th>boro</th>\n",
       "      <th>cuisine</th>\n",
       "      <th>address</th>\n",
       "      <th>num_inspections</th>\n",
       "      <th>...</th>\n",
       "      <th>crit_violations_train</th>\n",
       "      <th>non_crit_violations_train</th>\n",
       "      <th>num_inspections_train</th>\n",
       "      <th>average_crit_v_train</th>\n",
       "      <th>average_non_crit_v_train</th>\n",
       "      <th>time_since_last_inspection</th>\n",
       "      <th>time_since_first_inspection</th>\n",
       "      <th>crit_v_2plus</th>\n",
       "      <th>3-day temp</th>\n",
       "      <th>3-day humidity</th>\n",
       "    </tr>\n",
       "  </thead>\n",
       "  <tbody>\n",
       "    <tr>\n",
       "      <th>30075445</th>\n",
       "      <td>8.0</td>\n",
       "      <td>4.0</td>\n",
       "      <td>2013-08-14</td>\n",
       "      <td>2016-02-18</td>\n",
       "      <td>2015-02-09</td>\n",
       "      <td>10462</td>\n",
       "      <td>BRONX</td>\n",
       "      <td>Bakery</td>\n",
       "      <td>1007 MORRIS PARK AVE</td>\n",
       "      <td>5</td>\n",
       "      <td>...</td>\n",
       "      <td>7.0</td>\n",
       "      <td>3.0</td>\n",
       "      <td>4</td>\n",
       "      <td>1.750</td>\n",
       "      <td>0.750000</td>\n",
       "      <td>374</td>\n",
       "      <td>918</td>\n",
       "      <td>0</td>\n",
       "      <td>39.333333</td>\n",
       "      <td>60.666667</td>\n",
       "    </tr>\n",
       "    <tr>\n",
       "      <th>30112340</th>\n",
       "      <td>14.0</td>\n",
       "      <td>10.0</td>\n",
       "      <td>2014-06-05</td>\n",
       "      <td>2016-10-27</td>\n",
       "      <td>2016-10-03</td>\n",
       "      <td>11225</td>\n",
       "      <td>BROOKLYN</td>\n",
       "      <td>Hamburgers</td>\n",
       "      <td>469 FLATBUSH AVENUE</td>\n",
       "      <td>9</td>\n",
       "      <td>...</td>\n",
       "      <td>13.0</td>\n",
       "      <td>9.0</td>\n",
       "      <td>8</td>\n",
       "      <td>1.625</td>\n",
       "      <td>1.125000</td>\n",
       "      <td>24</td>\n",
       "      <td>875</td>\n",
       "      <td>0</td>\n",
       "      <td>61.666667</td>\n",
       "      <td>NaN</td>\n",
       "    </tr>\n",
       "    <tr>\n",
       "      <th>30191841</th>\n",
       "      <td>4.0</td>\n",
       "      <td>7.0</td>\n",
       "      <td>2013-07-22</td>\n",
       "      <td>2016-05-31</td>\n",
       "      <td>2015-09-21</td>\n",
       "      <td>10019</td>\n",
       "      <td>MANHATTAN</td>\n",
       "      <td>Irish</td>\n",
       "      <td>351 WEST   57 STREET</td>\n",
       "      <td>5</td>\n",
       "      <td>...</td>\n",
       "      <td>3.0</td>\n",
       "      <td>6.0</td>\n",
       "      <td>4</td>\n",
       "      <td>0.750</td>\n",
       "      <td>1.500000</td>\n",
       "      <td>253</td>\n",
       "      <td>1044</td>\n",
       "      <td>0</td>\n",
       "      <td>77.333333</td>\n",
       "      <td>68.666667</td>\n",
       "    </tr>\n",
       "    <tr>\n",
       "      <th>40356018</th>\n",
       "      <td>1.0</td>\n",
       "      <td>7.0</td>\n",
       "      <td>2013-06-05</td>\n",
       "      <td>2016-05-16</td>\n",
       "      <td>2015-06-05</td>\n",
       "      <td>11224</td>\n",
       "      <td>BROOKLYN</td>\n",
       "      <td>American</td>\n",
       "      <td>2780 STILLWELL AVENUE</td>\n",
       "      <td>4</td>\n",
       "      <td>...</td>\n",
       "      <td>0.0</td>\n",
       "      <td>6.0</td>\n",
       "      <td>3</td>\n",
       "      <td>0.000</td>\n",
       "      <td>2.000000</td>\n",
       "      <td>346</td>\n",
       "      <td>1076</td>\n",
       "      <td>0</td>\n",
       "      <td>58.333333</td>\n",
       "      <td>56.666667</td>\n",
       "    </tr>\n",
       "    <tr>\n",
       "      <th>40356151</th>\n",
       "      <td>13.0</td>\n",
       "      <td>5.0</td>\n",
       "      <td>2014-04-11</td>\n",
       "      <td>2016-05-14</td>\n",
       "      <td>2015-05-29</td>\n",
       "      <td>11369</td>\n",
       "      <td>QUEENS</td>\n",
       "      <td>American</td>\n",
       "      <td>8825 ASTORIA BOULEVARD</td>\n",
       "      <td>7</td>\n",
       "      <td>...</td>\n",
       "      <td>12.0</td>\n",
       "      <td>4.0</td>\n",
       "      <td>6</td>\n",
       "      <td>2.000</td>\n",
       "      <td>0.666667</td>\n",
       "      <td>351</td>\n",
       "      <td>764</td>\n",
       "      <td>0</td>\n",
       "      <td>63.666667</td>\n",
       "      <td>67.666667</td>\n",
       "    </tr>\n",
       "    <tr>\n",
       "      <th>...</th>\n",
       "      <td>...</td>\n",
       "      <td>...</td>\n",
       "      <td>...</td>\n",
       "      <td>...</td>\n",
       "      <td>...</td>\n",
       "      <td>...</td>\n",
       "      <td>...</td>\n",
       "      <td>...</td>\n",
       "      <td>...</td>\n",
       "      <td>...</td>\n",
       "      <td>...</td>\n",
       "      <td>...</td>\n",
       "      <td>...</td>\n",
       "      <td>...</td>\n",
       "      <td>...</td>\n",
       "      <td>...</td>\n",
       "      <td>...</td>\n",
       "      <td>...</td>\n",
       "      <td>...</td>\n",
       "      <td>...</td>\n",
       "      <td>...</td>\n",
       "    </tr>\n",
       "    <tr>\n",
       "      <th>50060427</th>\n",
       "      <td>10.0</td>\n",
       "      <td>4.0</td>\n",
       "      <td>2017-03-07</td>\n",
       "      <td>2017-04-06</td>\n",
       "      <td>2017-03-20</td>\n",
       "      <td>11217</td>\n",
       "      <td>BROOKLYN</td>\n",
       "      <td>Bagels/Pretzels</td>\n",
       "      <td>73 LAFAYETTE AVE</td>\n",
       "      <td>3</td>\n",
       "      <td>...</td>\n",
       "      <td>8.0</td>\n",
       "      <td>3.0</td>\n",
       "      <td>2</td>\n",
       "      <td>4.000</td>\n",
       "      <td>1.500000</td>\n",
       "      <td>17</td>\n",
       "      <td>30</td>\n",
       "      <td>1</td>\n",
       "      <td>49.333333</td>\n",
       "      <td>88.666667</td>\n",
       "    </tr>\n",
       "    <tr>\n",
       "      <th>50060496</th>\n",
       "      <td>7.0</td>\n",
       "      <td>4.0</td>\n",
       "      <td>2017-02-27</td>\n",
       "      <td>2017-03-31</td>\n",
       "      <td>2017-02-27</td>\n",
       "      <td>11232</td>\n",
       "      <td>BROOKLYN</td>\n",
       "      <td>Delicatessen</td>\n",
       "      <td>4102 3RD AVE</td>\n",
       "      <td>2</td>\n",
       "      <td>...</td>\n",
       "      <td>4.0</td>\n",
       "      <td>3.0</td>\n",
       "      <td>1</td>\n",
       "      <td>4.000</td>\n",
       "      <td>3.000000</td>\n",
       "      <td>32</td>\n",
       "      <td>32</td>\n",
       "      <td>1</td>\n",
       "      <td>46.000000</td>\n",
       "      <td>67.333333</td>\n",
       "    </tr>\n",
       "    <tr>\n",
       "      <th>50060695</th>\n",
       "      <td>7.0</td>\n",
       "      <td>4.0</td>\n",
       "      <td>2017-04-04</td>\n",
       "      <td>2017-04-10</td>\n",
       "      <td>2017-04-04</td>\n",
       "      <td>11432</td>\n",
       "      <td>QUEENS</td>\n",
       "      <td>Pizza</td>\n",
       "      <td>16417 JAMAICA AVE</td>\n",
       "      <td>2</td>\n",
       "      <td>...</td>\n",
       "      <td>6.0</td>\n",
       "      <td>3.0</td>\n",
       "      <td>1</td>\n",
       "      <td>6.000</td>\n",
       "      <td>3.000000</td>\n",
       "      <td>6</td>\n",
       "      <td>6</td>\n",
       "      <td>0</td>\n",
       "      <td>51.333333</td>\n",
       "      <td>55.000000</td>\n",
       "    </tr>\n",
       "    <tr>\n",
       "      <th>50060807</th>\n",
       "      <td>2.0</td>\n",
       "      <td>2.0</td>\n",
       "      <td>2017-03-09</td>\n",
       "      <td>2017-03-20</td>\n",
       "      <td>2017-03-09</td>\n",
       "      <td>10467</td>\n",
       "      <td>BRONX</td>\n",
       "      <td>Chinese</td>\n",
       "      <td>2861 WHITE PLAINS RD</td>\n",
       "      <td>2</td>\n",
       "      <td>...</td>\n",
       "      <td>1.0</td>\n",
       "      <td>0.0</td>\n",
       "      <td>1</td>\n",
       "      <td>1.000</td>\n",
       "      <td>0.000000</td>\n",
       "      <td>11</td>\n",
       "      <td>11</td>\n",
       "      <td>0</td>\n",
       "      <td>42.000000</td>\n",
       "      <td>47.333333</td>\n",
       "    </tr>\n",
       "    <tr>\n",
       "      <th>50060808</th>\n",
       "      <td>8.0</td>\n",
       "      <td>4.0</td>\n",
       "      <td>2017-03-09</td>\n",
       "      <td>2017-03-27</td>\n",
       "      <td>2017-03-23</td>\n",
       "      <td>11428</td>\n",
       "      <td>QUEENS</td>\n",
       "      <td>Bakery</td>\n",
       "      <td>21023 JAMAICA AVE</td>\n",
       "      <td>3</td>\n",
       "      <td>...</td>\n",
       "      <td>7.0</td>\n",
       "      <td>3.0</td>\n",
       "      <td>2</td>\n",
       "      <td>3.500</td>\n",
       "      <td>1.500000</td>\n",
       "      <td>4</td>\n",
       "      <td>18</td>\n",
       "      <td>0</td>\n",
       "      <td>47.333333</td>\n",
       "      <td>80.666667</td>\n",
       "    </tr>\n",
       "  </tbody>\n",
       "</table>\n",
       "<p>22330 rows × 22 columns</p>\n",
       "</div>"
      ],
      "text/plain": [
       "          crit_violations  non_crit_violations earliest_inspection  \\\n",
       "30075445              8.0                  4.0          2013-08-14   \n",
       "30112340             14.0                 10.0          2014-06-05   \n",
       "30191841              4.0                  7.0          2013-07-22   \n",
       "40356018              1.0                  7.0          2013-06-05   \n",
       "40356151             13.0                  5.0          2014-04-11   \n",
       "...                   ...                  ...                 ...   \n",
       "50060427             10.0                  4.0          2017-03-07   \n",
       "50060496              7.0                  4.0          2017-02-27   \n",
       "50060695              7.0                  4.0          2017-04-04   \n",
       "50060807              2.0                  2.0          2017-03-09   \n",
       "50060808              8.0                  4.0          2017-03-09   \n",
       "\n",
       "         latest_inspection second_latest_inspection  zipcode       boro  \\\n",
       "30075445        2016-02-18               2015-02-09    10462      BRONX   \n",
       "30112340        2016-10-27               2016-10-03    11225   BROOKLYN   \n",
       "30191841        2016-05-31               2015-09-21    10019  MANHATTAN   \n",
       "40356018        2016-05-16               2015-06-05    11224   BROOKLYN   \n",
       "40356151        2016-05-14               2015-05-29    11369     QUEENS   \n",
       "...                    ...                      ...      ...        ...   \n",
       "50060427        2017-04-06               2017-03-20    11217   BROOKLYN   \n",
       "50060496        2017-03-31               2017-02-27    11232   BROOKLYN   \n",
       "50060695        2017-04-10               2017-04-04    11432     QUEENS   \n",
       "50060807        2017-03-20               2017-03-09    10467      BRONX   \n",
       "50060808        2017-03-27               2017-03-23    11428     QUEENS   \n",
       "\n",
       "                  cuisine                 address  num_inspections  \\\n",
       "30075445           Bakery    1007 MORRIS PARK AVE                5   \n",
       "30112340       Hamburgers     469 FLATBUSH AVENUE                9   \n",
       "30191841            Irish    351 WEST   57 STREET                5   \n",
       "40356018         American   2780 STILLWELL AVENUE                4   \n",
       "40356151         American  8825 ASTORIA BOULEVARD                7   \n",
       "...                   ...                     ...              ...   \n",
       "50060427  Bagels/Pretzels        73 LAFAYETTE AVE                3   \n",
       "50060496     Delicatessen            4102 3RD AVE                2   \n",
       "50060695            Pizza       16417 JAMAICA AVE                2   \n",
       "50060807          Chinese    2861 WHITE PLAINS RD                2   \n",
       "50060808           Bakery       21023 JAMAICA AVE                3   \n",
       "\n",
       "               ...        crit_violations_train  non_crit_violations_train  \\\n",
       "30075445       ...                          7.0                        3.0   \n",
       "30112340       ...                         13.0                        9.0   \n",
       "30191841       ...                          3.0                        6.0   \n",
       "40356018       ...                          0.0                        6.0   \n",
       "40356151       ...                         12.0                        4.0   \n",
       "...            ...                          ...                        ...   \n",
       "50060427       ...                          8.0                        3.0   \n",
       "50060496       ...                          4.0                        3.0   \n",
       "50060695       ...                          6.0                        3.0   \n",
       "50060807       ...                          1.0                        0.0   \n",
       "50060808       ...                          7.0                        3.0   \n",
       "\n",
       "          num_inspections_train  average_crit_v_train  \\\n",
       "30075445                      4                 1.750   \n",
       "30112340                      8                 1.625   \n",
       "30191841                      4                 0.750   \n",
       "40356018                      3                 0.000   \n",
       "40356151                      6                 2.000   \n",
       "...                         ...                   ...   \n",
       "50060427                      2                 4.000   \n",
       "50060496                      1                 4.000   \n",
       "50060695                      1                 6.000   \n",
       "50060807                      1                 1.000   \n",
       "50060808                      2                 3.500   \n",
       "\n",
       "          average_non_crit_v_train  time_since_last_inspection  \\\n",
       "30075445                  0.750000                         374   \n",
       "30112340                  1.125000                          24   \n",
       "30191841                  1.500000                         253   \n",
       "40356018                  2.000000                         346   \n",
       "40356151                  0.666667                         351   \n",
       "...                            ...                         ...   \n",
       "50060427                  1.500000                          17   \n",
       "50060496                  3.000000                          32   \n",
       "50060695                  3.000000                           6   \n",
       "50060807                  0.000000                          11   \n",
       "50060808                  1.500000                           4   \n",
       "\n",
       "          time_since_first_inspection  crit_v_2plus  3-day temp  \\\n",
       "30075445                          918             0   39.333333   \n",
       "30112340                          875             0   61.666667   \n",
       "30191841                         1044             0   77.333333   \n",
       "40356018                         1076             0   58.333333   \n",
       "40356151                          764             0   63.666667   \n",
       "...                               ...           ...         ...   \n",
       "50060427                           30             1   49.333333   \n",
       "50060496                           32             1   46.000000   \n",
       "50060695                            6             0   51.333333   \n",
       "50060807                           11             0   42.000000   \n",
       "50060808                           18             0   47.333333   \n",
       "\n",
       "          3-day humidity  \n",
       "30075445       60.666667  \n",
       "30112340             NaN  \n",
       "30191841       68.666667  \n",
       "40356018       56.666667  \n",
       "40356151       67.666667  \n",
       "...                  ...  \n",
       "50060427       88.666667  \n",
       "50060496       67.333333  \n",
       "50060695       55.000000  \n",
       "50060807       47.333333  \n",
       "50060808       80.666667  \n",
       "\n",
       "[22330 rows x 22 columns]"
      ]
     },
     "execution_count": 4,
     "metadata": {},
     "output_type": "execute_result"
    }
   ],
   "source": [
    "violations_df['3-day temp'] = list(weather_df['3-day temp'])\n",
    "violations_df['3-day humidity'] = list(weather_df['3-day humidity'])\n",
    "\n",
    "violations_df"
   ]
  },
  {
   "cell_type": "markdown",
   "metadata": {},
   "source": [
    "### Check for any rows we failed to scrape properly, i.e. rows with NaN for temperature or humidity"
   ]
  },
  {
   "cell_type": "code",
   "execution_count": 5,
   "metadata": {
    "collapsed": false
   },
   "outputs": [
    {
     "data": {
      "text/plain": [
       "1517"
      ]
     },
     "execution_count": 5,
     "metadata": {},
     "output_type": "execute_result"
    }
   ],
   "source": [
    "temp_is_nan = weather_df['3-day temp'].index[weather_df['3-day temp'].apply(np.isnan)].values\n",
    "len(temp_is_nan)"
   ]
  },
  {
   "cell_type": "code",
   "execution_count": 6,
   "metadata": {
    "collapsed": false
   },
   "outputs": [
    {
     "data": {
      "text/plain": [
       "1806"
      ]
     },
     "execution_count": 6,
     "metadata": {},
     "output_type": "execute_result"
    }
   ],
   "source": [
    "humid_is_nan = weather_df['3-day humidity'].index[weather_df['3-day humidity'].apply(np.isnan)].values\n",
    "len(humid_is_nan)"
   ]
  },
  {
   "cell_type": "markdown",
   "metadata": {},
   "source": [
    "### FOR NOW we'll only include rows with valid temperature and humidity information\n",
    "#### Later, we'll deal with those missing values more intelligently"
   ]
  },
  {
   "cell_type": "code",
   "execution_count": 7,
   "metadata": {
    "collapsed": false
   },
   "outputs": [
    {
     "data": {
      "text/plain": [
       "1854"
      ]
     },
     "execution_count": 7,
     "metadata": {},
     "output_type": "execute_result"
    }
   ],
   "source": [
    "keep = [i for i in range(len(violations_df)) if i not in temp_is_nan and i not in humid_is_nan]\n",
    "len(violations_df) - len(keep)"
   ]
  },
  {
   "cell_type": "code",
   "execution_count": 8,
   "metadata": {
    "collapsed": false
   },
   "outputs": [],
   "source": [
    "violations_df1 = violations_df.iloc[keep]"
   ]
  },
  {
   "cell_type": "markdown",
   "metadata": {},
   "source": [
    "### Remove columns we don't want in our training set"
   ]
  },
  {
   "cell_type": "code",
   "execution_count": 9,
   "metadata": {
    "collapsed": false
   },
   "outputs": [
    {
     "data": {
      "text/html": [
       "<div>\n",
       "<table border=\"1\" class=\"dataframe\">\n",
       "  <thead>\n",
       "    <tr style=\"text-align: right;\">\n",
       "      <th></th>\n",
       "      <th>zipcode</th>\n",
       "      <th>boro</th>\n",
       "      <th>cuisine</th>\n",
       "      <th>crit_violations_train</th>\n",
       "      <th>non_crit_violations_train</th>\n",
       "      <th>num_inspections_train</th>\n",
       "      <th>average_crit_v_train</th>\n",
       "      <th>average_non_crit_v_train</th>\n",
       "      <th>time_since_last_inspection</th>\n",
       "      <th>time_since_first_inspection</th>\n",
       "      <th>crit_v_2plus</th>\n",
       "      <th>3-day temp</th>\n",
       "      <th>3-day humidity</th>\n",
       "    </tr>\n",
       "  </thead>\n",
       "  <tbody>\n",
       "    <tr>\n",
       "      <th>30075445</th>\n",
       "      <td>10462</td>\n",
       "      <td>BRONX</td>\n",
       "      <td>Bakery</td>\n",
       "      <td>7.0</td>\n",
       "      <td>3.0</td>\n",
       "      <td>4</td>\n",
       "      <td>1.750000</td>\n",
       "      <td>0.750000</td>\n",
       "      <td>374</td>\n",
       "      <td>918</td>\n",
       "      <td>0</td>\n",
       "      <td>39.333333</td>\n",
       "      <td>60.666667</td>\n",
       "    </tr>\n",
       "    <tr>\n",
       "      <th>30191841</th>\n",
       "      <td>10019</td>\n",
       "      <td>MANHATTAN</td>\n",
       "      <td>Irish</td>\n",
       "      <td>3.0</td>\n",
       "      <td>6.0</td>\n",
       "      <td>4</td>\n",
       "      <td>0.750000</td>\n",
       "      <td>1.500000</td>\n",
       "      <td>253</td>\n",
       "      <td>1044</td>\n",
       "      <td>0</td>\n",
       "      <td>77.333333</td>\n",
       "      <td>68.666667</td>\n",
       "    </tr>\n",
       "    <tr>\n",
       "      <th>40356018</th>\n",
       "      <td>11224</td>\n",
       "      <td>BROOKLYN</td>\n",
       "      <td>American</td>\n",
       "      <td>0.0</td>\n",
       "      <td>6.0</td>\n",
       "      <td>3</td>\n",
       "      <td>0.000000</td>\n",
       "      <td>2.000000</td>\n",
       "      <td>346</td>\n",
       "      <td>1076</td>\n",
       "      <td>0</td>\n",
       "      <td>58.333333</td>\n",
       "      <td>56.666667</td>\n",
       "    </tr>\n",
       "    <tr>\n",
       "      <th>40356151</th>\n",
       "      <td>11369</td>\n",
       "      <td>QUEENS</td>\n",
       "      <td>American</td>\n",
       "      <td>12.0</td>\n",
       "      <td>4.0</td>\n",
       "      <td>6</td>\n",
       "      <td>2.000000</td>\n",
       "      <td>0.666667</td>\n",
       "      <td>351</td>\n",
       "      <td>764</td>\n",
       "      <td>0</td>\n",
       "      <td>63.666667</td>\n",
       "      <td>67.666667</td>\n",
       "    </tr>\n",
       "    <tr>\n",
       "      <th>40356483</th>\n",
       "      <td>11234</td>\n",
       "      <td>BROOKLYN</td>\n",
       "      <td>Delicatessen</td>\n",
       "      <td>8.0</td>\n",
       "      <td>13.0</td>\n",
       "      <td>6</td>\n",
       "      <td>1.333333</td>\n",
       "      <td>2.166667</td>\n",
       "      <td>348</td>\n",
       "      <td>1016</td>\n",
       "      <td>0</td>\n",
       "      <td>63.333333</td>\n",
       "      <td>34.000000</td>\n",
       "    </tr>\n",
       "  </tbody>\n",
       "</table>\n",
       "</div>"
      ],
      "text/plain": [
       "          zipcode       boro       cuisine  crit_violations_train  \\\n",
       "30075445    10462      BRONX        Bakery                    7.0   \n",
       "30191841    10019  MANHATTAN         Irish                    3.0   \n",
       "40356018    11224   BROOKLYN      American                    0.0   \n",
       "40356151    11369     QUEENS      American                   12.0   \n",
       "40356483    11234   BROOKLYN  Delicatessen                    8.0   \n",
       "\n",
       "          non_crit_violations_train  num_inspections_train  \\\n",
       "30075445                        3.0                      4   \n",
       "30191841                        6.0                      4   \n",
       "40356018                        6.0                      3   \n",
       "40356151                        4.0                      6   \n",
       "40356483                       13.0                      6   \n",
       "\n",
       "          average_crit_v_train  average_non_crit_v_train  \\\n",
       "30075445              1.750000                  0.750000   \n",
       "30191841              0.750000                  1.500000   \n",
       "40356018              0.000000                  2.000000   \n",
       "40356151              2.000000                  0.666667   \n",
       "40356483              1.333333                  2.166667   \n",
       "\n",
       "          time_since_last_inspection  time_since_first_inspection  \\\n",
       "30075445                         374                          918   \n",
       "30191841                         253                         1044   \n",
       "40356018                         346                         1076   \n",
       "40356151                         351                          764   \n",
       "40356483                         348                         1016   \n",
       "\n",
       "          crit_v_2plus  3-day temp  3-day humidity  \n",
       "30075445             0   39.333333       60.666667  \n",
       "30191841             0   77.333333       68.666667  \n",
       "40356018             0   58.333333       56.666667  \n",
       "40356151             0   63.666667       67.666667  \n",
       "40356483             0   63.333333       34.000000  "
      ]
     },
     "execution_count": 9,
     "metadata": {},
     "output_type": "execute_result"
    }
   ],
   "source": [
    "violations_df2 = violations_df1.drop(['address', 'crit_violations', 'earliest_inspection',\n",
    "                                     'latest_inspection', 'second_latest_inspection',\n",
    "                                     'non_crit_violations', 'num_inspections',\n",
    "                                     'crit_violations_recent_inspect', 'non_crit_violations_recent_inspect'],axis=1)\n",
    "violations_df2.head()"
   ]
  },
  {
   "cell_type": "markdown",
   "metadata": {},
   "source": [
    "### Convert categorical variables to dummy variables"
   ]
  },
  {
   "cell_type": "code",
   "execution_count": 10,
   "metadata": {
    "collapsed": false
   },
   "outputs": [],
   "source": [
    "violations_df3 = pd.get_dummies(violations_df2)"
   ]
  },
  {
   "cell_type": "markdown",
   "metadata": {},
   "source": [
    "### Separate target variable"
   ]
  },
  {
   "cell_type": "code",
   "execution_count": 11,
   "metadata": {
    "collapsed": false
   },
   "outputs": [],
   "source": [
    "X = violations_df3.drop(['crit_v_2plus'],axis=1)\n",
    "y = violations_df3['crit_v_2plus']"
   ]
  },
  {
   "cell_type": "markdown",
   "metadata": {},
   "source": [
    "### Split into training and test sets"
   ]
  },
  {
   "cell_type": "code",
   "execution_count": 12,
   "metadata": {
    "collapsed": false
   },
   "outputs": [],
   "source": [
    "X_train, X_test, y_train, y_test = train_test_split(X, y, test_size=0.2, random_state=42)"
   ]
  },
  {
   "cell_type": "markdown",
   "metadata": {},
   "source": [
    "#### Calculate metrics of predicting 0 class for all"
   ]
  },
  {
   "cell_type": "code",
   "execution_count": 13,
   "metadata": {
    "collapsed": false
   },
   "outputs": [
    {
     "name": "stdout",
     "output_type": "stream",
     "text": [
      "accuracy = 0.6572265625\n",
      "recall = 0.0\n",
      "precision = 0.0\n",
      "f1 = 0.0\n"
     ]
    },
    {
     "name": "stderr",
     "output_type": "stream",
     "text": [
      "C:\\Users\\Julie\\Anaconda2\\lib\\site-packages\\sklearn\\metrics\\classification.py:1113: UndefinedMetricWarning: Precision is ill-defined and being set to 0.0 due to no predicted samples.\n",
      "  'precision', 'predicted', average, warn_for)\n",
      "C:\\Users\\Julie\\Anaconda2\\lib\\site-packages\\sklearn\\metrics\\classification.py:1113: UndefinedMetricWarning: F-score is ill-defined and being set to 0.0 due to no predicted samples.\n",
      "  'precision', 'predicted', average, warn_for)\n"
     ]
    }
   ],
   "source": [
    "pred_zero = np.zeros(len(y_test))\n",
    "print('accuracy = ' + str(sklearn.metrics.accuracy_score(y_test, pred_zero)))\n",
    "print('recall = ' + str(sklearn.metrics.recall_score(y_test, pred_zero)))\n",
    "print('precision = ' + str(sklearn.metrics.precision_score(y_test, pred_zero)))\n",
    "print('f1 = ' + str(sklearn.metrics.f1_score(y_test, pred_zero)))"
   ]
  },
  {
   "cell_type": "markdown",
   "metadata": {},
   "source": [
    "### Logistic Regression"
   ]
  },
  {
   "cell_type": "markdown",
   "metadata": {},
   "source": [
    "#### w/ L2-regularization"
   ]
  },
  {
   "cell_type": "code",
   "execution_count": 14,
   "metadata": {
    "collapsed": false
   },
   "outputs": [
    {
     "name": "stdout",
     "output_type": "stream",
     "text": [
      "accuracy = 0.657470703125\n",
      "recall = 0.106837606838\n",
      "precision = 0.501672240803\n",
      "f1 = 0.176159718144\n"
     ]
    }
   ],
   "source": [
    "lr = linear_model.LogisticRegression(penalty = 'l2',C=1e20)\n",
    "lr.fit(X_train, y_train)\n",
    "pred_lr = lr.predict(X_test)\n",
    "print('accuracy = ' + str(sklearn.metrics.accuracy_score(y_test, pred_lr)))\n",
    "print('recall = ' + str(sklearn.metrics.recall_score(y_test, pred_lr)))\n",
    "print('precision = ' + str(sklearn.metrics.precision_score(y_test, pred_lr)))\n",
    "print('f1 = ' + str(sklearn.metrics.f1_score(y_test, pred_lr)))"
   ]
  },
  {
   "cell_type": "markdown",
   "metadata": {},
   "source": [
    "#### w/ L1-regularization"
   ]
  },
  {
   "cell_type": "code",
   "execution_count": 15,
   "metadata": {
    "collapsed": false
   },
   "outputs": [
    {
     "name": "stdout",
     "output_type": "stream",
     "text": [
      "accuracy = 0.653564453125\n",
      "recall = 0.160256410256\n",
      "precision = 0.483870967742\n",
      "f1 = 0.24077046549\n"
     ]
    }
   ],
   "source": [
    "lr = linear_model.LogisticRegression(penalty = 'l1',C=1e20)\n",
    "lr.fit(X_train, y_train)\n",
    "pred_lr = lr.predict(X_test)\n",
    "print('accuracy = ' + str(sklearn.metrics.accuracy_score(y_test, pred_lr)))\n",
    "print('recall = ' + str(sklearn.metrics.recall_score(y_test, pred_lr)))\n",
    "print('precision = ' + str(sklearn.metrics.precision_score(y_test, pred_lr)))\n",
    "print('f1 = ' + str(sklearn.metrics.f1_score(y_test, pred_lr)))"
   ]
  },
  {
   "cell_type": "markdown",
   "metadata": {},
   "source": [
    "### Naive Bayes"
   ]
  },
  {
   "cell_type": "markdown",
   "metadata": {},
   "source": [
    "#### w/ fit prior"
   ]
  },
  {
   "cell_type": "code",
   "execution_count": 16,
   "metadata": {
    "collapsed": false
   },
   "outputs": [
    {
     "name": "stdout",
     "output_type": "stream",
     "text": [
      "accuracy = 0.656982421875\n",
      "recall = 0.037037037037\n",
      "precision = 0.495238095238\n",
      "f1 = 0.0689198144467\n"
     ]
    }
   ],
   "source": [
    "nb = BernoulliNB(alpha=1,fit_prior=True)\n",
    "nb.fit(X_train, y_train)\n",
    "pred_nb = nb.predict(X_test)\n",
    "print('accuracy = ' + str(sklearn.metrics.accuracy_score(y_test, pred_nb)))\n",
    "print('recall = ' + str(sklearn.metrics.recall_score(y_test, pred_nb)))\n",
    "print('precision = ' + str(sklearn.metrics.precision_score(y_test, pred_nb)))\n",
    "print('f1 = ' + str(sklearn.metrics.f1_score(y_test, pred_nb)))"
   ]
  },
  {
   "cell_type": "markdown",
   "metadata": {},
   "source": [
    "#### w/ uniform prior"
   ]
  },
  {
   "cell_type": "code",
   "execution_count": 17,
   "metadata": {
    "collapsed": false
   },
   "outputs": [
    {
     "name": "stdout",
     "output_type": "stream",
     "text": [
      "accuracy = 0.54833984375\n",
      "recall = 0.526353276353\n",
      "precision = 0.384095634096\n",
      "f1 = 0.444110576923\n"
     ]
    }
   ],
   "source": [
    "nb = BernoulliNB(alpha=1,fit_prior=False)\n",
    "nb.fit(X_train, y_train)\n",
    "pred_nb = nb.predict(X_test)\n",
    "print('accuracy = ' + str(sklearn.metrics.accuracy_score(y_test, pred_nb)))\n",
    "print('recall = ' + str(sklearn.metrics.recall_score(y_test, pred_nb)))\n",
    "print('precision = ' + str(sklearn.metrics.precision_score(y_test, pred_nb)))\n",
    "print('f1 = ' + str(sklearn.metrics.f1_score(y_test, pred_nb)))"
   ]
  },
  {
   "cell_type": "markdown",
   "metadata": {},
   "source": [
    "### Random Forest"
   ]
  },
  {
   "cell_type": "markdown",
   "metadata": {},
   "source": [
    "#### 10 trees"
   ]
  },
  {
   "cell_type": "code",
   "execution_count": 18,
   "metadata": {
    "collapsed": false
   },
   "outputs": [
    {
     "name": "stdout",
     "output_type": "stream",
     "text": [
      "accuracy = 0.65869140625\n",
      "recall = 0.237891737892\n",
      "precision = 0.504531722054\n",
      "f1 = 0.323330106486\n"
     ]
    }
   ],
   "source": [
    "rf = RandomForestClassifier(n_estimators=10)\n",
    "rf.fit(X_train, y_train)\n",
    "pred_rf = rf.predict(X_test)\n",
    "print('accuracy = ' + str(sklearn.metrics.accuracy_score(y_test, pred_rf)))\n",
    "print('recall = ' + str(sklearn.metrics.recall_score(y_test, pred_rf)))\n",
    "print('precision = ' + str(sklearn.metrics.precision_score(y_test, pred_rf)))\n",
    "print('f1 = ' + str(sklearn.metrics.f1_score(y_test, pred_rf)))"
   ]
  },
  {
   "cell_type": "markdown",
   "metadata": {},
   "source": [
    "#### 20 trees"
   ]
  },
  {
   "cell_type": "code",
   "execution_count": 19,
   "metadata": {
    "collapsed": false
   },
   "outputs": [
    {
     "name": "stdout",
     "output_type": "stream",
     "text": [
      "accuracy = 0.654541015625\n",
      "recall = 0.226495726496\n",
      "precision = 0.491499227202\n",
      "f1 = 0.310092637738\n"
     ]
    }
   ],
   "source": [
    "rf = RandomForestClassifier(n_estimators=20)\n",
    "rf.fit(X_train, y_train)\n",
    "pred_rf = rf.predict(X_test)\n",
    "print('accuracy = ' + str(sklearn.metrics.accuracy_score(y_test, pred_rf)))\n",
    "print('recall = ' + str(sklearn.metrics.recall_score(y_test, pred_rf)))\n",
    "print('precision = ' + str(sklearn.metrics.precision_score(y_test, pred_rf)))\n",
    "print('f1 = ' + str(sklearn.metrics.f1_score(y_test, pred_rf)))"
   ]
  }
 ],
 "metadata": {
  "anaconda-cloud": {},
  "kernelspec": {
   "display_name": "Python 2",
   "language": "python",
   "name": "python2"
  },
  "language_info": {
   "codemirror_mode": {
    "name": "ipython",
    "version": 2
   },
   "file_extension": ".py",
   "mimetype": "text/x-python",
   "name": "python",
   "nbconvert_exporter": "python",
   "pygments_lexer": "ipython2",
   "version": "2.7.13"
  }
 },
 "nbformat": 4,
 "nbformat_minor": 0
}
